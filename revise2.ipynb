{
 "cells": [
  {
   "cell_type": "markdown",
   "id": "20fdb807",
   "metadata": {},
   "source": [
    "function- seperate block of code that performs specific task that can be reused\n",
    "2 types built in and user defined"
   ]
  },
  {
   "cell_type": "code",
   "execution_count": 3,
   "id": "805ce293",
   "metadata": {},
   "outputs": [
    {
     "name": "stdout",
     "output_type": "stream",
     "text": [
      "6\n"
     ]
    }
   ],
   "source": [
    "def fun():\n",
    "    num1 = int(input(\"Enter a number:\"))\n",
    "    num2 = int(input(\"Enter a number:\"))\n",
    "    print(num1+num2)\n",
    "fun()"
   ]
  },
  {
   "cell_type": "code",
   "execution_count": 6,
   "id": "c37a7b5d",
   "metadata": {},
   "outputs": [
    {
     "name": "stdout",
     "output_type": "stream",
     "text": [
      "6\n"
     ]
    }
   ],
   "source": [
    "#arguments and parameters\n",
    "#arguments - the values we send to function while calling\n",
    "#parameters - the vatiable we us to recieve values as arguments\n",
    "def fun(a,b):   #a,b are parameters\n",
    "    print(a+b)  \n",
    "num1 = int(input(\"Enter a number:\"))\n",
    "num2 = int(input(\"Enter a number:\"))\n",
    "fun(num1,num2)  #num1,num2 are arguments"
   ]
  },
  {
   "cell_type": "code",
   "execution_count": 9,
   "id": "62806fe2",
   "metadata": {},
   "outputs": [
    {
     "name": "stdout",
     "output_type": "stream",
     "text": [
      "2.0\n"
     ]
    }
   ],
   "source": [
    "#types of arguments, 1-positional arguments- according to position, args\n",
    "# 2-keyword arguments- according to keyword, key value pair, kwargs\n",
    "def fun(a,b):   \n",
    "    print(a/b)  \n",
    "num1 = int(input(\"Enter a number:\"))\n",
    "num2 = int(input(\"Enter a number:\"))\n",
    "fun(b=num1,a=num2)"
   ]
  },
  {
   "cell_type": "code",
   "execution_count": null,
   "id": "ddb16155",
   "metadata": {},
   "outputs": [
    {
     "name": "stdout",
     "output_type": "stream",
     "text": [
      "(1, 2, 3, 4, 5, 6, 7, 8)\n",
      "Sum of all numbers 36\n"
     ]
    }
   ],
   "source": [
    "# *args and **kwargs:\n",
    "#args\n",
    "def sum(*a):\n",
    "    print(a)    #stored as a tuple\n",
    "    b = 0\n",
    "    for num in a:\n",
    "        b += num\n",
    "    print(\"Sum of all numbers\",b)\n",
    "sum(1,2,3,4,5,6,7,8)"
   ]
  },
  {
   "cell_type": "code",
   "execution_count": null,
   "id": "a7fdac98",
   "metadata": {},
   "outputs": [
    {
     "name": "stdout",
     "output_type": "stream",
     "text": [
      "{'a': 1, 'b': 2, 'c': 3, 'd': 4}\n"
     ]
    }
   ],
   "source": [
    "#kwargs:\n",
    "def aaa(**k):\n",
    "    print(k)    #stored in dictionary\n",
    "aaa(a=1,b=2,c=3,d=4)"
   ]
  },
  {
   "cell_type": "code",
   "execution_count": null,
   "id": "590d580b",
   "metadata": {},
   "outputs": [
    {
     "name": "stdout",
     "output_type": "stream",
     "text": [
      "(1, 2, 3)\n",
      "{'a': 4, 'b': 5}\n"
     ]
    }
   ],
   "source": [
    "def bbb(*a,**k):\n",
    "    print(a)\n",
    "    print(k)\n",
    "bbb(1,2,3,a=4,b=5)  #positional cannot follow keyword"
   ]
  },
  {
   "cell_type": "code",
   "execution_count": 23,
   "id": "22c50f26",
   "metadata": {},
   "outputs": [
    {
     "name": "stdout",
     "output_type": "stream",
     "text": [
      "Thursday\n"
     ]
    }
   ],
   "source": [
    "#match-case: same as switch case\n",
    "day = int(input(\"Enter number of day\"))\n",
    "match day:\n",
    "    case 1:\n",
    "        print(\"sunday\")\n",
    "    case 2:\n",
    "        print(\"monday\")  \n",
    "    case 3:\n",
    "        print(\"Tuesday\")  \n",
    "    case 4:\n",
    "        print(\"Wednesday\")  \n",
    "    case 5:\n",
    "        print(\"Thursday\")  \n",
    "    case 6:\n",
    "        print(\"Friday\")  \n",
    "    case 7:\n",
    "        print(\"Saturday\")  \n",
    "    case _:\n",
    "        print(\"Please enter value between 1 and 7\") "
   ]
  },
  {
   "cell_type": "code",
   "execution_count": 10,
   "id": "67ab5704",
   "metadata": {},
   "outputs": [
    {
     "name": "stdout",
     "output_type": "stream",
     "text": [
      "20\n",
      "-3\n"
     ]
    }
   ],
   "source": [
    "#simple calculator, function and loop,match and elif\n",
    "while True:\n",
    "    ch = int(input(\"Enter 1 for addition, 2 for subtraction, 3 for multiplication, 4 for division, 5 for exit\"))\n",
    "    match ch:\n",
    "        case 1:\n",
    "            a = int(input(\"Enter first number: \"))\n",
    "            b = int(input(\"Enter second number: \"))\n",
    "            print(a+b)\n",
    "        case 2:\n",
    "            a = int(input(\"Enter first number: \"))\n",
    "            b = int(input(\"Enter second number: \"))\n",
    "            print(a-b)\n",
    "        case 3:\n",
    "            a = int(input(\"Enter first number: \"))\n",
    "            b = int(input(\"Enter second number: \"))\n",
    "            print(a*b)\n",
    "        case 4:\n",
    "            a = int(input(\"Enter first number: \"))\n",
    "            b = int(input(\"Enter second number: \"))\n",
    "            print(a/b)\n",
    "        case 5:\n",
    "            break\n",
    "        case _:\n",
    "            print(\"Not valid input\")"
   ]
  },
  {
   "cell_type": "code",
   "execution_count": 12,
   "id": "d16667e6",
   "metadata": {},
   "outputs": [],
   "source": [
    "while True:\n",
    "    ch = int(input(\"Enter 1 for addition, 2 for subtraction, 3 for multiplication, 4 for division, 5 for exit\"))\n",
    "    if ch == 1:\n",
    "        a = int(input(\"Enter first number: \"))\n",
    "        b = int(input(\"Enter second number: \"))\n",
    "        print(a+b)\n",
    "    elif ch == 2:\n",
    "        a = int(input(\"Enter first number: \"))\n",
    "        b = int(input(\"Enter second number: \"))\n",
    "        print(a-b)\n",
    "    elif ch == 3:\n",
    "        a = int(input(\"Enter first number: \"))\n",
    "        b = int(input(\"Enter second number: \"))\n",
    "        print(a*b)\n",
    "    elif ch == 4:\n",
    "        a = int(input(\"Enter first number: \"))\n",
    "        b = int(input(\"Enter second number: \"))\n",
    "        print(a/b)\n",
    "    elif ch == 5:\n",
    "        break\n",
    "    else:\n",
    "        print(\"Invalid input\")"
   ]
  }
 ],
 "metadata": {
  "kernelspec": {
   "display_name": "myenv",
   "language": "python",
   "name": "python3"
  },
  "language_info": {
   "codemirror_mode": {
    "name": "ipython",
    "version": 3
   },
   "file_extension": ".py",
   "mimetype": "text/x-python",
   "name": "python",
   "nbconvert_exporter": "python",
   "pygments_lexer": "ipython3",
   "version": "3.11.13"
  }
 },
 "nbformat": 4,
 "nbformat_minor": 5
}
