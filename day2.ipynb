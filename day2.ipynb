{
 "cells": [
  {
   "cell_type": "code",
   "execution_count": 1,
   "id": "66677396",
   "metadata": {},
   "outputs": [],
   "source": [
    "#dictionary {\"key\": \"value\"}, mutable, unordered"
   ]
  },
  {
   "cell_type": "code",
   "execution_count": 2,
   "id": "07762414",
   "metadata": {},
   "outputs": [
    {
     "name": "stdout",
     "output_type": "stream",
     "text": [
      "{'name': 'John', 'apple': 5, 'banana': 10}\n"
     ]
    }
   ],
   "source": [
    "dictionary1 = {\n",
    "    \"name\" : \"John\",\n",
    "    \"apple\" : 5,\n",
    "    \"banana\" : 10,\n",
    "}\n",
    "print(dictionary1)  # printing the dictionary"
   ]
  },
  {
   "cell_type": "code",
   "execution_count": 3,
   "id": "e8793ebb",
   "metadata": {},
   "outputs": [
    {
     "name": "stdout",
     "output_type": "stream",
     "text": [
      "{'name': 'John', 'banana': 10}\n"
     ]
    }
   ],
   "source": [
    "dictionary1.pop(\"apple\")  # removing the key \"apple\" from the dictionary\n",
    "print(dictionary1)  # printing the dictionary after removing \"apple\""
   ]
  },
  {
   "cell_type": "code",
   "execution_count": 4,
   "id": "201b91f2",
   "metadata": {},
   "outputs": [
    {
     "name": "stdout",
     "output_type": "stream",
     "text": [
      "{'name': 'John'}\n"
     ]
    }
   ],
   "source": [
    "dictionary1.popitem()  # removing the last inserted item from the dictionary\n",
    "print(dictionary1)  # printing the dictionary after removing the last item"
   ]
  },
  {
   "cell_type": "code",
   "execution_count": 5,
   "id": "fb2b228b",
   "metadata": {},
   "outputs": [
    {
     "name": "stdout",
     "output_type": "stream",
     "text": [
      "{3: 9}\n"
     ]
    }
   ],
   "source": [
    "squares = {2:4, 3:9}\n",
    "del squares[2]  # deleting the key 2 from the dictionary\n",
    "print(squares)  # printing the dictionary after deletion"
   ]
  },
  {
   "cell_type": "code",
   "execution_count": 6,
   "id": "a85ceb88",
   "metadata": {},
   "outputs": [
    {
     "name": "stdout",
     "output_type": "stream",
     "text": [
      "{}\n"
     ]
    }
   ],
   "source": [
    "squares.clear()  # clearing the dictionary\n",
    "print(squares)  # printing the dictionary after clearing it"
   ]
  },
  {
   "cell_type": "code",
   "execution_count": 7,
   "id": "be6ce3b6",
   "metadata": {},
   "outputs": [
    {
     "name": "stdout",
     "output_type": "stream",
     "text": [
      "a is not equal to b\n"
     ]
    }
   ],
   "source": [
    "# conditional statements\n",
    "a,b = 5,2\n",
    "if a != b:\n",
    "    print(\"a is not equal to b\")\n",
    "else:\n",
    "    print(\"a is equal to b\")"
   ]
  },
  {
   "cell_type": "code",
   "execution_count": 11,
   "id": "90d0ffe3",
   "metadata": {},
   "outputs": [
    {
     "name": "stdout",
     "output_type": "stream",
     "text": [
      "string\n"
     ]
    }
   ],
   "source": [
    "str1 = input(\"Enter any str1: \")\n",
    "print(str1)  # printing the input integer"
   ]
  },
  {
   "cell_type": "code",
   "execution_count": 10,
   "id": "53795767",
   "metadata": {},
   "outputs": [
    {
     "name": "stdout",
     "output_type": "stream",
     "text": [
      "3\n"
     ]
    }
   ],
   "source": [
    "num = int(input(\"Enter any integer: \"))\n",
    "print(num)  # printing the input integer"
   ]
  },
  {
   "cell_type": "code",
   "execution_count": null,
   "id": "41bdc37e",
   "metadata": {},
   "outputs": [
    {
     "name": "stdout",
     "output_type": "stream",
     "text": [
      "b is the largest\n"
     ]
    }
   ],
   "source": [
    "# greatest of three numbers\n",
    "a,b,c = 5,10,2\n",
    "if a > b and a > c:\n",
    "    print(\"a is the largest\")\n",
    "elif b > a and b > c:\n",
    "    print(\"b is the largest\")\n",
    "else:\n",
    "    print(\"c is the largest\")"
   ]
  },
  {
   "cell_type": "code",
   "execution_count": 15,
   "id": "2cf92043",
   "metadata": {},
   "outputs": [
    {
     "name": "stdout",
     "output_type": "stream",
     "text": [
      "Odd\n"
     ]
    }
   ],
   "source": [
    "# check if a number is positive, negative, or zero\n",
    "number1 = int(input(\"Enter number: \"))\n",
    "if number1 % 2 == 0:\n",
    "    print(\"Even\")\n",
    "else:\n",
    "    print(\"Odd\")"
   ]
  },
  {
   "cell_type": "code",
   "execution_count": null,
   "id": "6c63ef45",
   "metadata": {},
   "outputs": [
    {
     "name": "stdout",
     "output_type": "stream",
     "text": [
      "Positive\n"
     ]
    }
   ],
   "source": [
    "# check if a number is positive, negative, or zero\n",
    "number2 = int(input(\"Enter number: \"))\n",
    "if number2 > 0:\n",
    "    print(\"Positive\")\n",
    "elif number2 < 0:\n",
    "    print(\"Negative\")\n",
    "elif number2 == 0:\n",
    "    print(\"Zero\")"
   ]
  },
  {
   "cell_type": "code",
   "execution_count": 17,
   "id": "2ba51f72",
   "metadata": {},
   "outputs": [
    {
     "name": "stdout",
     "output_type": "stream",
     "text": [
      "a is present in the string\n"
     ]
    }
   ],
   "source": [
    "# check weather a alphabet is in a string or not\n",
    "str2 = input(\"Enter a string\")\n",
    "for i in str2:\n",
    "    if i == 'a':\n",
    "        print(\"a is present in the string\")"
   ]
  },
  {
   "cell_type": "code",
   "execution_count": 18,
   "id": "5898566b",
   "metadata": {},
   "outputs": [
    {
     "name": "stdout",
     "output_type": "stream",
     "text": [
      "True\n"
     ]
    }
   ],
   "source": [
    "str2 = input(\"Enter a string\")\n",
    "print('a' in str2)  # checking if 'a' is present in the string"
   ]
  },
  {
   "cell_type": "code",
   "execution_count": 19,
   "id": "8f8e17c9",
   "metadata": {},
   "outputs": [
    {
     "name": "stdout",
     "output_type": "stream",
     "text": [
      "Consonant\n"
     ]
    }
   ],
   "source": [
    "# program to check if a character is a vowel or a consonant\n",
    "char = input(\"Enter a character\")\n",
    "if char in ['a', 'e', 'i', 'o', 'u', 'A', 'E', 'I', 'O', 'U']:\n",
    "    print(\"Vowel\")\n",
    "else:\n",
    "    print(\"Consonant\")"
   ]
  },
  {
   "cell_type": "code",
   "execution_count": 20,
   "id": "fbc3a586",
   "metadata": {},
   "outputs": [
    {
     "name": "stdout",
     "output_type": "stream",
     "text": [
      "Consonant\n"
     ]
    }
   ],
   "source": [
    "char = input(\"Enter a character\")\n",
    "for i in char:\n",
    "    if i in ['a', 'e', 'i', 'o', 'u', 'A', 'E', 'I', 'O', 'U']:\n",
    "        print(\"Vowel\")\n",
    "    else:\n",
    "        print(\"Consonant\")"
   ]
  },
  {
   "cell_type": "code",
   "execution_count": null,
   "id": "846bceaa",
   "metadata": {},
   "outputs": [
    {
     "name": "stdout",
     "output_type": "stream",
     "text": [
      "D\n"
     ]
    }
   ],
   "source": [
    "marks = int(input(\"Enter a marks:\"))\n",
    "if marks >= 90 and marks <= 100:\n",
    "    print(\"A\")\n",
    "elif marks >= 80 and marks < 90:\n",
    "    print(\"B\")\n",
    "elif marks >= 70 and marks < 80:\n",
    "    print(\"C\")\n",
    "elif marks >= 60 and marks < 70:\n",
    "    print(\"D\")\n",
    "elif marks >= 50 and marks < 60:\n",
    "    print(\"E\")\n",
    "else:\n",
    "    print(\"F\")"
   ]
  },
  {
   "cell_type": "code",
   "execution_count": null,
   "id": "fba158e8",
   "metadata": {},
   "outputs": [],
   "source": []
  }
 ],
 "metadata": {
  "kernelspec": {
   "display_name": "myenv",
   "language": "python",
   "name": "python3"
  },
  "language_info": {
   "codemirror_mode": {
    "name": "ipython",
    "version": 3
   },
   "file_extension": ".py",
   "mimetype": "text/x-python",
   "name": "python",
   "nbconvert_exporter": "python",
   "pygments_lexer": "ipython3",
   "version": "3.11.13"
  }
 },
 "nbformat": 4,
 "nbformat_minor": 5
}
