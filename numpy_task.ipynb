{
 "cells": [
  {
   "cell_type": "code",
   "execution_count": null,
   "id": "3d4f47a6",
   "metadata": {},
   "outputs": [],
   "source": [
    "# Create a NumPy array of numbers from 10 to 50.\n",
    "\n",
    "# Generate a 3×3 identity matrix.\n",
    "\n",
    "# Create a NumPy array of 10 random integers between 1 and 100.\n",
    "\n",
    "# Find the maximum and minimum of an array.\n",
    "\n",
    "# Reshape a 1D array of 12 elements into a 3×4 matrix.\n",
    "\n",
    "# Create an array of all even numbers between 50 and 100.\n",
    "\n",
    "# Given an array [1,2,3,4,5], compute the square of each element.\n",
    "\n",
    "# Create a 5×5 array of random numbers and find its mean.\n",
    "\n",
    "# Find the index of the maximum element in [10, 20, 50, 40, 30].\n",
    "\n",
    "# Create two arrays and perform element-wise addition, subtraction, multiplication, and division.\n"
   ]
  },
  {
   "cell_type": "code",
   "execution_count": 1,
   "id": "7a0b7132",
   "metadata": {},
   "outputs": [
    {
     "name": "stdout",
     "output_type": "stream",
     "text": [
      "Array 10 to 50:\n",
      " [10 11 12 13 14 15 16 17 18 19 20 21 22 23 24 25 26 27 28 29 30 31 32 33\n",
      " 34 35 36 37 38 39 40 41 42 43 44 45 46 47 48 49 50]\n"
     ]
    }
   ],
   "source": [
    "# Create a NumPy array of numbers from 10 to 50.\n",
    "\n",
    "import numpy as np\n",
    "\n",
    "arr1 = np.arange(10, 51)\n",
    "print(\"Array 10 to 50:\\n\", arr1)"
   ]
  },
  {
   "cell_type": "code",
   "execution_count": 2,
   "id": "17768b05",
   "metadata": {},
   "outputs": [
    {
     "name": "stdout",
     "output_type": "stream",
     "text": [
      "\n",
      "3x3 Identity Matrix:\n",
      " [[1. 0. 0.]\n",
      " [0. 1. 0.]\n",
      " [0. 0. 1.]]\n"
     ]
    }
   ],
   "source": [
    "# Generate a 3×3 identity matrix.\n",
    "identity = np.eye(3)\n",
    "print(\"\\n3x3 Identity Matrix:\\n\", identity)"
   ]
  },
  {
   "cell_type": "code",
   "execution_count": null,
   "id": "be9532e4",
   "metadata": {},
   "outputs": [
    {
     "name": "stdout",
     "output_type": "stream",
     "text": [
      "\n",
      "10 Random Integers (1-100):\n",
      " [58 19 74 27 48 23 35 29 77 94]\n"
     ]
    }
   ],
   "source": [
    "# Create a NumPy array of 10 random integers between 1 and 100.\n",
    "rand_ints = np.random.randint(1, 101, 10)\n",
    "print(\"\\n10 Random Integers (1-100):\\n\", rand_ints)"
   ]
  },
  {
   "cell_type": "code",
   "execution_count": null,
   "id": "1c3b2ccf",
   "metadata": {},
   "outputs": [
    {
     "name": "stdout",
     "output_type": "stream",
     "text": [
      "\n",
      "Max: 30\n",
      "Min: 1\n"
     ]
    }
   ],
   "source": [
    "# Find the maximum and minimum of an array.\n",
    "sample_arr = np.array([5, 12, 7, 30, 1, 18])\n",
    "print(\"\\nMax:\", np.max(sample_arr))\n",
    "print(\"Min:\", np.min(sample_arr))"
   ]
  },
  {
   "cell_type": "code",
   "execution_count": null,
   "id": "8d116d2c",
   "metadata": {},
   "outputs": [
    {
     "name": "stdout",
     "output_type": "stream",
     "text": [
      "\n",
      "3x4 Matrix:\n",
      " [[ 1  2  3  4]\n",
      " [ 5  6  7  8]\n",
      " [ 9 10 11 12]]\n"
     ]
    }
   ],
   "source": [
    "# Reshape a 1D array of 12 elements into a 3×4 matrix.\n",
    "arr2 = np.arange(1, 13).reshape(3, 4)\n",
    "print(\"\\n3x4 Matrix:\\n\", arr2)"
   ]
  },
  {
   "cell_type": "code",
   "execution_count": null,
   "id": "a2ff8da1",
   "metadata": {},
   "outputs": [
    {
     "name": "stdout",
     "output_type": "stream",
     "text": [
      "\n",
      "Even numbers 50–100:\n",
      " [ 50  52  54  56  58  60  62  64  66  68  70  72  74  76  78  80  82  84\n",
      "  86  88  90  92  94  96  98 100]\n"
     ]
    }
   ],
   "source": [
    "# Create an array of all even numbers between 50 and 100.\n",
    "even_arr = np.arange(50, 101)   # or just use --> even_arr = np.arange(50, 101,2)\n",
    "even_arr = even_arr[even_arr  %2 == 0]\n",
    "print(\"\\nEven numbers 50–100:\\n\", even_arr)"
   ]
  },
  {
   "cell_type": "code",
   "execution_count": null,
   "id": "12770c27",
   "metadata": {},
   "outputs": [
    {
     "name": "stdout",
     "output_type": "stream",
     "text": [
      "\n",
      "Squares:\n",
      " [ 1  4  9 16 25]\n"
     ]
    }
   ],
   "source": [
    "# Given an array [1,2,3,4,5], compute the square of each element.\n",
    "arr3 = np.array([1, 2, 3, 4, 5])\n",
    "print(\"\\nSquares:\\n\", arr3 ** 2)"
   ]
  },
  {
   "cell_type": "code",
   "execution_count": null,
   "id": "54a749b7",
   "metadata": {},
   "outputs": [
    {
     "name": "stdout",
     "output_type": "stream",
     "text": [
      "\n",
      "5x5 Random Array:\n",
      " [[0.47255476 0.12993197 0.9349871  0.05533265 0.95400337]\n",
      " [0.81488159 0.90516587 0.7646     0.6587649  0.04976143]\n",
      " [0.34352839 0.31562754 0.89458321 0.21778724 0.30181065]\n",
      " [0.75747388 0.2121842  0.61632781 0.0413519  0.8751657 ]\n",
      " [0.53349923 0.3825161  0.63403665 0.01447557 0.19537131]]\n",
      "Mean: 0.4830289215163211\n"
     ]
    }
   ],
   "source": [
    "# Create a 5×5 array of random numbers and find its mean.\n",
    "rand_arr = np.random.rand(5, 5)\n",
    "print(\"\\n5x5 Random Array:\\n\", rand_arr)\n",
    "print(\"Mean:\", np.mean(rand_arr))"
   ]
  },
  {
   "cell_type": "code",
   "execution_count": null,
   "id": "c16dcfc2",
   "metadata": {},
   "outputs": [
    {
     "name": "stdout",
     "output_type": "stream",
     "text": [
      "\n",
      "Index of max element: 2\n"
     ]
    }
   ],
   "source": [
    "# Find the index of the maximum element in [10, 20, 50, 40, 30].\n",
    "arr4 = np.array([10, 20, 50, 40, 30])\n",
    "print(\"\\nIndex of max element:\", np.argmax(arr4))"
   ]
  },
  {
   "cell_type": "code",
   "execution_count": 15,
   "id": "40d91832",
   "metadata": {},
   "outputs": [
    {
     "name": "stdout",
     "output_type": "stream",
     "text": [
      "\n",
      "Element-wise Addition: [12 24 36]\n",
      "Element-wise Subtraction: [ 8 16 24]\n",
      "Element-wise Multiplication: [ 20  80 180]\n",
      "Element-wise Division: [5. 5. 5.]\n"
     ]
    }
   ],
   "source": [
    "# Create two arrays and perform element-wise addition, subtraction, multiplication, and division.\n",
    "a = np.array([10, 20, 30])\n",
    "b = np.array([2, 4, 6])\n",
    "print(\"\\nElement-wise Addition:\", a + b)\n",
    "print(\"Element-wise Subtraction:\", a - b)\n",
    "print(\"Element-wise Multiplication:\", a * b)\n",
    "print(\"Element-wise Division:\", a / b)"
   ]
  },
  {
   "cell_type": "code",
   "execution_count": null,
   "id": "b5a1684d",
   "metadata": {},
   "outputs": [],
   "source": []
  }
 ],
 "metadata": {
  "kernelspec": {
   "display_name": "myenv",
   "language": "python",
   "name": "python3"
  },
  "language_info": {
   "codemirror_mode": {
    "name": "ipython",
    "version": 3
   },
   "file_extension": ".py",
   "mimetype": "text/x-python",
   "name": "python",
   "nbconvert_exporter": "python",
   "pygments_lexer": "ipython3",
   "version": "3.11.13"
  }
 },
 "nbformat": 4,
 "nbformat_minor": 5
}
