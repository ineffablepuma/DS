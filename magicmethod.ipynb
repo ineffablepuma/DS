{
 "cells": [
  {
   "cell_type": "code",
   "execution_count": null,
   "id": "1a5b076d",
   "metadata": {},
   "outputs": [
    {
     "name": "stdout",
     "output_type": "stream",
     "text": [
      "str called\n",
      "call is called\n"
     ]
    }
   ],
   "source": [
    "#magic method: sepecial methods that start and end with __ and the run run automatically without explicitly calling them\n",
    "# we cant build custom magic method\n",
    "\n",
    "class Car:\n",
    "    def __str__(slef):\n",
    "        return \"str called\"\n",
    "    \n",
    "    def __call__(self):\n",
    "        print(\"call is called\")\n",
    "\n",
    "c1 = Car()\n",
    "print(c1)   #__str__\n",
    "c1()    #__call__"
   ]
  },
  {
   "cell_type": "code",
   "execution_count": 4,
   "id": "a4db39a9",
   "metadata": {},
   "outputs": [
    {
     "name": "stdout",
     "output_type": "stream",
     "text": [
      "9\n"
     ]
    }
   ],
   "source": [
    "class Car:\n",
    "    name = \"Chevrolet\"\n",
    "    def __len__(self, value):\n",
    "            count = 0\n",
    "            for i in value:\n",
    "                count += 1 \n",
    "            return count\n",
    "c1 = Car()\n",
    "print(len(c1.name))"
   ]
  },
  {
   "cell_type": "code",
   "execution_count": null,
   "id": "a191f51d",
   "metadata": {},
   "outputs": [],
   "source": []
  }
 ],
 "metadata": {
  "kernelspec": {
   "display_name": "myenv",
   "language": "python",
   "name": "python3"
  },
  "language_info": {
   "codemirror_mode": {
    "name": "ipython",
    "version": 3
   },
   "file_extension": ".py",
   "mimetype": "text/x-python",
   "name": "python",
   "nbconvert_exporter": "python",
   "pygments_lexer": "ipython3",
   "version": "3.11.13"
  }
 },
 "nbformat": 4,
 "nbformat_minor": 5
}
