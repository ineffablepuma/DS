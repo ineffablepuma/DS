{
 "cells": [
  {
   "cell_type": "code",
   "execution_count": 2,
   "id": "13e37f66",
   "metadata": {},
   "outputs": [],
   "source": [
    "# inheritance, polymorphism, encapsulation, abstraction"
   ]
  },
  {
   "cell_type": "code",
   "execution_count": 10,
   "id": "4e926ca4",
   "metadata": {},
   "outputs": [
    {
     "name": "stdout",
     "output_type": "stream",
     "text": [
      "legs\n",
      "Walking\n"
     ]
    }
   ],
   "source": [
    "#single inheritance\n",
    "class parent:\n",
    "    organ = \"legs\"\n",
    "    def walk(self):\n",
    "        print(\"Walking\")\n",
    "\n",
    "class child(parent):\n",
    "    pass\n",
    "\n",
    "c1 = child()\n",
    "print(c1.organ)\n",
    "c1.walk()"
   ]
  },
  {
   "cell_type": "code",
   "execution_count": null,
   "id": "f35b5aeb",
   "metadata": {},
   "outputs": [
    {
     "name": "stdout",
     "output_type": "stream",
     "text": [
      "eyes\n",
      "Walking\n"
     ]
    }
   ],
   "source": [
    "class parent:\n",
    "    organ = \"legs\"\n",
    "    def walk(self):\n",
    "        print(\"Walking\")\n",
    "\n",
    "class child(parent):\n",
    "    organ = \"eyes\"\n",
    "\n",
    "c1 = child()\n",
    "print(c1.organ) # overriding: eyes will print because its own attributes will be prioritized\n",
    "c1.walk()"
   ]
  },
  {
   "cell_type": "code",
   "execution_count": 18,
   "id": "656b9c51",
   "metadata": {},
   "outputs": [
    {
     "name": "stdout",
     "output_type": "stream",
     "text": [
      "eyes\n",
      "Parent is walking\n",
      "kind\n"
     ]
    }
   ],
   "source": [
    "#multiple inheritance: the child class will inherite properties from multiple class\n",
    "\n",
    "class grandparents:\n",
    "    behaviour = \"kind\"\n",
    "    organ = \"legs\"\n",
    "    def walk(self):\n",
    "        print(\"Grandparent is walking\")\n",
    "\n",
    "class parent:\n",
    "    organ = \"legs\"\n",
    "    def walk(self):\n",
    "        print(\"Parent is walking\")\n",
    "\n",
    "class child(parent, grandparents):\n",
    "    organ = \"eyes\"\n",
    "\n",
    "c1 = child()\n",
    "print(c1.organ) \n",
    "c1.walk()\n",
    "print(c1.behaviour)"
   ]
  },
  {
   "cell_type": "code",
   "execution_count": 19,
   "id": "ef58ef17",
   "metadata": {},
   "outputs": [
    {
     "name": "stdout",
     "output_type": "stream",
     "text": [
      "eyes\n",
      "Parent is walking\n",
      "kind\n"
     ]
    }
   ],
   "source": [
    "# multi-level:\n",
    "class grandparents:\n",
    "    behaviour = \"kind\"\n",
    "    organ = \"legs\"\n",
    "    def walk(self):\n",
    "        print(\"Grandparent is walking\")\n",
    "\n",
    "class parent(grandparents):\n",
    "    organ = \"legs\"\n",
    "    def walk(self):\n",
    "        print(\"Parent is walking\")\n",
    "\n",
    "class child(parent):\n",
    "    organ = \"eyes\"\n",
    "\n",
    "c1 = child()\n",
    "print(c1.organ) \n",
    "c1.walk()\n",
    "print(c1.behaviour)"
   ]
  },
  {
   "cell_type": "code",
   "execution_count": 20,
   "id": "d4ceeb52",
   "metadata": {},
   "outputs": [
    {
     "name": "stdout",
     "output_type": "stream",
     "text": [
      "Parent is walking\n",
      "Parent is walking\n"
     ]
    }
   ],
   "source": [
    "#hierarchical inheritance:\n",
    "\n",
    "class parent:\n",
    "    organ = \"legs\"\n",
    "    def walk(self):\n",
    "        print(\"Parent is walking\")\n",
    "\n",
    "class child1(parent):\n",
    "    pass\n",
    "\n",
    "class child2(parent):\n",
    "    pass\n",
    "\n",
    "c1 = child1()\n",
    "c1.walk()\n",
    "child2().walk()"
   ]
  },
  {
   "cell_type": "code",
   "execution_count": 1,
   "id": "0c0dc720",
   "metadata": {},
   "outputs": [
    {
     "name": "stdout",
     "output_type": "stream",
     "text": [
      "From B\n",
      "[<class '__main__.D'>, <class '__main__.B'>, <class '__main__.C'>, <class '__main__.A'>, <class 'object'>]\n"
     ]
    }
   ],
   "source": [
    "# MRO- Method Resolution order: determines the order in which python looks for a method or attribute\n",
    "# usually in \n",
    "# There is a method to find the MRO list: ClassName.mro()\n",
    "\n",
    "class A:\n",
    "    def show(self):\n",
    "        print(\"From A\")\n",
    "\n",
    "class B(A):\n",
    "    def show(self):\n",
    "        print(\"From B\")\n",
    "\n",
    "class C(A):\n",
    "    def show(self):\n",
    "        print(\"From C\")\n",
    "\n",
    "class D(B, C):\n",
    "    pass\n",
    "\n",
    "d = D()\n",
    "d.show()  # Output: From B\n",
    "print(D.mro())\n"
   ]
  },
  {
   "cell_type": "code",
   "execution_count": 1,
   "id": "634efbf9",
   "metadata": {},
   "outputs": [
    {
     "name": "stdout",
     "output_type": "stream",
     "text": [
      "From B\n",
      "[<class '__main__.D'>, <class '__main__.B'>, <class '__main__.C'>, <class '__main__.A'>, <class 'object'>]\n"
     ]
    }
   ],
   "source": [
    "class A:\n",
    "    def show(self):\n",
    "        print(\"From A\")\n",
    "\n",
    "class B(A):\n",
    "    def show(self):\n",
    "        print(\"From B\")\n",
    "\n",
    "class C(A):\n",
    "    def show(self):\n",
    "        print(\"From C\")\n",
    "\n",
    "class D(B, C):\n",
    "    pass\n",
    "\n",
    "d = D()\n",
    "d.show()  # Output: From B\n",
    "print(D.mro())"
   ]
  },
  {
   "cell_type": "code",
   "execution_count": 2,
   "id": "d4ad2ae8",
   "metadata": {},
   "outputs": [
    {
     "name": "stdout",
     "output_type": "stream",
     "text": [
      "[<class '__main__.C'>, <class '__main__.A'>, <class '__main__.X'>, <class '__main__.B'>, <class '__main__.Y'>, <class '__main__.Z'>, <class 'object'>]\n"
     ]
    }
   ],
   "source": [
    "class X: \n",
    "    pass\n",
    "class Y:\n",
    "    pass\n",
    "class Z: \n",
    "    pass\n",
    "\n",
    "class A(X, Y): \n",
    "    pass\n",
    "class B(Y, Z): \n",
    "    pass\n",
    "class C(A, B, Z): \n",
    "    pass\n",
    "\n",
    "print(C.mro())"
   ]
  },
  {
   "cell_type": "code",
   "execution_count": null,
   "id": "dd821317",
   "metadata": {},
   "outputs": [
    {
     "name": "stdout",
     "output_type": "stream",
     "text": [
      "Utsav is 22 years old and has 85 marks\n",
      "Ram is 24 years old and has 89 marks\n",
      "Utsav\n"
     ]
    }
   ],
   "source": [
    "#super\n",
    "\n",
    "class Student:\n",
    "    name = \"Utsav\"\n",
    "    age = 22\n",
    "    marks = 85\n",
    "\n",
    "    def printinfo(self):\n",
    "        print(f\"{self.name} is {self.age} years old and has {self.marks} marks\")\n",
    "\n",
    "class Monitor(Student):\n",
    "    name = \"Ram\"\n",
    "    age = 24\n",
    "    marks = 89\n",
    "    # def printinfo(self):\n",
    "    #     print(f\"{self.name} is {self.age} years old and has {self.marks} marks\")\n",
    "    # we use super() method to access the properties of parent class from the inside the chil method\n",
    "    def printinfo(self):\n",
    "        super().printinfo()\n",
    "        self.name = super().name    #accessing parent attribute\n",
    "        print(self.name)\n",
    "#DRY: don't repeat yourself\n",
    "\n",
    "s1 = Student()\n",
    "s1.printinfo()\n",
    "m1 = Monitor()\n",
    "m1.printinfo()"
   ]
  },
  {
   "cell_type": "code",
   "execution_count": 10,
   "id": "8bae3dc8",
   "metadata": {},
   "outputs": [
    {
     "name": "stdout",
     "output_type": "stream",
     "text": [
      "Book opend\n",
      "It is 'Great gatsby' \n"
     ]
    }
   ],
   "source": [
    "#create a parent class and child class and access the attributes and method of parent class from child class\n",
    "class Book:\n",
    "    name = \"Great gatsby\"\n",
    "    def Open(self):\n",
    "        print(\"Book opend\")\n",
    "class eBook(Book):\n",
    "    def OpenEbook(self):\n",
    "        super().Open()\n",
    "        self.name= super().name\n",
    "        print(f\"It is '{self.name}' \")\n",
    "\n",
    "b1 = eBook()\n",
    "b1.OpenEbook()"
   ]
  },
  {
   "cell_type": "code",
   "execution_count": 11,
   "id": "955ae7c1",
   "metadata": {},
   "outputs": [
    {
     "name": "stdout",
     "output_type": "stream",
     "text": [
      "[<class '__main__.D'>, <class '__main__.B'>, <class '__main__.C'>, <class '__main__.A'>, <class 'object'>]\n",
      "A\n",
      "C\n",
      "B\n",
      "D\n"
     ]
    }
   ],
   "source": [
    "class A:\n",
    "    def show(self):\n",
    "        print(\"A\")\n",
    "class B(A):\n",
    "    def show(self):\n",
    "        super().show()\n",
    "        print(\"B\")\n",
    "class C(A):\n",
    "    def show(self):\n",
    "        super().show()\n",
    "        print(\"C\")\n",
    "class D(B,C):   #super bata paile B ma janxa ani C ma janxa\n",
    "    def show(self):\n",
    "        super().show()\n",
    "        print(\"D\")\n",
    "\n",
    "print(D.mro())\n",
    "obj = D()\n",
    "obj.show()"
   ]
  },
  {
   "cell_type": "code",
   "execution_count": 13,
   "id": "2322c8ca",
   "metadata": {},
   "outputs": [],
   "source": [
    "#constructor : is a method which is called automatically when a new object of class is created.\n",
    "# __init__ is the constructor\n",
    "\n",
    "class Student:\n",
    "    name = \"Utsav\"\n",
    "    age = 21\n",
    "    marks = 80\n",
    "\n",
    "s1 = Student()"
   ]
  },
  {
   "cell_type": "code",
   "execution_count": 16,
   "id": "ebe44ccd",
   "metadata": {},
   "outputs": [
    {
     "name": "stdout",
     "output_type": "stream",
     "text": [
      "Called itself\n"
     ]
    }
   ],
   "source": [
    "class Student:\n",
    "    def __init__(self):\n",
    "        print(\"Called itself\")\n",
    "s1 = Student()"
   ]
  },
  {
   "cell_type": "code",
   "execution_count": 1,
   "id": "270a586a",
   "metadata": {},
   "outputs": [
    {
     "name": "stdout",
     "output_type": "stream",
     "text": [
      "Utsav,21,84,None\n"
     ]
    }
   ],
   "source": [
    "#There are two types of attribute\n",
    "# 1. Class attribute: This doesnot change according to object\n",
    "# 2. Object attribute: This changes according to object\n",
    "\n",
    "class Student:\n",
    "    name = \"ABC\"\n",
    "    marks = 0\n",
    "    subject = \"None\"    #class aatribute\n",
    "\n",
    "    def __init__(self, name, age, marks):  #object attribute\n",
    "        self.name = name \n",
    "        self.age = age  #object attribute\n",
    "        self.marks = marks\n",
    "        print(f\"{self.name},{self.age},{self.marks},{self.subject}\")\n",
    "\n",
    "name = input(\"Enter your name: \")\n",
    "age = int(input(\"Enter your age: \"))\n",
    "marks = int(input(\"Enter your marks\"))\n",
    "s1 = Student(name, age, marks, )"
   ]
  },
  {
   "cell_type": "code",
   "execution_count": 2,
   "id": "717d65ec",
   "metadata": {},
   "outputs": [
    {
     "name": "stdout",
     "output_type": "stream",
     "text": [
      "Car: Toyota Corolla, Color: White, Wheels: 4\n",
      "Car: Tesla Model S, Color: Black, Wheels: 4\n",
      "Car: BMW X5, Color: Blue, Wheels: 4\n"
     ]
    }
   ],
   "source": [
    "#create a class car and make objects of the class of your choice using both class and object attribute\n",
    "\n",
    "class Car:\n",
    "    # Class attribute \n",
    "    wheels = 4  \n",
    "\n",
    "    # Constructor to initialize object attributes\n",
    "    def __init__(self, brand, model, color):\n",
    "        self.brand = brand      # Object attribute\n",
    "        self.model = model      # Object attribute\n",
    "        self.color = color      # Object attribute\n",
    "\n",
    "    # Method to display car details\n",
    "    def display_info(self):\n",
    "        print(f\"Car: {self.brand} {self.model}, Color: {self.color}, Wheels: {Car.wheels}\")\n",
    "\n",
    "\n",
    "# Creating objects of the class\n",
    "car1 = Car(\"Toyota\", \"Corolla\", \"White\")\n",
    "car2 = Car(\"Tesla\", \"Model S\", \"Black\")\n",
    "car3 = Car(\"BMW\", \"X5\", \"Blue\")\n",
    "\n",
    "# Display details of each car\n",
    "car1.display_info()\n",
    "car2.display_info()\n",
    "car3.display_info()"
   ]
  },
  {
   "cell_type": "code",
   "execution_count": 3,
   "id": "202a758b",
   "metadata": {},
   "outputs": [
    {
     "name": "stdout",
     "output_type": "stream",
     "text": [
      "Hello world!\n",
      "hi\n",
      "Hello world!\n"
     ]
    }
   ],
   "source": [
    "#decorators : they are special function or methods in python that takes another function as an argument and returns the modified version of the function without changing the original function\n",
    "# @ beforre calling the decorator\n",
    "#Decorator always has a function that it modifies and returns it\n",
    "\n",
    "def my_deco(func):\n",
    "    def abc():\n",
    "        print(\"Hello world!\")\n",
    "        func()\n",
    "        print(\"Hello world!\")\n",
    "    return abc\n",
    "\n",
    "@my_deco\n",
    "def hello():\n",
    "    print(\"hi\")\n",
    "\n",
    "hello()"
   ]
  },
  {
   "cell_type": "code",
   "execution_count": 4,
   "id": "a59d8ac8",
   "metadata": {},
   "outputs": [
    {
     "name": "stdout",
     "output_type": "stream",
     "text": [
      "5.0\n",
      "Cannot divide by zero!\n"
     ]
    }
   ],
   "source": [
    "def smart_divide(func):\n",
    "    def wrapper(a, b):\n",
    "        if b == 0:\n",
    "            print(\"Cannot divide by zero!\")\n",
    "            return\n",
    "        return func(a, b)\n",
    "    return wrapper\n",
    "\n",
    "@smart_divide\n",
    "def divide(a, b):\n",
    "    print(a / b)\n",
    "\n",
    "divide(10, 2)\n",
    "divide(5, 0)"
   ]
  },
  {
   "cell_type": "code",
   "execution_count": 3,
   "id": "46682087",
   "metadata": {},
   "outputs": [
    {
     "name": "stdout",
     "output_type": "stream",
     "text": [
      "54\n",
      "Thank you\n"
     ]
    }
   ],
   "source": [
    "def abc(func):\n",
    "    def inner():\n",
    "        num1 = int(input(\"Enter num 1: \"))\n",
    "        num2 = int(input(\"Enter num 2: \"))\n",
    "        print(num1+num2)\n",
    "        func()\n",
    "    return inner\n",
    "\n",
    "@abc\n",
    "def hello():\n",
    "    print(\"Thank you\")\n",
    "\n",
    "hello()"
   ]
  },
  {
   "cell_type": "code",
   "execution_count": 4,
   "id": "c56305c7",
   "metadata": {},
   "outputs": [
    {
     "name": "stdout",
     "output_type": "stream",
     "text": [
      "Self\n"
     ]
    }
   ],
   "source": [
    "class ABC:\n",
    "    @staticmethod\n",
    "    def info():\n",
    "        print(\"Self\")\n",
    "\n",
    "abc = ABC()\n",
    "abc.info()"
   ]
  },
  {
   "cell_type": "code",
   "execution_count": null,
   "id": "9d0195ba",
   "metadata": {},
   "outputs": [
    {
     "name": "stdout",
     "output_type": "stream",
     "text": [
      "Aa\n"
     ]
    }
   ],
   "source": [
    "class ABC:\n",
    "    name = \"Aa\"\n",
    "    def info(self):\n",
    "        print(f\"{self.name}\")   #self use garda chai static use garna mildaina\n",
    "\n",
    "abc = ABC()\n",
    "abc.info()"
   ]
  },
  {
   "cell_type": "code",
   "execution_count": 22,
   "id": "78e50167",
   "metadata": {},
   "outputs": [
    {
     "name": "stdout",
     "output_type": "stream",
     "text": [
      "bbb123\n",
      "bbb123\n"
     ]
    }
   ],
   "source": [
    "#Encapsulation: helps to protect the attributes and methods\n",
    "class System:\n",
    "    username = \"Utsav\"\n",
    "    __password = \"aaa123\" #To hide any attribute or methods, we use __\n",
    "\n",
    "    def __p(self):\n",
    "        self.__password = \"bbb123\"\n",
    "        print(self.__password)\n",
    "s1 = System()\n",
    "# s1.__p()  #yesari access garna paidaina\n",
    "s1._System__p() #tara yesari painxa\n",
    "print(s1._System__password)"
   ]
  },
  {
   "cell_type": "code",
   "execution_count": 25,
   "id": "ef4ae550",
   "metadata": {},
   "outputs": [
    {
     "name": "stdout",
     "output_type": "stream",
     "text": [
      "Previous password: aaa123\n",
      "New password: qwer\n"
     ]
    }
   ],
   "source": [
    "class System:\n",
    "    username = \"Utsav\"\n",
    "    __password = \"aaa123\" \n",
    "\n",
    "    def change(self, passw):\n",
    "        self.__change_p(passw)  \n",
    "\n",
    "    def __change_p(self, passw):\n",
    "        print(f\"Previous password: {self.__password}\")\n",
    "        self.__password = passw\n",
    "        print(f\"New password: {self.__password}\")\n",
    "\n",
    "s1 = System()\n",
    "passw = input(\"Enter a password: \")\n",
    "s1.change(passw)"
   ]
  },
  {
   "cell_type": "code",
   "execution_count": 3,
   "id": "577a2bd0",
   "metadata": {},
   "outputs": [
    {
     "name": "stdout",
     "output_type": "stream",
     "text": [
      "Dog is barking\n",
      "Cat is meowing\n",
      "Bird is chirping\n"
     ]
    }
   ],
   "source": [
    "#polymorphism: same method name but different behavours according to differect objects\n",
    "class Dog:\n",
    "    def sound(self):\n",
    "        print(\"Dog is barking\")\n",
    "\n",
    "class Cat:\n",
    "    def sound(self):\n",
    "        print(\"Cat is meowing\")\n",
    "\n",
    "class Bird:\n",
    "    def sound(self):\n",
    "        print(\"Bird is chirping\")\n",
    "    \n",
    "d1 = Dog()\n",
    "c1 = Cat()\n",
    "b1 = Bird()\n",
    "\n",
    "d1.sound()\n",
    "c1.sound()\n",
    "b1.sound()"
   ]
  },
  {
   "cell_type": "code",
   "execution_count": 9,
   "id": "8558b606",
   "metadata": {},
   "outputs": [
    {
     "name": "stdout",
     "output_type": "stream",
     "text": [
      "Woof! Woof!\n",
      "This animal is sleeping.\n",
      "Meow! Meow!\n"
     ]
    }
   ],
   "source": [
    "# abstraction: hiding complex logic form user and showing only necessary information\n",
    "from abc import ABC, abstractmethod #ABC = abstract base class\n",
    "\n",
    "# Abstract Class\n",
    "class Animal(ABC):  #ABC inherit gareko Animal le\n",
    "    \n",
    "    @abstractmethod\n",
    "    def sound(self):   # Abstract Method: it tells us that every class that inherits the Animal class should have sound method compulsoryly\n",
    "        print(\"There is a sound\")\n",
    "    \n",
    "    def sleep(self):   # Normal Method\n",
    "        print(\"This animal is sleeping.\")\n",
    "\n",
    "# Subclass must implement the abstract method\n",
    "class Dog(Animal):\n",
    "    def sound(self):\n",
    "        print(\"Woof! Woof!\")\n",
    "\n",
    "class Cat(Animal):\n",
    "    def sound(self):\n",
    "        print(\"Meow! Meow!\")\n",
    "\n",
    "# Testing\n",
    "dog = Dog()\n",
    "dog.sound()     # Woof! Woof!\n",
    "dog.sleep()     # This animal is sleeping.\n",
    "\n",
    "cat = Cat()\n",
    "cat.sound()     # Meow! Meow!\n"
   ]
  },
  {
   "cell_type": "code",
   "execution_count": null,
   "id": "8c9a3735",
   "metadata": {},
   "outputs": [],
   "source": []
  }
 ],
 "metadata": {
  "kernelspec": {
   "display_name": "myenv",
   "language": "python",
   "name": "python3"
  },
  "language_info": {
   "codemirror_mode": {
    "name": "ipython",
    "version": 3
   },
   "file_extension": ".py",
   "mimetype": "text/x-python",
   "name": "python",
   "nbconvert_exporter": "python",
   "pygments_lexer": "ipython3",
   "version": "3.11.13"
  }
 },
 "nbformat": 4,
 "nbformat_minor": 5
}
