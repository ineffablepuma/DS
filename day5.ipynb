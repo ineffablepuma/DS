{
 "cells": [
  {
   "cell_type": "code",
   "execution_count": null,
   "id": "482f6fb7",
   "metadata": {},
   "outputs": [
    {
     "name": "stdout",
     "output_type": "stream",
     "text": [
      "Hello\n"
     ]
    }
   ],
   "source": [
    "def myfunc(a,b): #function name\n",
    "    print(\"Hello\")\n",
    "myfunc() #function calling"
   ]
  },
  {
   "cell_type": "code",
   "execution_count": 4,
   "id": "c874b3f0",
   "metadata": {},
   "outputs": [
    {
     "data": {
      "text/plain": [
       "11"
      ]
     },
     "execution_count": 4,
     "metadata": {},
     "output_type": "execute_result"
    }
   ],
   "source": [
    "def myfunc(a,b): #function name\n",
    "    '''docstring=function bhitra ko comment'''\n",
    "    return a+b\n",
    "myfunc(5,6) #function calling"
   ]
  },
  {
   "cell_type": "code",
   "execution_count": null,
   "id": "6af26d8f",
   "metadata": {},
   "outputs": [
    {
     "name": "stdout",
     "output_type": "stream",
     "text": [
      "hellooo\n",
      "hellooo\n",
      "None\n"
     ]
    }
   ],
   "source": [
    "def message():\n",
    "    print(\"hellooo\")\n",
    "print(message())"
   ]
  },
  {
   "cell_type": "code",
   "execution_count": 12,
   "id": "c2f75cb6",
   "metadata": {},
   "outputs": [
    {
     "data": {
      "text/plain": [
       "6"
      ]
     },
     "execution_count": 12,
     "metadata": {},
     "output_type": "execute_result"
    }
   ],
   "source": [
    "def a(b=1,c=2):  #default argumens\n",
    "    return b+c\n",
    "a(4)"
   ]
  },
  {
   "cell_type": "code",
   "execution_count": null,
   "id": "8a695ce6",
   "metadata": {},
   "outputs": [
    {
     "name": "stdout",
     "output_type": "stream",
     "text": [
      "English 40\n"
     ]
    }
   ],
   "source": [
    "def cls(subject,marks):\n",
    "    print(subject,marks)\n",
    "cls(marks=40,subject=\"English\") #keyword arguments"
   ]
  },
  {
   "cell_type": "code",
   "execution_count": 14,
   "id": "57e3a8a1",
   "metadata": {},
   "outputs": [
    {
     "name": "stdout",
     "output_type": "stream",
     "text": [
      "even\n"
     ]
    }
   ],
   "source": [
    "def evod(num):\n",
    "    if num % 2 == 0:\n",
    "        return \"even\"\n",
    "    else:\n",
    "        return \"odd\"\n",
    "num = int(input(\"Enter a number\"))\n",
    "print(evod(num))\n"
   ]
  },
  {
   "cell_type": "code",
   "execution_count": 15,
   "id": "5a98546d",
   "metadata": {},
   "outputs": [
    {
     "name": "stdout",
     "output_type": "stream",
     "text": [
      "Even numbers are [2, 4, 6]\n"
     ]
    }
   ],
   "source": [
    "def even_list(list):\n",
    "    even_num=[]\n",
    "    for n in list:\n",
    "        if n % 2 == 0:\n",
    "            even_num.append(n)\n",
    "    return even_num\n",
    "l = [1,2,3,4,5,6,7]\n",
    "print(\"Even numbers are\",even_list(l))"
   ]
  },
  {
   "cell_type": "code",
   "execution_count": 17,
   "id": "2cd83c78",
   "metadata": {},
   "outputs": [],
   "source": [
    "# input student name and mark, then calculate average and grade\n",
    "num = int(input(\"Enter number of students\"))"
   ]
  },
  {
   "cell_type": "code",
   "execution_count": 18,
   "id": "0891cf77",
   "metadata": {},
   "outputs": [],
   "source": [
    "#local and global variables"
   ]
  },
  {
   "cell_type": "code",
   "execution_count": null,
   "id": "3e248261",
   "metadata": {},
   "outputs": [
    {
     "name": "stdout",
     "output_type": "stream",
     "text": [
      "numbers: (10, 20, 30, 40, 50)\n",
      "Total is 150\n",
      "numbers: (1, 2, 3, 4, 5)\n",
      "Total is 15\n"
     ]
    }
   ],
   "source": [
    "#variable length arguments\n",
    "def add_numbers(*numbers): #args: yesle chai sabai parameter linxa\n",
    "    print(\"numbers:\",numbers)\n",
    "    total = sum(numbers)\n",
    "    print(\"Total is\",total)\n",
    "add_numbers(10,20,30,40,50)\n",
    "add_numbers(1,2,3,4,5)"
   ]
  },
  {
   "cell_type": "code",
   "execution_count": 9,
   "id": "f6b7539b",
   "metadata": {},
   "outputs": [
    {
     "name": "stdout",
     "output_type": "stream",
     "text": [
      "\n",
      "Report Card\n",
      "-----------\n",
      "utsav: English: 67, Math: 8, Science: 57, Computer: 79 | Average: 52.75 | Grade: C\n",
      "prabin: English: 56, Math: 76, Science: 97, Computer: 68 | Average: 74.25 | Grade: B\n"
     ]
    }
   ],
   "source": [
    "# grade calculator\n",
    "def find_grade(av):\n",
    "    if 0 <= av < 40:\n",
    "        return \"Fail\"\n",
    "    elif 40 <= av < 60:\n",
    "        return \"C\"\n",
    "    elif 60 <= av < 80:\n",
    "        return \"B\"\n",
    "    elif 80 <= av <= 100:\n",
    "        return \"A\"\n",
    "    else:\n",
    "        return \"Error in inputting marks\"\n",
    "\n",
    "std_data = {}\n",
    "num = int(input(\"Enter number of students: \"))\n",
    "\n",
    "for i in range(num):\n",
    "    name = input(\"\\nEnter your name: \")\n",
    "    eng = int(input(\"Enter your marks in English: \"))\n",
    "    math = int(input(\"Enter your marks in Math: \"))\n",
    "    sci = int(input(\"Enter your marks in Science: \"))\n",
    "    comp = int(input(\"Enter your marks in Computer: \"))\n",
    "    avg = (eng + math + sci + comp) / 4\n",
    "    grade = find_grade(avg)\n",
    "\n",
    "    std_data[name] = {\n",
    "        'English': eng,\n",
    "        'Math': math,\n",
    "        'Science': sci,\n",
    "        'Computer': comp,\n",
    "        'Average': avg,\n",
    "        'Grade': grade\n",
    "    }\n",
    "\n",
    "print(\"\\nReport Card\")\n",
    "print(\"-----------\")\n",
    "for name, info in std_data.items():\n",
    "    print(f\"{name}: English: {info['English']}, Math: {info['Math']}, \"\n",
    "          f\"Science: {info['Science']}, Computer: {info['Computer']} | \"\n",
    "          f\"Average: {info['Average']:.2f} | Grade: {info['Grade']}\")\n",
    "\n"
   ]
  },
  {
   "cell_type": "code",
   "execution_count": 1,
   "id": "5ca330c6",
   "metadata": {},
   "outputs": [
    {
     "name": "stdout",
     "output_type": "stream",
     "text": [
      "6\n"
     ]
    }
   ],
   "source": [
    "#args: non keyworded variable length arguments\n",
    "#it allows a function to accept any number of positional argument as a tupple\n",
    "def add_num(*args):\n",
    "    total = 0\n",
    "    for i in args:\n",
    "        total+=i\n",
    "    return total\n",
    "print(add_num(1,2,3))"
   ]
  },
  {
   "cell_type": "code",
   "execution_count": 2,
   "id": "4d056b24",
   "metadata": {},
   "outputs": [
    {
     "name": "stdout",
     "output_type": "stream",
     "text": [
      "name:Utsav\n",
      "age:21\n",
      "city:Kathmandu\n"
     ]
    }
   ],
   "source": [
    "#kwargs: keyworded, so aaccpts dictionary\n",
    "def print_info(**kwargs):\n",
    "    for key, value in kwargs.items():\n",
    "        print(f\"{key}:{value}\")\n",
    "print_info(name=\"Utsav\",age=21,city=\"Kathmandu\")"
   ]
  },
  {
   "cell_type": "code",
   "execution_count": null,
   "id": "a3ca9547",
   "metadata": {},
   "outputs": [],
   "source": []
  }
 ],
 "metadata": {
  "kernelspec": {
   "display_name": "myenv",
   "language": "python",
   "name": "python3"
  },
  "language_info": {
   "codemirror_mode": {
    "name": "ipython",
    "version": 3
   },
   "file_extension": ".py",
   "mimetype": "text/x-python",
   "name": "python",
   "nbconvert_exporter": "python",
   "pygments_lexer": "ipython3",
   "version": "3.11.13"
  }
 },
 "nbformat": 4,
 "nbformat_minor": 5
}
