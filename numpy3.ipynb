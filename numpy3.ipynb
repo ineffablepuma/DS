{
 "cells": [
  {
   "cell_type": "code",
   "execution_count": null,
   "id": "0ad26006",
   "metadata": {},
   "outputs": [
    {
     "data": {
      "text/plain": [
       "array([[16, 17],\n",
       "       [18, 19]])"
      ]
     },
     "execution_count": 6,
     "metadata": {},
     "output_type": "execute_result"
    }
   ],
   "source": [
    "#numpy broadcasting perform arithemetic operation on array with different shapes and sizes.\n",
    "#scaler broadcasting\n",
    "import numpy as np\n",
    "\n",
    "array = np.array([[1,2],[3,4]])\n",
    "scaler = 15         # broadcasted the constant variable\n",
    "result = array + scaler\n",
    "result"
   ]
  },
  {
   "cell_type": "code",
   "execution_count": 10,
   "id": "b07c6b59",
   "metadata": {},
   "outputs": [
    {
     "name": "stdout",
     "output_type": "stream",
     "text": [
      "[11, 12]\n",
      "[14, 15]\n"
     ]
    }
   ],
   "source": [
    "a = [[1,2],[4,5]]\n",
    "scaler = 10\n",
    "result = []\n",
    "for i in a:\n",
    "    new_row = []\n",
    "    for item in i:\n",
    "        new_row.append(item+scaler)\n",
    "    result.append(new_row)\n",
    "for i in result:\n",
    "    print(i)"
   ]
  },
  {
   "cell_type": "code",
   "execution_count": 14,
   "id": "6b46c480",
   "metadata": {},
   "outputs": [
    {
     "name": "stdout",
     "output_type": "stream",
     "text": [
      "[[11 22 33]\n",
      " [14 25 36]]\n"
     ]
    }
   ],
   "source": [
    "#hybrid broadcasting\n",
    "A = np.array([[1,2,3],[4,5,6]])\n",
    "B = np.array([10,20,30])\n",
    "C = A + B\n",
    "print(C)"
   ]
  },
  {
   "cell_type": "code",
   "execution_count": 15,
   "id": "da0c10ef",
   "metadata": {},
   "outputs": [
    {
     "name": "stdout",
     "output_type": "stream",
     "text": [
      "[[[84  4 96 76]\n",
      "  [22 24  8 27]\n",
      "  [97 52 36 50]]\n",
      "\n",
      " [[69 23 17 11]\n",
      "  [19 38 63  5]\n",
      "  [34 45 51 62]]]\n"
     ]
    }
   ],
   "source": [
    "q1 = np.random.randint(1,101,size=(2,3,4))\n",
    "print(q1)"
   ]
  },
  {
   "cell_type": "code",
   "execution_count": 16,
   "id": "1bce8462",
   "metadata": {},
   "outputs": [
    {
     "name": "stdout",
     "output_type": "stream",
     "text": [
      "[[[-1 13 45 32]\n",
      "  [-1 10 -1 22]\n",
      "  [ 4 -1 -1 -1]]\n",
      "\n",
      " [[-1 -1 29 48]\n",
      "  [26 17 -1 13]\n",
      "  [-1 -1 49 49]]]\n"
     ]
    }
   ],
   "source": [
    "# if > 50 replace with -1\n",
    "a = np.random.randint(1,101,size=(2,3,4))\n",
    "a[a>50] = -1\n",
    "print(a)"
   ]
  },
  {
   "cell_type": "code",
   "execution_count": 4,
   "id": "5cb730c4",
   "metadata": {},
   "outputs": [
    {
     "name": "stdout",
     "output_type": "stream",
     "text": [
      "[ 2  4  6  8 10]\n"
     ]
    }
   ],
   "source": [
    "import numpy as np\n",
    "ar1 = np.arange(1,11,1)\n",
    "\n",
    "e = ar1[ar1%2==0]\n",
    "print(e)"
   ]
  },
  {
   "cell_type": "code",
   "execution_count": null,
   "id": "3a9bb27e",
   "metadata": {},
   "outputs": [
    {
     "name": "stdout",
     "output_type": "stream",
     "text": [
      "31.76825809235096\n"
     ]
    }
   ],
   "source": [
    "import numpy as np\n",
    "marks = np.array([5,35,7,4,1,90])\n",
    "# if std is small then  dataset is closer to its mean\n",
    "sd = np.std(marks)\n",
    "print(sd)"
   ]
  },
  {
   "cell_type": "code",
   "execution_count": 5,
   "id": "1a554aa7",
   "metadata": {},
   "outputs": [
    {
     "name": "stdout",
     "output_type": "stream",
     "text": [
      "[  1.     1.25   1.5    1.75   2.     2.25   2.5    2.75   3.     3.25\n",
      "   3.5    3.75   4.     4.25   4.5    4.75   5.     5.25   5.5    5.75\n",
      "   6.     6.25   6.5    6.75   7.     7.25   7.5    7.75   8.     8.25\n",
      "   8.5    8.75   9.     9.25   9.5    9.75  10.    10.25  10.5   10.75\n",
      "  11.    11.25  11.5   11.75  12.    12.25  12.5   12.75  13.    13.25\n",
      "  13.5   13.75  14.    14.25  14.5   14.75  15.    15.25  15.5   15.75\n",
      "  16.    16.25  16.5   16.75  17.    17.25  17.5   17.75  18.    18.25\n",
      "  18.5   18.75  19.    19.25  19.5   19.75  20.    20.25  20.5   20.75\n",
      "  21.    21.25  21.5   21.75  22.    22.25  22.5   22.75  23.    23.25\n",
      "  23.5   23.75  24.    24.25  24.5   24.75  25.    25.25  25.5   25.75\n",
      "  26.    26.25  26.5   26.75  27.    27.25  27.5   27.75  28.    28.25\n",
      "  28.5   28.75  29.    29.25  29.5   29.75  30.    30.25  30.5   30.75\n",
      "  31.    31.25  31.5   31.75  32.    32.25  32.5   32.75  33.    33.25\n",
      "  33.5   33.75  34.    34.25  34.5   34.75  35.    35.25  35.5   35.75\n",
      "  36.    36.25  36.5   36.75  37.    37.25  37.5   37.75  38.    38.25\n",
      "  38.5   38.75  39.    39.25  39.5   39.75  40.    40.25  40.5   40.75\n",
      "  41.    41.25  41.5   41.75  42.    42.25  42.5   42.75  43.    43.25\n",
      "  43.5   43.75  44.    44.25  44.5   44.75  45.    45.25  45.5   45.75\n",
      "  46.    46.25  46.5   46.75  47.    47.25  47.5   47.75  48.    48.25\n",
      "  48.5   48.75  49.    49.25  49.5   49.75  50.    50.25  50.5   50.75\n",
      "  51.    51.25  51.5   51.75  52.    52.25  52.5   52.75  53.    53.25\n",
      "  53.5   53.75  54.    54.25  54.5   54.75  55.    55.25  55.5   55.75\n",
      "  56.    56.25  56.5   56.75  57.    57.25  57.5   57.75  58.    58.25\n",
      "  58.5   58.75  59.    59.25  59.5   59.75  60.    60.25  60.5   60.75\n",
      "  61.    61.25  61.5   61.75  62.    62.25  62.5   62.75  63.    63.25\n",
      "  63.5   63.75  64.    64.25  64.5   64.75  65.    65.25  65.5   65.75\n",
      "  66.    66.25  66.5   66.75  67.    67.25  67.5   67.75  68.    68.25\n",
      "  68.5   68.75  69.    69.25  69.5   69.75  70.    70.25  70.5   70.75\n",
      "  71.    71.25  71.5   71.75  72.    72.25  72.5   72.75  73.    73.25\n",
      "  73.5   73.75  74.    74.25  74.5   74.75  75.    75.25  75.5   75.75\n",
      "  76.    76.25  76.5   76.75  77.    77.25  77.5   77.75  78.    78.25\n",
      "  78.5   78.75  79.    79.25  79.5   79.75  80.    80.25  80.5   80.75\n",
      "  81.    81.25  81.5   81.75  82.    82.25  82.5   82.75  83.    83.25\n",
      "  83.5   83.75  84.    84.25  84.5   84.75  85.    85.25  85.5   85.75\n",
      "  86.    86.25  86.5   86.75  87.    87.25  87.5   87.75  88.    88.25\n",
      "  88.5   88.75  89.    89.25  89.5   89.75  90.    90.25  90.5   90.75\n",
      "  91.    91.25  91.5   91.75  92.    92.25  92.5   92.75  93.    93.25\n",
      "  93.5   93.75  94.    94.25  94.5   94.75  95.    95.25  95.5   95.75\n",
      "  96.    96.25  96.5   96.75  97.    97.25  97.5   97.75  98.    98.25\n",
      "  98.5   98.75  99.    99.25  99.5   99.75 100.   100.25 100.5  100.75]\n",
      "50.875\n",
      "50.875\n"
     ]
    }
   ],
   "source": [
    "array1 = np.arange(1,101,0.25)\n",
    "print(array1)\n",
    "result1 = np.percentile(array1,50)\n",
    "print(result1)\n",
    "print(np.median(array1))"
   ]
  },
  {
   "cell_type": "code",
   "execution_count": 10,
   "id": "017613d8",
   "metadata": {},
   "outputs": [
    {
     "name": "stdout",
     "output_type": "stream",
     "text": [
      "25.9375\n",
      "75.8125\n",
      "1.0\n",
      "100.75\n"
     ]
    }
   ],
   "source": [
    "print(np.percentile(array1,25))\n",
    "print(np.percentile(array1,75))\n",
    "print(np.min(array1))\n",
    "print(np.max(array1))"
   ]
  },
  {
   "cell_type": "code",
   "execution_count": null,
   "id": "9834ea5b",
   "metadata": {},
   "outputs": [
    {
     "name": "stdout",
     "output_type": "stream",
     "text": [
      "[[[8 8 8 8]\n",
      "  [8 8 8 8]\n",
      "  [8 8 8 8]]\n",
      "\n",
      " [[8 8 8 8]\n",
      "  [8 8 8 8]\n",
      "  [8 8 8 8]]]\n"
     ]
    }
   ],
   "source": [
    "ar = np.full(shape = (2,3,4), fill_value =8)\n",
    "print(ar)"
   ]
  },
  {
   "cell_type": "code",
   "execution_count": 16,
   "id": "ccf9b44a",
   "metadata": {},
   "outputs": [
    {
     "name": "stdout",
     "output_type": "stream",
     "text": [
      "[1 2 3 4]\n"
     ]
    }
   ],
   "source": [
    "#flatten\n",
    "import numpy as np\n",
    "arr = np.array([[1,2],[3,4]])\n",
    "print(arr.flatten())"
   ]
  },
  {
   "cell_type": "code",
   "execution_count": 11,
   "id": "78d088c8",
   "metadata": {},
   "outputs": [
    {
     "name": "stdout",
     "output_type": "stream",
     "text": [
      "[[[1]\n",
      "  [2]\n",
      "  [3]]\n",
      "\n",
      " [[4]\n",
      "  [5]\n",
      "  [6]]]\n",
      "[[[1 2]\n",
      "  [3 4]\n",
      "  [5 6]]]\n",
      "[[[1 2 3]\n",
      "  [4 5 6]]]\n",
      "[[[1]\n",
      "  [2]\n",
      "  [3]]\n",
      "\n",
      " [[4]\n",
      "  [5]\n",
      "  [6]]]\n",
      "[[[1 2 3]]\n",
      "\n",
      " [[4 5 6]]]\n",
      "[[[1 2 3]]\n",
      "\n",
      " [[4 5 6]]]\n"
     ]
    }
   ],
   "source": [
    "#2d to 3D\n",
    "import numpy as np\n",
    "\n",
    "arr2d = np.array([[1, 2, 3],\n",
    "                  [4, 5, 6]])\n",
    "\n",
    "arr3d = arr2d.reshape(2, 3, 1)   # turn (2,3) into (2,3,1)\n",
    "print(arr3d)  # (2, 3, 1)\n",
    "\n",
    "arr3d = arr2d.reshape(1, 3, 2)   # turn (2,3) into (1,3,2)\n",
    "print(arr3d)  # (1, 3, 2)\n",
    "\n",
    "arr3d = np.expand_dims(arr2d, axis=0)\n",
    "print(arr3d)   # .reshape(1,2,3)\n",
    "\n",
    "arr3d = np.expand_dims(arr2d, axis=-1)\n",
    "print(arr3d)   #.reshape(2,3,1)\n",
    "\n",
    "arr3d = np.expand_dims(arr2d, axis=1)\n",
    "print(arr3d)   #.reshape(2,1,3)\n",
    "\n",
    "#shorthand for expand_dims\n",
    "arr3d = arr2d[:,np.newaxis,:]\n",
    "print(arr3d)   #.reshape(2,1,3)"
   ]
  },
  {
   "cell_type": "code",
   "execution_count": null,
   "id": "529f6825",
   "metadata": {},
   "outputs": [
    {
     "name": "stdout",
     "output_type": "stream",
     "text": [
      "[[1 3 5 7]\n",
      " [2 4 6 8]]\n"
     ]
    }
   ],
   "source": [
    "import numpy as np\n",
    "a1 = np.array([1,2,3,4,5,6,7,8])\n",
    "r = np.reshape(a1, (2,4),order='F') #by default C\n",
    "print(r)"
   ]
  },
  {
   "cell_type": "code",
   "execution_count": 12,
   "id": "7718ece2",
   "metadata": {},
   "outputs": [
    {
     "name": "stdout",
     "output_type": "stream",
     "text": [
      "<class 'numpy.ndarray'>\n",
      "<class 'numpy.matrix'>\n",
      "<class 'numpy.ndarray'>\n"
     ]
    }
   ],
   "source": [
    "#array to matrix\n",
    "import numpy as np\n",
    "\n",
    "arr = np.array([[1, 2], [3, 4]])\n",
    "print(type(arr))   # <class 'numpy.ndarray'>\n",
    "\n",
    "mat = np.asmatrix(arr)\n",
    "print(type(mat))    # <class 'numpy.matrix'>\n",
    "\n",
    "back_to_array = np.asarray(mat)\n",
    "print(type(back_to_array))  # <class 'numpy.ndarray'>"
   ]
  },
  {
   "cell_type": "code",
   "execution_count": 22,
   "id": "a66fc033",
   "metadata": {},
   "outputs": [
    {
     "name": "stdout",
     "output_type": "stream",
     "text": [
      "[[29 35]\n",
      " [82 96]]\n",
      "[[29 35]\n",
      " [82 96]]\n",
      "[[29 35]\n",
      " [82 96]]\n"
     ]
    }
   ],
   "source": [
    "import numpy as np\n",
    "ar1 = np.array([[2,3],[6,8]])\n",
    "ar2 = np.array([[7,4],[5,9]])\n",
    "\n",
    "res = np.dot(ar1,ar2)\n",
    "#if array is 2d it does matrix multiplication\n",
    "#if array is 1d, multiplies each element of array and sums it\n",
    "print(res)\n",
    "print(np.matmul(ar1,ar2))\n",
    "print(ar1 @ ar2)"
   ]
  },
  {
   "cell_type": "code",
   "execution_count": 21,
   "id": "f8b96ff5",
   "metadata": {},
   "outputs": [
    {
     "name": "stdout",
     "output_type": "stream",
     "text": [
      "38\n",
      "38\n"
     ]
    }
   ],
   "source": [
    "ar1 = np.array([1,2,3])\n",
    "ar2 = np.array([5,6,7])\n",
    "print(np.dot(ar1,ar2))\n",
    "print(ar1 @ ar2)"
   ]
  },
  {
   "cell_type": "code",
   "execution_count": 25,
   "id": "062e0f6f",
   "metadata": {},
   "outputs": [
    {
     "name": "stdout",
     "output_type": "stream",
     "text": [
      "[[1 2 3]\n",
      " [4 5 6]]\n",
      "[[1 4]\n",
      " [2 5]\n",
      " [3 6]]\n"
     ]
    }
   ],
   "source": [
    "#stack\n",
    "import numpy as np\n",
    "\n",
    "ar1 = np.array([1,2,3])\n",
    "ar2 = np.array([4,5,6])\n",
    "\n",
    "res = np.stack((ar1,ar2),axis = 0)\n",
    "print(res)\n",
    "res = np.stack((ar1,ar2),axis = 1)\n",
    "print(res)\n"
   ]
  },
  {
   "cell_type": "code",
   "execution_count": null,
   "id": "a11578d7",
   "metadata": {},
   "outputs": [
    {
     "name": "stdout",
     "output_type": "stream",
     "text": [
      "[[2 3 4]\n",
      " [6 8 7]\n",
      " [6 3 9]]\n",
      "[ 9 21 18]\n",
      "[14 14 20]\n"
     ]
    }
   ],
   "source": [
    "ar1 = np.array([[2,3,4],[6,8,7],[6,3,9]])\n",
    "print(ar1)\n",
    "col = np.sum(ar1, axis = 1) #2+3+4\n",
    "print(col)\n",
    "row = np.sum(ar1, axis = 0) #2+6+6\n",
    "print(row)\n"
   ]
  },
  {
   "cell_type": "code",
   "execution_count": 30,
   "id": "8865152a",
   "metadata": {},
   "outputs": [
    {
     "name": "stdout",
     "output_type": "stream",
     "text": [
      "[[2 3 4]\n",
      " [6 8 7]\n",
      " [6 3 9]]\n",
      "[3. 7. 6.]\n",
      "[4.66666667 4.66666667 6.66666667]\n"
     ]
    }
   ],
   "source": [
    "ar1 = np.array([[2,3,4],[6,8,7],[6,3,9]])\n",
    "print(ar1)\n",
    "col = np.mean(ar1, axis = 1) #(2+3+4)/3\n",
    "print(col)\n",
    "row = np.mean(ar1, axis = 0) #(2+6+6)/3\n",
    "print(row)"
   ]
  },
  {
   "cell_type": "code",
   "execution_count": 6,
   "id": "d83be861",
   "metadata": {},
   "outputs": [
    {
     "name": "stdout",
     "output_type": "stream",
     "text": [
      "[[[0 0 0 0 0 0 0 0]\n",
      "  [1 1 1 1 1 1 1 1]\n",
      "  [2 2 2 2 2 2 2 2]\n",
      "  [3 3 3 3 3 3 3 3]\n",
      "  [4 4 4 4 4 4 4 4]\n",
      "  [5 5 5 5 5 5 5 5]\n",
      "  [6 6 6 6 6 6 6 6]\n",
      "  [7 7 7 7 7 7 7 7]]\n",
      "\n",
      " [[0 1 2 3 4 5 6 7]\n",
      "  [0 1 2 3 4 5 6 7]\n",
      "  [0 1 2 3 4 5 6 7]\n",
      "  [0 1 2 3 4 5 6 7]\n",
      "  [0 1 2 3 4 5 6 7]\n",
      "  [0 1 2 3 4 5 6 7]\n",
      "  [0 1 2 3 4 5 6 7]\n",
      "  [0 1 2 3 4 5 6 7]]]\n",
      "[[ 0  1  2  3  4  5  6  7]\n",
      " [ 1  2  3  4  5  6  7  8]\n",
      " [ 2  3  4  5  6  7  8  9]\n",
      " [ 3  4  5  6  7  8  9 10]\n",
      " [ 4  5  6  7  8  9 10 11]\n",
      " [ 5  6  7  8  9 10 11 12]\n",
      " [ 6  7  8  9 10 11 12 13]\n",
      " [ 7  8  9 10 11 12 13 14]]\n",
      "[[0 1 0 1 0 1 0 1]\n",
      " [1 0 1 0 1 0 1 0]\n",
      " [0 1 0 1 0 1 0 1]\n",
      " [1 0 1 0 1 0 1 0]\n",
      " [0 1 0 1 0 1 0 1]\n",
      " [1 0 1 0 1 0 1 0]\n",
      " [0 1 0 1 0 1 0 1]\n",
      " [1 0 1 0 1 0 1 0]]\n"
     ]
    }
   ],
   "source": [
    "import numpy as np\n",
    "\n",
    "n = 8  # size (n x n)\n",
    "board = (np.indices((n, n)))\n",
    "print(board)\n",
    "board = (np.indices((n, n)).sum(axis=0))\n",
    "print(board)\n",
    "board = (np.indices((n, n)).sum(axis=0) % 2)\n",
    "print(board)"
   ]
  },
  {
   "cell_type": "code",
   "execution_count": null,
   "id": "c21a70b1",
   "metadata": {},
   "outputs": [],
   "source": []
  }
 ],
 "metadata": {
  "kernelspec": {
   "display_name": "myenv",
   "language": "python",
   "name": "python3"
  },
  "language_info": {
   "codemirror_mode": {
    "name": "ipython",
    "version": 3
   },
   "file_extension": ".py",
   "mimetype": "text/x-python",
   "name": "python",
   "nbconvert_exporter": "python",
   "pygments_lexer": "ipython3",
   "version": "3.11.13"
  }
 },
 "nbformat": 4,
 "nbformat_minor": 5
}
