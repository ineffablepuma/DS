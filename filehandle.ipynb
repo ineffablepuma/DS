{
 "cells": [
  {
   "cell_type": "code",
   "execution_count": 3,
   "id": "a8385eb0",
   "metadata": {},
   "outputs": [
    {
     "name": "stdout",
     "output_type": "stream",
     "text": [
      "6\n"
     ]
    }
   ],
   "source": [
    "add = lambda x,y:x+y\n",
    "print(add(2,4))"
   ]
  },
  {
   "cell_type": "code",
   "execution_count": null,
   "id": "61a8e81e",
   "metadata": {},
   "outputs": [
    {
     "name": "stdout",
     "output_type": "stream",
     "text": [
      "[1, 4, 9, 16]\n"
     ]
    }
   ],
   "source": [
    "num = [1,2,3,4]\n",
    "square = list(map(lambda x:x**2,num)) # map : for\n",
    "print(square)"
   ]
  },
  {
   "cell_type": "code",
   "execution_count": 9,
   "id": "acdde2a3",
   "metadata": {},
   "outputs": [
    {
     "name": "stdout",
     "output_type": "stream",
     "text": [
      "[2, 4]\n"
     ]
    }
   ],
   "source": [
    "num = [1,2,3,4]\n",
    "ev = list(filter(lambda x:x % 2 == 0,num))\n",
    "print(ev)"
   ]
  },
  {
   "cell_type": "code",
   "execution_count": 1,
   "id": "6d40d5e8",
   "metadata": {},
   "outputs": [
    {
     "name": "stdout",
     "output_type": "stream",
     "text": [
      "10\n"
     ]
    }
   ],
   "source": [
    "from functools import reduce\n",
    "num = [1,2,3,4]\n",
    "ev = reduce(lambda x,y:x +y,num)\n",
    "print(ev)"
   ]
  },
  {
   "cell_type": "code",
   "execution_count": 2,
   "id": "16726dba",
   "metadata": {},
   "outputs": [
    {
     "name": "stdout",
     "output_type": "stream",
     "text": [
      "[('Alice', 85), ('Bob', 90), ('Charlie', 78)]\n"
     ]
    }
   ],
   "source": [
    "# zip function\n",
    "names = [\"Alice\", \"Bob\", \"Charlie\"]\n",
    "scores = [85, 90, 78]\n",
    "\n",
    "zipped = zip(names, scores)\n",
    "print(list(zipped))"
   ]
  },
  {
   "cell_type": "code",
   "execution_count": 13,
   "id": "7f8e68e2",
   "metadata": {},
   "outputs": [],
   "source": [
    "#file handling: open file, perform operation, close file\n",
    "#we have 3 methods:\n",
    "#read - opens file in read mode, denoted by r\n",
    "#write - opens file in write mode, denoted by w, if the file doesnot exit, it creates a new file\n",
    "#append - opens file in append mode, denoted by a, creates file in not exits."
   ]
  },
  {
   "cell_type": "code",
   "execution_count": 14,
   "id": "d338d989",
   "metadata": {},
   "outputs": [],
   "source": [
    "file_variable = open('example.txt','w')\n",
    "file_variable.write(\"Utsav Ranjit\")\n",
    "file_variable.close()"
   ]
  },
  {
   "cell_type": "code",
   "execution_count": 20,
   "id": "94cc3967",
   "metadata": {},
   "outputs": [],
   "source": [
    "file_variable = open('example.txt','w')\n",
    "file_variable.write(\"ABC Ranjit\")\n",
    "file_variable.close()"
   ]
  },
  {
   "cell_type": "code",
   "execution_count": 21,
   "id": "68540a3e",
   "metadata": {},
   "outputs": [],
   "source": [
    "file_variable = open('example.txt','a')\n",
    "file_variable.write(\" is a student\")\n",
    "file_variable.close()"
   ]
  },
  {
   "cell_type": "code",
   "execution_count": 22,
   "id": "cfe52427",
   "metadata": {},
   "outputs": [
    {
     "name": "stdout",
     "output_type": "stream",
     "text": [
      "ABC Ranjit is a student\n"
     ]
    }
   ],
   "source": [
    "file_variable = open('example.txt','r')\n",
    "content = file_variable.read()\n",
    "file_variable.close()\n",
    "print(content)"
   ]
  },
  {
   "cell_type": "code",
   "execution_count": 26,
   "id": "96990a58",
   "metadata": {},
   "outputs": [],
   "source": [
    "file1 = open('file1.txt','w')\n",
    "file1.write(\"Utsav\"+'-')\n",
    "file1.close()"
   ]
  },
  {
   "cell_type": "code",
   "execution_count": 27,
   "id": "107e80f0",
   "metadata": {},
   "outputs": [],
   "source": [
    "file1 = open(\"file1.txt\",\"a\")\n",
    "file1.write(\"Prabin - Siddhartha\"+'-')\n",
    "file1.write(\"Aayush - Manil\")\n",
    "file1.close()"
   ]
  },
  {
   "cell_type": "code",
   "execution_count": 28,
   "id": "21ec464d",
   "metadata": {},
   "outputs": [
    {
     "name": "stdout",
     "output_type": "stream",
     "text": [
      "Utsav-Prabin - Siddhartha-Aayush - Manil\n"
     ]
    }
   ],
   "source": [
    "file1 = open(\"file1.txt\",\"r\")\n",
    "a = file1.read()\n",
    "file1.close()\n",
    "print(a)"
   ]
  },
  {
   "cell_type": "code",
   "execution_count": 31,
   "id": "efcbc1e5",
   "metadata": {},
   "outputs": [
    {
     "name": "stdout",
     "output_type": "stream",
     "text": [
      "['Utsav', 'Prabin ', ' Siddhartha', 'Aayush ', ' Manil']\n",
      "Yes\n"
     ]
    }
   ],
   "source": [
    "list_data = a.split(\"-\")\n",
    "print(list_data)\n",
    "if \"Utsav\" in list_data:\n",
    "    print(\"Yes\")\n",
    "else:\n",
    "    print(\"No\")"
   ]
  },
  {
   "cell_type": "code",
   "execution_count": 9,
   "id": "23336caa",
   "metadata": {},
   "outputs": [],
   "source": [
    "file2 = open(\"File2.txt\",\"w\")\n",
    "file2.write(\"This is the first line.\\n This is the second line after \\\\n\")\n",
    "file2.close()"
   ]
  },
  {
   "cell_type": "code",
   "execution_count": 17,
   "id": "217187df",
   "metadata": {},
   "outputs": [
    {
     "name": "stdout",
     "output_type": "stream",
     "text": [
      "This is the first line.\n",
      " This is the second line after \\n\n"
     ]
    }
   ],
   "source": [
    "file2 = open(\"file2.txt\",\"r\")\n",
    "a = file2.read()\n",
    "file2.close()\n",
    "print(a)"
   ]
  },
  {
   "cell_type": "code",
   "execution_count": null,
   "id": "91e7a7ad",
   "metadata": {},
   "outputs": [],
   "source": [
    "# Input username from user and add it in a file while register\n",
    "# In login, check is the username present in the file or not\n",
    "#Print login successfull if the username is present in file else print login failed\n",
    "#match, split"
   ]
  },
  {
   "cell_type": "code",
   "execution_count": 34,
   "id": "2d900594",
   "metadata": {},
   "outputs": [
    {
     "name": "stdout",
     "output_type": "stream",
     "text": [
      "Login successful\n",
      "Login successful\n"
     ]
    }
   ],
   "source": [
    "while True:\n",
    "    ch = int(input(\"Enter your choice.\\n 1. Input new user\\n 2. Check if the user is present in list\\n 3.Exit\"))\n",
    "    match(ch):\n",
    "        case 1:\n",
    "            file = open(\"file.txt\",\"a\")\n",
    "            username = input(\"Enter username\")\n",
    "            file.write(username + '-')\n",
    "            file.close()\n",
    "        case 2:\n",
    "            username = input(\"Enter username\")\n",
    "            file = open('file.txt','r')\n",
    "            c = file.read()\n",
    "            file.close()\n",
    "            l = c.split(\"-\")\n",
    "            if username in l:\n",
    "                print(\"Login successful\")\n",
    "            else:\n",
    "                print(\"Login denied\")\n",
    "        case 3:\n",
    "            break\n",
    "        case _:\n",
    "            print(\"Invalid input\")\n"
   ]
  },
  {
   "cell_type": "markdown",
   "id": "9a3589b0",
   "metadata": {},
   "source": [
    "prepare a list of hobbies in a file adding a seperator\n",
    "input a hobby from user \n",
    "if hobby is present in the filen print(\"Hobby is valid\")\n",
    "else print(\"Not a valid hobby\")\n"
   ]
  },
  {
   "cell_type": "code",
   "execution_count": 3,
   "id": "d32a5c16",
   "metadata": {},
   "outputs": [
    {
     "name": "stdout",
     "output_type": "stream",
     "text": [
      "It is a known hobby.\n"
     ]
    }
   ],
   "source": [
    "h = open(\"hobby.txt\",\"r\")\n",
    "c = h.read()\n",
    "h.close()\n",
    "l = c.split(\"-\")\n",
    "hobby = input(\"Enter your hobby: \")\n",
    "hobby = hobby.lower()\n",
    "if hobby in l:\n",
    "    print(\"It is a known hobby.\")\n",
    "else:\n",
    "    print(\"It is a unknown hobby.\")"
   ]
  },
  {
   "cell_type": "code",
   "execution_count": null,
   "id": "a88045e4",
   "metadata": {},
   "outputs": [
    {
     "name": "stdout",
     "output_type": "stream",
     "text": [
      "['{\"utsav\": \"utsav\"}', '{\"ram\": \"123\"}', '{\"hello 345\": \"345\"}', '']\n",
      "Login Successful\n"
     ]
    }
   ],
   "source": [
    "#login register\n",
    "#ask user to login or register\n",
    "#input username and password from user\n",
    "#if user choose register, we append the username and password in a file\n",
    "# if user choose login, we read from file, check credentials and if credentials match print login successful else login failed.\n",
    "\n",
    "import json\n",
    "\n",
    "def register(username,password):\n",
    "    dict_credential = {username:password}\n",
    "    json_credentials = json.dumps(dict_credential)\n",
    "    file = open('credentials.txt','a')\n",
    "    file.write(json_credentials + '-') #we use json for this because we can convert json to dictionary and dictionary to json\n",
    "    file.close()\n",
    "\n",
    "def login(username,password):\n",
    "    file = open('credentials.txt','r')\n",
    "    content = file.read()\n",
    "    file.close()\n",
    "\n",
    "    list_credentials = content.split(\"-\")\n",
    "    print(list_credentials)\n",
    "    for i in list_credentials:\n",
    "        if i!=\"\":\n",
    "            dict_credential = json.loads(i)\n",
    "            if username in dict_credential and dict_credential[username] == password:\n",
    "                print(\"Login Successful\")\n",
    "                break\n",
    "    else:\n",
    "        print(\"Login failed\")\n",
    " # For - else :  Executes the code of for block until the break is encontered. If break is not encontered, then it executes the code of else block. \n",
    "\n",
    "ch = input(\"Enter r for register and l for login: \").lower()\n",
    "match ch:\n",
    "    case 'r':\n",
    "        username = input(\"Enter your username: \")\n",
    "        password = input(\"Enter your password: \")\n",
    "        register(username,password)\n",
    "    case 'l':\n",
    "        username = input(\"Enter your username: \")\n",
    "        password = input(\"Enter your password: \")\n",
    "        login(username,password)\n",
    "    case _:\n",
    "        print(\"Invalid Choice\")\n",
    "print(\"Thank you!!!\")"
   ]
  },
  {
   "cell_type": "code",
   "execution_count": 1,
   "id": "72926ec0",
   "metadata": {},
   "outputs": [
    {
     "name": "stdout",
     "output_type": "stream",
     "text": [
      "Thank you!!!\n",
      "Thank you!!!\n",
      "['{\"utsav\": \"utsav\"}', '{\"ram\": \"123\"}', '{\"hello 345\": \"345\"}', '{\"abc\": \"123\"}', '{\"popopo\": \"456\"}', '']\n",
      "Login failed\n",
      "Thank you!!!\n",
      "['{\"utsav\": \"utsav\"}', '{\"ram\": \"123\"}', '{\"hello 345\": \"345\"}', '{\"abc\": \"123\"}', '{\"popopo\": \"456\"}', '']\n",
      "Login failed\n",
      "Thank you!!!\n",
      "['{\"utsav\": \"utsav\"}', '{\"ram\": \"123\"}', '{\"hello 345\": \"345\"}', '{\"abc\": \"123\"}', '{\"popopo\": \"456\"}', '']\n",
      "Login Successful\n",
      "Thank you!!!\n"
     ]
    }
   ],
   "source": [
    "# Use loop in the system\n",
    "while True:\n",
    "    import json\n",
    "\n",
    "    def register(username,password):\n",
    "        dict_credential = {username:password}\n",
    "        json_credentials = json.dumps(dict_credential)\n",
    "        file = open('credentials.txt','a')\n",
    "        file.write(json_credentials + '-') #we use json for this because we can convert json to dictionary and dictionary to json\n",
    "        file.close()\n",
    "\n",
    "    def login(username,password):\n",
    "        file = open('credentials.txt','r')\n",
    "        content = file.read()\n",
    "        file.close()\n",
    "\n",
    "        list_credentials = content.split(\"-\")\n",
    "        print(list_credentials)\n",
    "        for i in list_credentials:\n",
    "            if i!=\"\":\n",
    "                dict_credential = json.loads(i)\n",
    "                if username in dict_credential and dict_credential[username] == password:\n",
    "                    print(\"Login Successful\")\n",
    "                    break\n",
    "        else:\n",
    "            print(\"Login failed\")\n",
    "    # For - else :  Executes the code of for block until the break is encontered. If break is not encontered, then it executes the code of else block. \n",
    "\n",
    "    ch = input(\"Enter r for register and l for login e for exit: \").lower()\n",
    "    match ch:\n",
    "        case 'r':\n",
    "            username = input(\"Enter your username: \")\n",
    "            password = input(\"Enter your password: \")\n",
    "            register(username,password)\n",
    "        case 'l':\n",
    "            username = input(\"Enter your username: \")\n",
    "            password = input(\"Enter your password: \")\n",
    "            login(username,password)\n",
    "        case 'e':\n",
    "            break\n",
    "        case _:\n",
    "            print(\"Invalid Choice\")\n",
    "    print(\"Thank you!!!\")"
   ]
  },
  {
   "cell_type": "code",
   "execution_count": null,
   "id": "2b0061ef",
   "metadata": {},
   "outputs": [
    {
     "name": "stdout",
     "output_type": "stream",
     "text": [
      "Invalid username or password.\n",
      "Invalid option! Choose 'r', 'l', or 'e'.\n",
      "Invalid username or password.\n",
      "Login Successful.\n",
      "\n",
      "--- ATM Menu ---\n",
      "1. View Balance\n",
      "2. Add Balance\n",
      "3. Withdraw Balance\n",
      "4. Logout\n",
      "Your current balance is: 50\n",
      "\n",
      "--- ATM Menu ---\n",
      "1. View Balance\n",
      "2. Add Balance\n",
      "3. Withdraw Balance\n",
      "4. Logout\n",
      "Your current balance is: 50\n",
      "\n",
      "--- ATM Menu ---\n",
      "1. View Balance\n",
      "2. Add Balance\n",
      "3. Withdraw Balance\n",
      "4. Logout\n",
      "Logged out!\n",
      "Exiting ATM. Goodbye!\n"
     ]
    }
   ],
   "source": [
    "import json\n",
    "\n",
    "def register(username, pin):\n",
    "    try:\n",
    "        file = open(\"atm_credentials.txt\", \"r\")\n",
    "        content = file.read()\n",
    "        file.close()\n",
    "    except FileNotFoundError:\n",
    "        content = \"\"\n",
    " \n",
    "    credentials = content.split(\"-\")\n",
    "    for i in credentials:\n",
    "        if i != \"\":\n",
    "            dict_credentials = json.loads(i)\n",
    "            if username in dict_credentials:\n",
    "                print(\"Username already exists! Please choose another one.\")\n",
    "                return\n",
    "\n",
    "    file = open(\"atm_credentials.txt\", \"a\")\n",
    "    dict_credentials = {username: pin}\n",
    "    json_credentials = json.dumps(dict_credentials)\n",
    "    file.write(json_credentials + \"-\")\n",
    "    file.close()\n",
    "\n",
    "    file = open(\"balance.txt\", \"a\")\n",
    "    dict_balance = {username: 0}\n",
    "    json_balance = json.dumps(dict_balance)\n",
    "    file.write(json_balance + \"-\")\n",
    "    file.close()\n",
    "\n",
    "    print(\"Registration successful!\")\n",
    "\n",
    "\n",
    "def login(username, pin):\n",
    "    try:\n",
    "        file = open(\"atm_credentials.txt\", \"r\")\n",
    "        content = file.read()\n",
    "        file.close()\n",
    "    except FileNotFoundError:\n",
    "        print(\"No users registered yet.\")\n",
    "        return False\n",
    "\n",
    "    credentials = content.split(\"-\")\n",
    "    for i in credentials:\n",
    "        if i != \"\":\n",
    "            dict_credentials = json.loads(i)\n",
    "            if username in dict_credentials and dict_credentials[username] == pin:\n",
    "                print(\"Login Successful.\")\n",
    "                return True\n",
    "    print(\"Invalid username or password.\")\n",
    "    return False\n",
    "\n",
    "\n",
    "def view_balance(username):\n",
    "    file = open(\"balance.txt\", \"r\")\n",
    "    content = file.read()\n",
    "    file.close()\n",
    "\n",
    "    balance_data = content.split(\"-\")\n",
    "    for i in balance_data:\n",
    "        if i != \"\":\n",
    "            dict_balance = json.loads(i)\n",
    "            if username in dict_balance:\n",
    "                print(\"Your current balance is:\", dict_balance[username])\n",
    "                return \n",
    "\n",
    "\n",
    "def add_balance(username):\n",
    "    file = open(\"balance.txt\", \"r\")\n",
    "    content = file.read()\n",
    "    file.close()\n",
    "\n",
    "    balance_data = content.split(\"-\")\n",
    "    new_content = \"\"\n",
    "    for i in balance_data:\n",
    "        if i != \"\":\n",
    "            dict_balance = json.loads(i)\n",
    "            if username in dict_balance:\n",
    "                amount = int(input(\"Enter the amount you want to add: \"))\n",
    "                dict_balance[username] += amount\n",
    "                print(\"Balance updated! New balance:\", dict_balance[username])\n",
    "            new_content += json.dumps(dict_balance) + \"-\"\n",
    "\n",
    "    file = open(\"balance.txt\", \"w\")\n",
    "    file.write(new_content)\n",
    "    file.close()\n",
    "\n",
    "\n",
    "def withdraw_balance(username):\n",
    "    file = open(\"balance.txt\", \"r\")\n",
    "    content = file.read()\n",
    "    file.close()\n",
    "\n",
    "    balance_data = content.split(\"-\")\n",
    "    new_content = \"\"\n",
    "    for i in balance_data:\n",
    "        if i != \"\":\n",
    "            dict_balance = json.loads(i)\n",
    "            if username in dict_balance:\n",
    "                amount = int(input(\"Enter the amount you want to withdraw: \"))\n",
    "                if amount > dict_balance[username]:\n",
    "                    print(\"Insufficient funds!\")\n",
    "                else:\n",
    "                    dict_balance[username] -= amount\n",
    "                    print(\"Withdrawal successful! New balance:\", dict_balance[username])\n",
    "            new_content += json.dumps(dict_balance) + \"-\"\n",
    "\n",
    "    file = open(\"balance.txt\", \"w\")\n",
    "    file.write(new_content)\n",
    "    file.close()\n",
    "\n",
    "\n",
    "# ---------------- Main Program ----------------\n",
    "\n",
    "while True:\n",
    "    choice = input(\"\\nDo you want to Register (r), Login (l), or Exit (e): \").lower()\n",
    "    if choice == \"r\":\n",
    "        username = input(\"Enter your username: \")\n",
    "        pin = input(\"Enter your pin: \")\n",
    "        register(username, pin)\n",
    "\n",
    "    elif choice == \"l\":\n",
    "        username = input(\"Enter your username: \")\n",
    "        pin = input(\"Enter your pin: \")\n",
    "        is_login = login(username, pin)\n",
    "        if is_login:\n",
    "            while True:\n",
    "                print(\"\\n--- ATM Menu ---\")\n",
    "                print(\"1. View Balance\")\n",
    "                print(\"2. Add Balance\")\n",
    "                print(\"3. Withdraw Balance\")\n",
    "                print(\"4. Logout\")\n",
    "                atm_task = input(\"Enter choice: \")\n",
    "\n",
    "                if atm_task == \"1\":\n",
    "                    view_balance(username)\n",
    "                elif atm_task == \"2\":\n",
    "                    add_balance(username)\n",
    "                elif atm_task == \"3\":\n",
    "                    withdraw_balance(username)\n",
    "                elif atm_task == \"4\":\n",
    "                    print(\"Logged out!\")\n",
    "                    break\n",
    "                else:\n",
    "                    print(\"Invalid choice.\")\n",
    "    elif choice == \"e\":\n",
    "        print(\"Exiting ATM. Goodbye!\")\n",
    "        break\n",
    "    else:\n",
    "        print(\"Invalid option! Choose 'r', 'l', or 'e'.\")\n",
    "print(\"Thank you for using our system!!\")"
   ]
  },
  {
   "cell_type": "code",
   "execution_count": null,
   "id": "534a51a3",
   "metadata": {},
   "outputs": [],
   "source": []
  }
 ],
 "metadata": {
  "kernelspec": {
   "display_name": "myenv",
   "language": "python",
   "name": "python3"
  },
  "language_info": {
   "codemirror_mode": {
    "name": "ipython",
    "version": 3
   },
   "file_extension": ".py",
   "mimetype": "text/x-python",
   "name": "python",
   "nbconvert_exporter": "python",
   "pygments_lexer": "ipython3",
   "version": "3.11.13"
  }
 },
 "nbformat": 4,
 "nbformat_minor": 5
}
