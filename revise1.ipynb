{
 "cells": [
  {
   "cell_type": "code",
   "execution_count": 1,
   "id": "f58a5fcf",
   "metadata": {},
   "outputs": [],
   "source": [
    "#match: switch case"
   ]
  },
  {
   "cell_type": "code",
   "execution_count": 6,
   "id": "74196b12",
   "metadata": {},
   "outputs": [
    {
     "name": "stdout",
     "output_type": "stream",
     "text": [
      "First: 1, Second: 4\n",
      "Second last:  3\n"
     ]
    }
   ],
   "source": [
    "#find first and last element of list\n",
    "a = [1,2,3,4]\n",
    "print(f\"First: {a[0]}, Second: {a[-1]}\")\n",
    "print(\"Second last: \",a[-2])"
   ]
  },
  {
   "cell_type": "code",
   "execution_count": 10,
   "id": "1efa3d31",
   "metadata": {},
   "outputs": [
    {
     "name": "stdout",
     "output_type": "stream",
     "text": [
      "[4, 3, 2, 1]\n",
      "None\n"
     ]
    }
   ],
   "source": [
    "#reverse of list\n",
    "b = a[::-1]\n",
    "c = a.reverse()\n",
    "print(b)\n",
    "print(c)"
   ]
  },
  {
   "cell_type": "code",
   "execution_count": null,
   "id": "d71f4b5c",
   "metadata": {},
   "outputs": [
    {
     "name": "stdout",
     "output_type": "stream",
     "text": [
      "[8, 6, 4, 2]\n"
     ]
    }
   ],
   "source": [
    "c = []\n",
    "for i in range(0,4): # or range(len(a))\n",
    "    c.append(a[i]+b[i])\n",
    "print(c)"
   ]
  },
  {
   "cell_type": "code",
   "execution_count": null,
   "id": "00bd9c46",
   "metadata": {},
   "outputs": [],
   "source": [
    "#iteration - code executed by loop a single time ,all\n",
    "#iterable - the data type in function which the loop is executed ,range(0,4)\n",
    "#iterator - store position , i"
   ]
  },
  {
   "cell_type": "code",
   "execution_count": null,
   "id": "80ca7c44",
   "metadata": {},
   "outputs": [
    {
     "name": "stdout",
     "output_type": "stream",
     "text": [
      "1\n",
      "2\n"
     ]
    }
   ],
   "source": [
    "#break and continue\n",
    "numbers = [1,2,3,4,5]\n",
    "for i in numbers:\n",
    "    if i == 3 :\n",
    "        break\n",
    "    print(i)"
   ]
  },
  {
   "cell_type": "code",
   "execution_count": 20,
   "id": "2e910704",
   "metadata": {},
   "outputs": [
    {
     "name": "stdout",
     "output_type": "stream",
     "text": [
      "1\n",
      "2\n",
      "4\n",
      "5\n"
     ]
    }
   ],
   "source": [
    "for i in numbers:\n",
    "    if i == 3:\n",
    "        continue\n",
    "    print(i)"
   ]
  },
  {
   "cell_type": "code",
   "execution_count": null,
   "id": "a0bce149",
   "metadata": {},
   "outputs": [],
   "source": []
  }
 ],
 "metadata": {
  "kernelspec": {
   "display_name": "myenv",
   "language": "python",
   "name": "python3"
  },
  "language_info": {
   "codemirror_mode": {
    "name": "ipython",
    "version": 3
   },
   "file_extension": ".py",
   "mimetype": "text/x-python",
   "name": "python",
   "nbconvert_exporter": "python",
   "pygments_lexer": "ipython3",
   "version": "3.11.13"
  }
 },
 "nbformat": 4,
 "nbformat_minor": 5
}
