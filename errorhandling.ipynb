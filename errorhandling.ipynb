{
 "cells": [
  {
   "cell_type": "code",
   "execution_count": 2,
   "id": "24262c7a",
   "metadata": {},
   "outputs": [
    {
     "name": "stdout",
     "output_type": "stream",
     "text": [
      "The value of b cannot be 0\n"
     ]
    }
   ],
   "source": [
    "a = 10\n",
    "b = 0\n",
    "try:\n",
    "    print(a/b)\n",
    "except:\n",
    "    print(\"The value of b cannot be 0\")"
   ]
  },
  {
   "cell_type": "code",
   "execution_count": null,
   "id": "a81b3e74",
   "metadata": {},
   "outputs": [],
   "source": []
  },
  {
   "cell_type": "markdown",
   "id": "31c4647d",
   "metadata": {},
   "source": [
    "Error handiling:\n",
    "The way of handling showing error in simple message or handle the error\n",
    "try except: try: block of code where error may occur\n",
    "except: if error occur this block of code runs"
   ]
  },
  {
   "cell_type": "code",
   "execution_count": 9,
   "id": "9196e219",
   "metadata": {},
   "outputs": [
    {
     "name": "stdout",
     "output_type": "stream",
     "text": [
      "Index out of range\n"
     ]
    }
   ],
   "source": [
    "list1 = [\"a\",\"b\",1,2,3]\n",
    "try:\n",
    "    print(list1[10])\n",
    "except:\n",
    "    print(\"Index out of range\")"
   ]
  },
  {
   "cell_type": "code",
   "execution_count": 4,
   "id": "1dcd72ba",
   "metadata": {},
   "outputs": [
    {
     "name": "stdout",
     "output_type": "stream",
     "text": [
      "File not found\n"
     ]
    }
   ],
   "source": [
    "try:  \n",
    "    file = open('abc.txt','r')\n",
    "    content = file.read()\n",
    "    file.close()\n",
    "except:\n",
    "    print(\"File not found\")"
   ]
  },
  {
   "cell_type": "code",
   "execution_count": 5,
   "id": "19554075",
   "metadata": {},
   "outputs": [],
   "source": [
    "try:  \n",
    "    file = open('abc.txt','r')\n",
    "    content = file.read()\n",
    "    file.close()\n",
    "except:\n",
    "    file = open('abc.txt','w')\n",
    "    file.close()\n",
    "    file = open('abc.txt','r')\n",
    "    content = file.read()\n",
    "    file.close()"
   ]
  },
  {
   "cell_type": "code",
   "execution_count": null,
   "id": "7ea42fed",
   "metadata": {},
   "outputs": [
    {
     "name": "stdout",
     "output_type": "stream",
     "text": [
      "Index error\n",
      "The value of b cannot be 0\n"
     ]
    }
   ],
   "source": [
    "a = 10\n",
    "b = 0\n",
    "try:\n",
    "    print(a/b) #ZeroDivisionError\n",
    "    file = open('abc.txt','r') #FileNotFoundError\n",
    "    content = file.read()\n",
    "    file.close()\n",
    "    print(list1[10])\n",
    "except ZeroDivisionError:\n",
    "    print(\"The value of b cannot be 0\")\n",
    "except FileNotFoundError:\n",
    "    file = open('abc.txt','w')\n",
    "    file.close()\n",
    "    file = open('abc.txt','r')\n",
    "    content = file.read()\n",
    "    file.close()\n",
    "except IndexError:\n",
    "    print(\"Index error\")\n",
    "except:\n",
    "    print(\"An error occured\")\n",
    "\n",
    "try:\n",
    "    print(list1[10])\n",
    "except:\n",
    "    print(\"The value of b cannot be 0\")"
   ]
  },
  {
   "cell_type": "code",
   "execution_count": 10,
   "id": "2327163b",
   "metadata": {},
   "outputs": [
    {
     "name": "stdout",
     "output_type": "stream",
     "text": [
      "<class 'ZeroDivisionError'>\n",
      "division by zero\n",
      "<class '__main__.AB'>\n",
      "Thank you\n"
     ]
    }
   ],
   "source": [
    "a = 10\n",
    "b = 0 \n",
    "\n",
    "try:\n",
    "    print(a/b)\n",
    "except ZeroDivisionError as e: #gives nickname and creates an object \n",
    "    print(ZeroDivisionError)  #calling class\n",
    "    print(e)   #calling object\n",
    "    ## magic method (__str__): defines what to return when an object is printed\n",
    "\n",
    "class AB:\n",
    "    def __str__(self):\n",
    "        return \"Thank you\"\n",
    "print(AB)\n",
    "ab1 = AB()\n",
    "print(ab1)\n"
   ]
  }
 ],
 "metadata": {
  "kernelspec": {
   "display_name": "myenv",
   "language": "python",
   "name": "python3"
  },
  "language_info": {
   "codemirror_mode": {
    "name": "ipython",
    "version": 3
   },
   "file_extension": ".py",
   "mimetype": "text/x-python",
   "name": "python",
   "nbconvert_exporter": "python",
   "pygments_lexer": "ipython3",
   "version": "3.11.13"
  }
 },
 "nbformat": 4,
 "nbformat_minor": 5
}
