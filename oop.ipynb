{
 "cells": [
  {
   "cell_type": "markdown",
   "id": "782df35d",
   "metadata": {},
   "source": [
    "Object Oriented Programming: OOP is about classes and objects\n",
    "Python is about OOP"
   ]
  },
  {
   "cell_type": "code",
   "execution_count": null,
   "id": "57c6062b",
   "metadata": {},
   "outputs": [
    {
     "name": "stdout",
     "output_type": "stream",
     "text": [
      "<class 'str'>\n"
     ]
    }
   ],
   "source": [
    "name = \"Utsav Ranjitkar\" #object created using string class\n",
    "print(type(name)) "
   ]
  },
  {
   "cell_type": "code",
   "execution_count": 2,
   "id": "0867093d",
   "metadata": {},
   "outputs": [
    {
     "name": "stdout",
     "output_type": "stream",
     "text": [
      "<class 'int'>\n"
     ]
    }
   ],
   "source": [
    "age = 29\n",
    "print(type(age))"
   ]
  },
  {
   "cell_type": "code",
   "execution_count": 3,
   "id": "dfd17e4f",
   "metadata": {},
   "outputs": [
    {
     "name": "stdout",
     "output_type": "stream",
     "text": [
      "<class 'float'>\n"
     ]
    }
   ],
   "source": [
    "marks = 70.5\n",
    "print(type(marks))"
   ]
  },
  {
   "cell_type": "code",
   "execution_count": 4,
   "id": "a573885e",
   "metadata": {},
   "outputs": [
    {
     "name": "stdout",
     "output_type": "stream",
     "text": [
      "<class 'list'>\n",
      "<class 'tuple'>\n",
      "<class 'dict'>\n",
      "<class 'set'>\n",
      "<class 'bool'>\n"
     ]
    }
   ],
   "source": [
    "#list, tuple, dictionary, set, boolean\n",
    "list1 = []\n",
    "tupple = ()\n",
    "dicti = {}\n",
    "set1 = set()\n",
    "boolean = True\n",
    "print(type(list1))\n",
    "print(type(tupple))\n",
    "print(type(dicti))\n",
    "print(type(set1))\n",
    "print(type(boolean))"
   ]
  },
  {
   "cell_type": "code",
   "execution_count": 5,
   "id": "65e7ddf4",
   "metadata": {},
   "outputs": [],
   "source": [
    "#procedual coding\n",
    "#functional coding\n",
    "#oop coding"
   ]
  },
  {
   "cell_type": "code",
   "execution_count": 6,
   "id": "591e541d",
   "metadata": {},
   "outputs": [],
   "source": [
    "#class keyword is used to create class\n",
    "#any variable is used to represent object, we should call a class to make an object of that class"
   ]
  },
  {
   "cell_type": "code",
   "execution_count": 3,
   "id": "8eb44095",
   "metadata": {},
   "outputs": [
    {
     "name": "stdout",
     "output_type": "stream",
     "text": [
      "<class '__main__.dog'>\n",
      "<__main__.dog object at 0x000002387B00BB90>\n",
      "\n",
      "Dog is Eating\n",
      "None\n",
      "Dog is Eating\n"
     ]
    }
   ],
   "source": [
    "class dog:\n",
    "    name = \"kaley\"\n",
    "    legs = 4\n",
    "    eyes = 2\n",
    "    ears = 2\n",
    "    #attributes: variable of that class\n",
    "\n",
    "    def eat(self):  #method always takes parameter self, yesle chai object linxa\n",
    "        print(\"Dog is Eating\")\n",
    "    #methods: function of that class\n",
    "\n",
    "print(dog)  \n",
    "d1 = dog()  #d1 object chai self ma janxa\n",
    "print(d1)   #memory location of object\n",
    "print(\"\")\n",
    "print(d1.eat())  #function call parda print lekhyo bhane none aauxa\n",
    "d1.eat()    #we write like this\n"
   ]
  },
  {
   "cell_type": "code",
   "execution_count": null,
   "id": "0601260a",
   "metadata": {},
   "outputs": [],
   "source": []
  }
 ],
 "metadata": {
  "kernelspec": {
   "display_name": "myenv",
   "language": "python",
   "name": "python3"
  },
  "language_info": {
   "codemirror_mode": {
    "name": "ipython",
    "version": 3
   },
   "file_extension": ".py",
   "mimetype": "text/x-python",
   "name": "python",
   "nbconvert_exporter": "python",
   "pygments_lexer": "ipython3",
   "version": "3.11.13"
  }
 },
 "nbformat": 4,
 "nbformat_minor": 5
}
