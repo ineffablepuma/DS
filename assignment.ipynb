{
 "cells": [
  {
   "cell_type": "code",
   "execution_count": 1,
   "id": "92f54381",
   "metadata": {},
   "outputs": [
    {
     "name": "stdout",
     "output_type": "stream",
     "text": [
      "HELLO WORLD\n"
     ]
    }
   ],
   "source": [
    "text = \"hello world\"\n",
    "print(text.upper())"
   ]
  },
  {
   "cell_type": "code",
   "execution_count": 2,
   "id": "80f264cc",
   "metadata": {},
   "outputs": [
    {
     "name": "stdout",
     "output_type": "stream",
     "text": [
      "['HELLO' 'WORLD']\n"
     ]
    }
   ],
   "source": [
    "import numpy as np\n",
    "arr = np.array(['hello', 'world'])\n",
    "print(np.char.upper(arr))"
   ]
  },
  {
   "cell_type": "code",
   "execution_count": 3,
   "id": "17ce36f7",
   "metadata": {},
   "outputs": [
    {
     "name": "stdout",
     "output_type": "stream",
     "text": [
      "Hello world\n",
      "Hello World\n",
      "HELLO WORLD\n"
     ]
    }
   ],
   "source": [
    "text = \"hello world\"\n",
    "print(text.capitalize())  # Hello world\n",
    "print(text.title())       # Hello World\n",
    "print(text.swapcase())    # HELLO WORLD"
   ]
  },
  {
   "cell_type": "code",
   "execution_count": 4,
   "id": "90ecdd5c",
   "metadata": {},
   "outputs": [
    {
     "name": "stdout",
     "output_type": "stream",
     "text": [
      "hello world\n"
     ]
    }
   ],
   "source": [
    "text = \"   hello world   \"\n",
    "print(text.strip()) "
   ]
  },
  {
   "cell_type": "code",
   "execution_count": 5,
   "id": "c0136a59",
   "metadata": {},
   "outputs": [
    {
     "name": "stdout",
     "output_type": "stream",
     "text": [
      "0\n",
      "13\n",
      "7\n"
     ]
    }
   ],
   "source": [
    "text = \"banana apple banana\"\n",
    "print(text.find(\"banana\"))     # 0\n",
    "print(text.rfind(\"banana\"))    # 13\n",
    "print(text.index(\"apple\"))     # 7"
   ]
  },
  {
   "cell_type": "code",
   "execution_count": 6,
   "id": "095f9c99",
   "metadata": {},
   "outputs": [
    {
     "name": "stdout",
     "output_type": "stream",
     "text": [
      "2\n",
      "mango apple mango\n"
     ]
    }
   ],
   "source": [
    "text = \"banana apple banana\"\n",
    "print(text.count(\"banana\"))          # 2\n",
    "print(text.replace(\"banana\", \"mango\"))"
   ]
  },
  {
   "cell_type": "code",
   "execution_count": 7,
   "id": "bd57ce4a",
   "metadata": {},
   "outputs": [
    {
     "name": "stdout",
     "output_type": "stream",
     "text": [
      "True\n",
      "True\n",
      "True\n",
      "True\n"
     ]
    }
   ],
   "source": [
    "print(\"hello\".isalpha())   # True\n",
    "print(\"123\".isdigit())     # True\n",
    "print(\"abc123\".isalnum())  # True\n",
    "print(\"   \".isspace())     # True"
   ]
  },
  {
   "cell_type": "code",
   "execution_count": 8,
   "id": "598b4f1b",
   "metadata": {},
   "outputs": [
    {
     "name": "stdout",
     "output_type": "stream",
     "text": [
      "['HELLO' 'WORLD']\n",
      "['hello' 'world']\n"
     ]
    }
   ],
   "source": [
    "arr = np.array(['hello', 'world'])\n",
    "print(np.char.upper(arr))  \n",
    "print(np.char.lower(arr))  "
   ]
  },
  {
   "cell_type": "code",
   "execution_count": 9,
   "id": "b16c0cd3",
   "metadata": {},
   "outputs": [
    {
     "name": "stdout",
     "output_type": "stream",
     "text": [
      "['apple juice' 'banana juice']\n"
     ]
    }
   ],
   "source": [
    "arr = np.array(['apple pie', 'banana pie'])\n",
    "print(np.char.replace(arr, 'pie', 'juice'))"
   ]
  },
  {
   "cell_type": "code",
   "execution_count": null,
   "id": "88c9a0d9",
   "metadata": {},
   "outputs": [
    {
     "name": "stdout",
     "output_type": "stream",
     "text": [
      "['----hi----' '--hello---']\n",
      "['hi********' 'hello*****']\n"
     ]
    }
   ],
   "source": [
    "arr = np.array(['hi', 'hello'])\n",
    "print(np.char.center(arr, 10, fillchar='-'))\n",
    "\n",
    "print(np.char.ljust(arr, 10, fillchar='*'))"
   ]
  },
  {
   "cell_type": "code",
   "execution_count": 11,
   "id": "b42574e9",
   "metadata": {},
   "outputs": [
    {
     "name": "stdout",
     "output_type": "stream",
     "text": [
      "['cat' 'dog']\n"
     ]
    }
   ],
   "source": [
    "arr = np.array(['  cat  ', '  dog  '])\n",
    "print(np.char.strip(arr)) "
   ]
  },
  {
   "cell_type": "code",
   "execution_count": 2,
   "id": "63883765",
   "metadata": {},
   "outputs": [
    {
     "name": "stdout",
     "output_type": "stream",
     "text": [
      "Original array:\n",
      " [[[ 29  63  99  34  77]\n",
      "  [ 37  54  81 100  10]\n",
      "  [ 91  48  21  44  52]\n",
      "  [ 50  80  63  79  76]]\n",
      "\n",
      " [[ 26  58  86 100   7]\n",
      "  [ 55  81  39  69  42]\n",
      "  [ 83  46   3  17  94]\n",
      "  [ 76  65  88  81  72]]\n",
      "\n",
      " [[ 59  15  10  62  70]\n",
      "  [ 37   1  88  51  71]\n",
      "  [ 98  67  26  34  44]\n",
      "  [ 27  84  40  87  41]]]\n",
      "56.46666666666667\n",
      "\n",
      "Modified array (elements > mean set to 0):\n",
      " [[[29  0  0 34  0]\n",
      "  [37 54  0  0 10]\n",
      "  [ 0 48 21 44 52]\n",
      "  [50  0  0  0  0]]\n",
      "\n",
      " [[26  0  0  0  7]\n",
      "  [55  0 39  0 42]\n",
      "  [ 0 46  3 17  0]\n",
      "  [ 0  0  0  0  0]]\n",
      "\n",
      " [[ 0 15 10  0  0]\n",
      "  [37  1  0 51  0]\n",
      "  [ 0  0 26 34 44]\n",
      "  [27  0 40  0 41]]]\n",
      "\n",
      "Sum along axis=1:\n",
      " [[116 102  21  78  62]\n",
      " [ 81  46  42  17  49]\n",
      " [ 64  16  76  85  85]]\n",
      "\n",
      "Extracted first and last columns:\n",
      " [[[29  0]\n",
      "  [37 10]\n",
      "  [ 0 52]\n",
      "  [50  0]]\n",
      "\n",
      " [[26  7]\n",
      "  [55 42]\n",
      "  [ 0  0]\n",
      "  [ 0  0]]\n",
      "\n",
      " [[ 0  0]\n",
      "  [37  0]\n",
      "  [ 0 44]\n",
      "  [27 41]]]\n"
     ]
    }
   ],
   "source": [
    "import numpy as np\n",
    "\n",
    "arr = np.random.randint(1, 101, size=(3, 4, 5))\n",
    "print(\"Original array:\\n\", arr)\n",
    "\n",
    "mean_val = arr.mean()\n",
    "print(mean_val)\n",
    "arr[arr > mean_val] = 0\n",
    "print(\"\\nModified array (elements > mean set to 0):\\n\", arr)\n",
    "\n",
    "sum_axis1 = arr.sum(axis=1)\n",
    "print(\"\\nSum along axis=1:\\n\", sum_axis1)\n",
    "\n",
    "extracted = arr[:, :, [0, -1]]\n",
    "print(\"\\nExtracted first and last columns:\\n\", extracted)"
   ]
  },
  {
   "cell_type": "code",
   "execution_count": null,
   "id": "4839266d",
   "metadata": {},
   "outputs": [],
   "source": []
  }
 ],
 "metadata": {
  "kernelspec": {
   "display_name": "myenv",
   "language": "python",
   "name": "python3"
  },
  "language_info": {
   "codemirror_mode": {
    "name": "ipython",
    "version": 3
   },
   "file_extension": ".py",
   "mimetype": "text/x-python",
   "name": "python",
   "nbconvert_exporter": "python",
   "pygments_lexer": "ipython3",
   "version": "3.11.13"
  }
 },
 "nbformat": 4,
 "nbformat_minor": 5
}
