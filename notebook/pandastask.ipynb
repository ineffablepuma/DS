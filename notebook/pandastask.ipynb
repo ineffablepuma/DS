{
 "cells": [
  {
   "cell_type": "code",
   "execution_count": 1,
   "id": "33d4a2ad",
   "metadata": {},
   "outputs": [
    {
     "name": "stdout",
     "output_type": "stream",
     "text": [
      "    Name  Age       City\n",
      "0    Ram   20  Kathmandu\n",
      "1  Shyam   22     Butwal\n",
      "2  Utsav   21  Kathmandu\n"
     ]
    }
   ],
   "source": [
    "# Create a Pandas DataFrame from a dictionary of lists.\n",
    "import pandas as pd\n",
    "data = {\n",
    "    'Name' : ['Ram','Shyam','Utsav'],\n",
    "    'Age' : [20,22,21],\n",
    "    'City' : ['Kathmandu','Butwal','Kathmandu']\n",
    "}\n",
    "df = pd.DataFrame(data)\n",
    "print(df)"
   ]
  },
  {
   "cell_type": "code",
   "execution_count": null,
   "id": "1f8f9ff6",
   "metadata": {},
   "outputs": [
    {
     "data": {
      "text/html": [
       "<div>\n",
       "<style scoped>\n",
       "    .dataframe tbody tr th:only-of-type {\n",
       "        vertical-align: middle;\n",
       "    }\n",
       "\n",
       "    .dataframe tbody tr th {\n",
       "        vertical-align: top;\n",
       "    }\n",
       "\n",
       "    .dataframe thead th {\n",
       "        text-align: right;\n",
       "    }\n",
       "</style>\n",
       "<table border=\"1\" class=\"dataframe\">\n",
       "  <thead>\n",
       "    <tr style=\"text-align: right;\">\n",
       "      <th></th>\n",
       "      <th>Rank</th>\n",
       "      <th>Title</th>\n",
       "      <th>Release</th>\n",
       "      <th>Runtime</th>\n",
       "      <th>Rated</th>\n",
       "      <th>Ratings</th>\n",
       "    </tr>\n",
       "  </thead>\n",
       "  <tbody>\n",
       "    <tr>\n",
       "      <th>0</th>\n",
       "      <td>1</td>\n",
       "      <td>The Shawshank Redemption</td>\n",
       "      <td>1994</td>\n",
       "      <td>2h 22m</td>\n",
       "      <td>R</td>\n",
       "      <td>9.3</td>\n",
       "    </tr>\n",
       "    <tr>\n",
       "      <th>1</th>\n",
       "      <td>2</td>\n",
       "      <td>The Godfather</td>\n",
       "      <td>1972</td>\n",
       "      <td>2h 55m</td>\n",
       "      <td>R</td>\n",
       "      <td>9.2</td>\n",
       "    </tr>\n",
       "    <tr>\n",
       "      <th>2</th>\n",
       "      <td>3</td>\n",
       "      <td>The Dark Knight</td>\n",
       "      <td>2008</td>\n",
       "      <td>2h 32m</td>\n",
       "      <td>PG-13</td>\n",
       "      <td>9.0</td>\n",
       "    </tr>\n",
       "    <tr>\n",
       "      <th>3</th>\n",
       "      <td>4</td>\n",
       "      <td>The Godfather Part II</td>\n",
       "      <td>1974</td>\n",
       "      <td>3h 22m</td>\n",
       "      <td>R</td>\n",
       "      <td>9.0</td>\n",
       "    </tr>\n",
       "    <tr>\n",
       "      <th>4</th>\n",
       "      <td>5</td>\n",
       "      <td>12 Angry Men</td>\n",
       "      <td>1957</td>\n",
       "      <td>1h 36m</td>\n",
       "      <td>Approved</td>\n",
       "      <td>9.0</td>\n",
       "    </tr>\n",
       "  </tbody>\n",
       "</table>\n",
       "</div>"
      ],
      "text/plain": [
       "   Rank                     Title  Release Runtime     Rated  Ratings\n",
       "0     1  The Shawshank Redemption     1994  2h 22m         R      9.3\n",
       "1     2             The Godfather     1972  2h 55m         R      9.2\n",
       "2     3           The Dark Knight     2008  2h 32m     PG-13      9.0\n",
       "3     4     The Godfather Part II     1974  3h 22m         R      9.0\n",
       "4     5              12 Angry Men     1957  1h 36m  Approved      9.0"
      ]
     },
     "execution_count": 7,
     "metadata": {},
     "output_type": "execute_result"
    }
   ],
   "source": [
    "# Read a CSV file into a DataFrame and display the first 5 rows.\n",
    "import pandas as pd\n",
    "df = pd.read_csv(\"../datasets/IMDB_processed_data.csv\")\n",
    "df.head()"
   ]
  },
  {
   "cell_type": "code",
   "execution_count": 9,
   "id": "86ec6009",
   "metadata": {},
   "outputs": [
    {
     "data": {
      "text/plain": [
       "(250, 6)"
      ]
     },
     "execution_count": 9,
     "metadata": {},
     "output_type": "execute_result"
    }
   ],
   "source": [
    "# Get the number of rows and columns of a DataFrame.\n",
    "df.shape"
   ]
  },
  {
   "cell_type": "code",
   "execution_count": 24,
   "id": "bc4c2ec1",
   "metadata": {},
   "outputs": [
    {
     "name": "stdout",
     "output_type": "stream",
     "text": [
      "Index(['Rank', 'Title', 'Release', 'Runtime', 'Rated', 'Ratings'], dtype='object')\n",
      "\n",
      "Rank         int64\n",
      "Title       object\n",
      "Release      int64\n",
      "Runtime     object\n",
      "Rated       object\n",
      "Ratings    float64\n",
      "dtype: object\n",
      "\n",
      "<class 'pandas.core.frame.DataFrame'>\n",
      "RangeIndex: 250 entries, 0 to 249\n",
      "Data columns (total 6 columns):\n",
      " #   Column   Non-Null Count  Dtype  \n",
      "---  ------   --------------  -----  \n",
      " 0   Rank     250 non-null    int64  \n",
      " 1   Title    250 non-null    object \n",
      " 2   Release  250 non-null    int64  \n",
      " 3   Runtime  250 non-null    object \n",
      " 4   Rated    250 non-null    object \n",
      " 5   Ratings  250 non-null    float64\n",
      "dtypes: float64(1), int64(2), object(3)\n",
      "memory usage: 11.8+ KB\n",
      "None\n"
     ]
    }
   ],
   "source": [
    "# Display all column names and their data types.\n",
    "\n",
    "print(df.columns)\n",
    "print(\"\")\n",
    "print(df.dtypes) \n",
    "print(\"\")\n",
    "print(df.info())"
   ]
  },
  {
   "cell_type": "code",
   "execution_count": 28,
   "id": "59b8e55a",
   "metadata": {},
   "outputs": [
    {
     "name": "stdout",
     "output_type": "stream",
     "text": [
      "0       The Shawshank Redemption\n",
      "1                  The Godfather\n",
      "2                The Dark Knight\n",
      "3          The Godfather Part II\n",
      "4                   12 Angry Men\n",
      "                 ...            \n",
      "245                Amores Perros\n",
      "246                     The Help\n",
      "247                      Rebecca\n",
      "248    A Silent Voice: The Movie\n",
      "249                    Andhadhun\n",
      "Name: Title, Length: 250, dtype: object\n",
      "                         Title  Ratings\n",
      "0     The Shawshank Redemption      9.3\n",
      "1                The Godfather      9.2\n",
      "2              The Dark Knight      9.0\n",
      "3        The Godfather Part II      9.0\n",
      "4                 12 Angry Men      9.0\n",
      "..                         ...      ...\n",
      "245              Amores Perros      8.0\n",
      "246                   The Help      8.1\n",
      "247                    Rebecca      8.1\n",
      "248  A Silent Voice: The Movie      8.1\n",
      "249                  Andhadhun      8.2\n",
      "\n",
      "[250 rows x 2 columns]\n"
     ]
    }
   ],
   "source": [
    "# Select a single column ('') and multiple columns ('', '') from a DataFrame.\n",
    "\n",
    "print(df[\"Title\"])  #single [] showed as a pandas series \n",
    "print(df[[\"Title\", \"Ratings\"]])"
   ]
  },
  {
   "cell_type": "code",
   "execution_count": 30,
   "id": "5ba6984a",
   "metadata": {},
   "outputs": [
    {
     "name": "stdout",
     "output_type": "stream",
     "text": [
      "   Rank                     Title  Release Runtime  Rated  Ratings\n",
      "0     1  The Shawshank Redemption     1994  2h 22m      R      9.3\n",
      "1     2             The Godfather     1972  2h 55m      R      9.2\n",
      "2     3           The Dark Knight     2008  2h 32m  PG-13      9.0\n",
      "   Rank                     Title  Release Runtime  Rated  Ratings\n",
      "0     1  The Shawshank Redemption     1994  2h 22m      R      9.3\n",
      "1     2             The Godfather     1972  2h 55m      R      9.2\n",
      "2     3           The Dark Knight     2008  2h 32m  PG-13      9.0\n"
     ]
    }
   ],
   "source": [
    "# Select the first 3 rows using iloc.\n",
    "print(df.iloc[0:3]) #iloc = exclusive + integer based\n",
    "print(df.loc[0:2])  #loc = inclusive + index based, if index was a,b,c,d = df.loc[a,c] will be used"
   ]
  },
  {
   "cell_type": "code",
   "execution_count": null,
   "id": "ee847e7e",
   "metadata": {},
   "outputs": [
    {
     "name": "stdout",
     "output_type": "stream",
     "text": [
      "Rank       0\n",
      "Title      0\n",
      "Release    0\n",
      "Runtime    0\n",
      "Rated      0\n",
      "Ratings    0\n",
      "dtype: int64\n"
     ]
    }
   ],
   "source": [
    "#Find missing values in a DataFrame.\n",
    "print(df.isnull().sum())"
   ]
  },
  {
   "cell_type": "code",
   "execution_count": null,
   "id": "dc8eb7ad",
   "metadata": {},
   "outputs": [],
   "source": [
    "#Replace all NaN values with \"Unknown\".\n",
    "df_filled = df.fillna(\"Unknown\")    #our data set has no missing value so no use of doing it"
   ]
  },
  {
   "cell_type": "code",
   "execution_count": 43,
   "id": "2668d50b",
   "metadata": {},
   "outputs": [
    {
     "name": "stdout",
     "output_type": "stream",
     "text": [
      "   Rank                     Title  Release Runtime     Rated  Ratings\n",
      "0     1  The Shawshank Redemption   1994.0  2h 22m         R      9.3\n",
      "1     2             The Godfather   1972.0  2h 55m         R      9.2\n",
      "2     3           The Dark Knight      NaN  2h 32m     PG-13      9.0\n",
      "3     4     The Godfather Part II   1974.0  3h 22m         R      9.0\n",
      "4     5              12 Angry Men   1957.0  1h 36m  Approved      9.0\n"
     ]
    }
   ],
   "source": [
    "df.loc[2,'Release'] = None  #iloc cant use release, it becomes [2,2]\n",
    "print(df.head())"
   ]
  },
  {
   "cell_type": "code",
   "execution_count": 45,
   "id": "214ca7c4",
   "metadata": {},
   "outputs": [
    {
     "name": "stdout",
     "output_type": "stream",
     "text": [
      "   Rank                     Title  Release Runtime     Rated  Ratings\n",
      "0     1  The Shawshank Redemption   1994.0  2h 22m         R      9.3\n",
      "1     2             The Godfather   1972.0  2h 55m         R      9.2\n",
      "2     3           The Dark Knight  Unknown  2h 32m     PG-13      9.0\n",
      "3     4     The Godfather Part II   1974.0  3h 22m         R      9.0\n",
      "4     5              12 Angry Men   1957.0  1h 36m  Approved      9.0\n"
     ]
    }
   ],
   "source": [
    "df_filled = df.fillna(\"Unknown\")\n",
    "print(df_filled.head())"
   ]
  },
  {
   "cell_type": "code",
   "execution_count": 52,
   "id": "7c0edb93",
   "metadata": {},
   "outputs": [
    {
     "data": {
      "text/html": [
       "<div>\n",
       "<style scoped>\n",
       "    .dataframe tbody tr th:only-of-type {\n",
       "        vertical-align: middle;\n",
       "    }\n",
       "\n",
       "    .dataframe tbody tr th {\n",
       "        vertical-align: top;\n",
       "    }\n",
       "\n",
       "    .dataframe thead th {\n",
       "        text-align: right;\n",
       "    }\n",
       "</style>\n",
       "<table border=\"1\" class=\"dataframe\">\n",
       "  <thead>\n",
       "    <tr style=\"text-align: right;\">\n",
       "      <th></th>\n",
       "      <th>Rank</th>\n",
       "      <th>Title</th>\n",
       "      <th>Release</th>\n",
       "      <th>Runtime</th>\n",
       "      <th>Rated</th>\n",
       "      <th>Ratings</th>\n",
       "    </tr>\n",
       "  </thead>\n",
       "  <tbody>\n",
       "    <tr>\n",
       "      <th>53</th>\n",
       "      <td>54</td>\n",
       "      <td>Dune: Part Two</td>\n",
       "      <td>2024.0</td>\n",
       "      <td>2h 46m</td>\n",
       "      <td>PG-13</td>\n",
       "      <td>8.5</td>\n",
       "    </tr>\n",
       "    <tr>\n",
       "      <th>207</th>\n",
       "      <td>208</td>\n",
       "      <td>Maharaja</td>\n",
       "      <td>2024.0</td>\n",
       "      <td>2h 21m</td>\n",
       "      <td>Not Rated</td>\n",
       "      <td>8.4</td>\n",
       "    </tr>\n",
       "    <tr>\n",
       "      <th>159</th>\n",
       "      <td>160</td>\n",
       "      <td>The Wild Robot</td>\n",
       "      <td>2024.0</td>\n",
       "      <td>1h 42m</td>\n",
       "      <td>PG</td>\n",
       "      <td>8.2</td>\n",
       "    </tr>\n",
       "    <tr>\n",
       "      <th>43</th>\n",
       "      <td>44</td>\n",
       "      <td>Spider-Man: Across the Spider-Verse</td>\n",
       "      <td>2023.0</td>\n",
       "      <td>2h 20m</td>\n",
       "      <td>PG</td>\n",
       "      <td>8.5</td>\n",
       "    </tr>\n",
       "    <tr>\n",
       "      <th>65</th>\n",
       "      <td>66</td>\n",
       "      <td>12th Fail</td>\n",
       "      <td>2023.0</td>\n",
       "      <td>2h 27m</td>\n",
       "      <td>Not Rated</td>\n",
       "      <td>8.8</td>\n",
       "    </tr>\n",
       "  </tbody>\n",
       "</table>\n",
       "</div>"
      ],
      "text/plain": [
       "     Rank                                Title  Release Runtime      Rated  \\\n",
       "53     54                       Dune: Part Two   2024.0  2h 46m      PG-13   \n",
       "207   208                             Maharaja   2024.0  2h 21m  Not Rated   \n",
       "159   160                       The Wild Robot   2024.0  1h 42m         PG   \n",
       "43     44  Spider-Man: Across the Spider-Verse   2023.0  2h 20m         PG   \n",
       "65     66                            12th Fail   2023.0  2h 27m  Not Rated   \n",
       "\n",
       "     Ratings  \n",
       "53       8.5  \n",
       "207      8.4  \n",
       "159      8.2  \n",
       "43       8.5  \n",
       "65       8.8  "
      ]
     },
     "execution_count": 52,
     "metadata": {},
     "output_type": "execute_result"
    }
   ],
   "source": [
    "df_sort_by_release = df.sort_values(by=\"Release\", ascending=False)\n",
    "df_sort_by_release.head()"
   ]
  },
  {
   "cell_type": "code",
   "execution_count": 55,
   "id": "a985b04f",
   "metadata": {},
   "outputs": [
    {
     "name": "stdout",
     "output_type": "stream",
     "text": [
      "            Ratings\n",
      "Rated              \n",
      "Approved   8.272727\n",
      "G          8.255556\n",
      "NC-17      8.300000\n",
      "Not Rated  8.282759\n",
      "PG         8.292308\n",
      "PG-13      8.377143\n",
      "Passed     8.180000\n",
      "R          8.325743\n"
     ]
    }
   ],
   "source": [
    "df_pivot_table = df.pivot_table(index=\"Rated\",values=\"Ratings\",aggfunc=\"mean\")\n",
    "print(df_pivot_table)"
   ]
  },
  {
   "cell_type": "code",
   "execution_count": null,
   "id": "7b1d9d99",
   "metadata": {},
   "outputs": [],
   "source": []
  }
 ],
 "metadata": {
  "kernelspec": {
   "display_name": "myenv",
   "language": "python",
   "name": "python3"
  },
  "language_info": {
   "codemirror_mode": {
    "name": "ipython",
    "version": 3
   },
   "file_extension": ".py",
   "mimetype": "text/x-python",
   "name": "python",
   "nbconvert_exporter": "python",
   "pygments_lexer": "ipython3",
   "version": "3.11.13"
  }
 },
 "nbformat": 4,
 "nbformat_minor": 5
}
