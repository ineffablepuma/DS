{
 "cells": [
  {
   "cell_type": "code",
   "execution_count": 1,
   "id": "df390230",
   "metadata": {},
   "outputs": [],
   "source": [
    "#pivot: The pivot() function reshapes data by turning unique values of one column into new columns."
   ]
  },
  {
   "cell_type": "code",
   "execution_count": 9,
   "id": "36ae6c8a",
   "metadata": {},
   "outputs": [
    {
     "name": "stdout",
     "output_type": "stream",
     "text": [
      "Original DataFrame:\n",
      "          Date       City  Temperature\n",
      "0  2025-01-01  Kathmandu           12\n",
      "1  2025-01-01    Pokhara           18\n",
      "2  2025-01-02  Kathmandu           14\n",
      "3  2025-01-02    Pokhara           20\n",
      "\n",
      "Pivoted DataFrame:\n",
      " City        Kathmandu  Pokhara\n",
      "Date                          \n",
      "2025-01-01         12       18\n",
      "2025-01-02         14       20\n"
     ]
    }
   ],
   "source": [
    "import pandas as pd\n",
    "\n",
    "# Sample data\n",
    "data = {\n",
    "    'Date': ['2025-01-01', '2025-01-01', '2025-01-02', '2025-01-02'],\n",
    "    'City': ['Kathmandu', 'Pokhara', 'Kathmandu', 'Pokhara'],\n",
    "    'Temperature': [12, 18, 14, 20]\n",
    "}\n",
    "\n",
    "df = pd.DataFrame(data)\n",
    "print(\"Original DataFrame:\\n\", df)\n",
    "\n",
    "# Pivot the DataFrame\n",
    "pivot_df = df.pivot(index='Date', \n",
    "                    columns='City', \n",
    "                    values='Temperature')\n",
    "print(\"\\nPivoted DataFrame:\\n\", pivot_df)\n"
   ]
  },
  {
   "cell_type": "markdown",
   "id": "6dcdcdf1",
   "metadata": {},
   "source": [
    "Difference Between pivot() and pivot_table()\n",
    "\n",
    "pivot() → does not allow duplicates (if two rows have the same index/column combination, it will throw an error).\n",
    "\n",
    "pivot_table() → allows duplicates and lets you apply an aggregation function (mean, sum, etc.)."
   ]
  },
  {
   "cell_type": "code",
   "execution_count": 4,
   "id": "3f44d37f",
   "metadata": {},
   "outputs": [
    {
     "name": "stdout",
     "output_type": "stream",
     "text": [
      "Original DataFrame:\n",
      "          Date       City  Temperature\n",
      "0  2025-01-01  Kathmandu           12\n",
      "1  2025-01-01  Kathmandu           15\n",
      "2  2025-01-01    Pokhara           18\n",
      "3  2025-01-02    Pokhara           20\n"
     ]
    }
   ],
   "source": [
    "import pandas as pd\n",
    "\n",
    "data = {\n",
    "    'Date': ['2025-01-01', '2025-01-01', '2025-01-01', '2025-01-02'],\n",
    "    'City': ['Kathmandu', 'Kathmandu', 'Pokhara', 'Pokhara'],\n",
    "    'Temperature': [12, 15, 18, 20]\n",
    "}\n",
    "\n",
    "df = pd.DataFrame(data)\n",
    "print(\"Original DataFrame:\\n\", df)"
   ]
  },
  {
   "cell_type": "code",
   "execution_count": 7,
   "id": "84c26fe7",
   "metadata": {},
   "outputs": [],
   "source": [
    "#df.pivot(index='Date', columns='City', values='Temperature')\n",
    "# this throws an error because there is 2 row containg same date 2025-01-01 and same city Kathmandu"
   ]
  },
  {
   "cell_type": "code",
   "execution_count": 8,
   "id": "378c44ff",
   "metadata": {},
   "outputs": [
    {
     "name": "stdout",
     "output_type": "stream",
     "text": [
      "City        Kathmandu  Pokhara\n",
      "Date                          \n",
      "2025-01-01       13.5     18.0\n",
      "2025-01-02        NaN     20.0\n"
     ]
    }
   ],
   "source": [
    "pivot_tbl = df.pivot_table(\n",
    "    index='Date', \n",
    "    columns='City', \n",
    "    values='Temperature', \n",
    "    aggfunc='mean'   # You can also use sum, min, max, etc.\n",
    ")\n",
    "print(pivot_tbl)\n",
    "#but pivot table will work bt averaging 12,15->13.5"
   ]
  },
  {
   "cell_type": "code",
   "execution_count": null,
   "id": "4d386336",
   "metadata": {},
   "outputs": [
    {
     "data": {
      "text/html": [
       "<div>\n",
       "<style scoped>\n",
       "    .dataframe tbody tr th:only-of-type {\n",
       "        vertical-align: middle;\n",
       "    }\n",
       "\n",
       "    .dataframe tbody tr th {\n",
       "        vertical-align: top;\n",
       "    }\n",
       "\n",
       "    .dataframe thead th {\n",
       "        text-align: right;\n",
       "    }\n",
       "</style>\n",
       "<table border=\"1\" class=\"dataframe\">\n",
       "  <thead>\n",
       "    <tr style=\"text-align: right;\">\n",
       "      <th></th>\n",
       "      <th>Age</th>\n",
       "      <th>Gender</th>\n",
       "      <th>Education Level</th>\n",
       "      <th>Job Title</th>\n",
       "      <th>Years of Experience</th>\n",
       "      <th>Salary</th>\n",
       "    </tr>\n",
       "  </thead>\n",
       "  <tbody>\n",
       "    <tr>\n",
       "      <th>0</th>\n",
       "      <td>32.0</td>\n",
       "      <td>Male</td>\n",
       "      <td>Bachelor's</td>\n",
       "      <td>Software Engineer</td>\n",
       "      <td>5.0</td>\n",
       "      <td>90000.0</td>\n",
       "    </tr>\n",
       "    <tr>\n",
       "      <th>1</th>\n",
       "      <td>28.0</td>\n",
       "      <td>Female</td>\n",
       "      <td>Master's</td>\n",
       "      <td>Data Analyst</td>\n",
       "      <td>3.0</td>\n",
       "      <td>65000.0</td>\n",
       "    </tr>\n",
       "    <tr>\n",
       "      <th>2</th>\n",
       "      <td>45.0</td>\n",
       "      <td>Male</td>\n",
       "      <td>PhD</td>\n",
       "      <td>Senior Manager</td>\n",
       "      <td>15.0</td>\n",
       "      <td>150000.0</td>\n",
       "    </tr>\n",
       "    <tr>\n",
       "      <th>3</th>\n",
       "      <td>36.0</td>\n",
       "      <td>Female</td>\n",
       "      <td>Bachelor's</td>\n",
       "      <td>Sales Associate</td>\n",
       "      <td>7.0</td>\n",
       "      <td>60000.0</td>\n",
       "    </tr>\n",
       "    <tr>\n",
       "      <th>4</th>\n",
       "      <td>52.0</td>\n",
       "      <td>Male</td>\n",
       "      <td>Master's</td>\n",
       "      <td>Director</td>\n",
       "      <td>20.0</td>\n",
       "      <td>200000.0</td>\n",
       "    </tr>\n",
       "    <tr>\n",
       "      <th>...</th>\n",
       "      <td>...</td>\n",
       "      <td>...</td>\n",
       "      <td>...</td>\n",
       "      <td>...</td>\n",
       "      <td>...</td>\n",
       "      <td>...</td>\n",
       "    </tr>\n",
       "    <tr>\n",
       "      <th>6699</th>\n",
       "      <td>49.0</td>\n",
       "      <td>Female</td>\n",
       "      <td>PhD</td>\n",
       "      <td>Director of Marketing</td>\n",
       "      <td>20.0</td>\n",
       "      <td>200000.0</td>\n",
       "    </tr>\n",
       "    <tr>\n",
       "      <th>6700</th>\n",
       "      <td>32.0</td>\n",
       "      <td>Male</td>\n",
       "      <td>High School</td>\n",
       "      <td>Sales Associate</td>\n",
       "      <td>3.0</td>\n",
       "      <td>50000.0</td>\n",
       "    </tr>\n",
       "    <tr>\n",
       "      <th>6701</th>\n",
       "      <td>30.0</td>\n",
       "      <td>Female</td>\n",
       "      <td>Bachelor's Degree</td>\n",
       "      <td>Financial Manager</td>\n",
       "      <td>4.0</td>\n",
       "      <td>55000.0</td>\n",
       "    </tr>\n",
       "    <tr>\n",
       "      <th>6702</th>\n",
       "      <td>46.0</td>\n",
       "      <td>Male</td>\n",
       "      <td>Master's Degree</td>\n",
       "      <td>Marketing Manager</td>\n",
       "      <td>14.0</td>\n",
       "      <td>140000.0</td>\n",
       "    </tr>\n",
       "    <tr>\n",
       "      <th>6703</th>\n",
       "      <td>26.0</td>\n",
       "      <td>Female</td>\n",
       "      <td>High School</td>\n",
       "      <td>Sales Executive</td>\n",
       "      <td>1.0</td>\n",
       "      <td>35000.0</td>\n",
       "    </tr>\n",
       "  </tbody>\n",
       "</table>\n",
       "<p>6704 rows × 6 columns</p>\n",
       "</div>"
      ],
      "text/plain": [
       "       Age  Gender    Education Level              Job Title  \\\n",
       "0     32.0    Male         Bachelor's      Software Engineer   \n",
       "1     28.0  Female           Master's           Data Analyst   \n",
       "2     45.0    Male                PhD         Senior Manager   \n",
       "3     36.0  Female         Bachelor's        Sales Associate   \n",
       "4     52.0    Male           Master's               Director   \n",
       "...    ...     ...                ...                    ...   \n",
       "6699  49.0  Female                PhD  Director of Marketing   \n",
       "6700  32.0    Male        High School        Sales Associate   \n",
       "6701  30.0  Female  Bachelor's Degree      Financial Manager   \n",
       "6702  46.0    Male    Master's Degree      Marketing Manager   \n",
       "6703  26.0  Female        High School        Sales Executive   \n",
       "\n",
       "      Years of Experience    Salary  \n",
       "0                     5.0   90000.0  \n",
       "1                     3.0   65000.0  \n",
       "2                    15.0  150000.0  \n",
       "3                     7.0   60000.0  \n",
       "4                    20.0  200000.0  \n",
       "...                   ...       ...  \n",
       "6699                 20.0  200000.0  \n",
       "6700                  3.0   50000.0  \n",
       "6701                  4.0   55000.0  \n",
       "6702                 14.0  140000.0  \n",
       "6703                  1.0   35000.0  \n",
       "\n",
       "[6704 rows x 6 columns]"
      ]
     },
     "execution_count": 4,
     "metadata": {},
     "output_type": "execute_result"
    }
   ],
   "source": [
    "import pandas as pd\n",
    "\n",
    "df = pd.read_csv(\"../datasets/Salary_Data.csv\")\n",
    "df"
   ]
  },
  {
   "cell_type": "code",
   "execution_count": 11,
   "id": "00e1eca8",
   "metadata": {},
   "outputs": [
    {
     "name": "stdout",
     "output_type": "stream",
     "text": [
      "               Age  Years of Experience         Salary\n",
      "count  6702.000000          6701.000000    6699.000000\n",
      "mean     33.620859             8.094687  115326.964771\n",
      "std       7.614633             6.059003   52786.183911\n",
      "min      21.000000             0.000000     350.000000\n",
      "25%      28.000000             3.000000   70000.000000\n",
      "50%      32.000000             7.000000  115000.000000\n",
      "75%      38.000000            12.000000  160000.000000\n",
      "max      62.000000            34.000000  250000.000000\n",
      "\n",
      "       Gender    Education Level          Job Title\n",
      "count    6702               6701               6702\n",
      "unique      3                  7                193\n",
      "top      Male  Bachelor's Degree  Software Engineer\n",
      "freq     3674               2267                518\n"
     ]
    }
   ],
   "source": [
    "print(df.describe(include='float'))\n",
    "print()\n",
    "print(df.describe(include='object'))"
   ]
  },
  {
   "cell_type": "code",
   "execution_count": null,
   "id": "a28c6ff0",
   "metadata": {},
   "outputs": [
    {
     "data": {
      "text/plain": [
       "Age                    2\n",
       "Gender                 2\n",
       "Education Level        3\n",
       "Job Title              2\n",
       "Years of Experience    3\n",
       "Salary                 5\n",
       "dtype: int64"
      ]
     },
     "execution_count": 5,
     "metadata": {},
     "output_type": "execute_result"
    }
   ],
   "source": [
    "df.isnull().sum()   #sum of null values"
   ]
  },
  {
   "cell_type": "code",
   "execution_count": 6,
   "id": "d3b773f2",
   "metadata": {},
   "outputs": [
    {
     "name": "stdout",
     "output_type": "stream",
     "text": [
      "Remaing rows = 6698\n"
     ]
    }
   ],
   "source": [
    "#in a large data droping some data with dropna doesnot affect reslt too much\n",
    "df_cleaned = df.dropna()\n",
    "print(f\"Remaing rows = {len(df_cleaned)}\")"
   ]
  },
  {
   "cell_type": "code",
   "execution_count": 7,
   "id": "ddebb5bb",
   "metadata": {},
   "outputs": [
    {
     "name": "stdout",
     "output_type": "stream",
     "text": [
      "Age                    0\n",
      "Gender                 0\n",
      "Education Level        0\n",
      "Job Title              0\n",
      "Years of Experience    0\n",
      "Salary                 0\n",
      "dtype: int64\n"
     ]
    }
   ],
   "source": [
    "print(df_cleaned.isnull().sum())"
   ]
  },
  {
   "cell_type": "code",
   "execution_count": 9,
   "id": "f6de803b",
   "metadata": {},
   "outputs": [
    {
     "name": "stdout",
     "output_type": "stream",
     "text": [
      "Age                    float64\n",
      "Gender                  object\n",
      "Education Level         object\n",
      "Job Title               object\n",
      "Years of Experience    float64\n",
      "Salary                 float64\n",
      "dtype: object\n"
     ]
    }
   ],
   "source": [
    "print(df_cleaned.dtypes)"
   ]
  },
  {
   "cell_type": "code",
   "execution_count": 17,
   "id": "99a39afe",
   "metadata": {},
   "outputs": [
    {
     "name": "stdout",
     "output_type": "stream",
     "text": [
      "250000.0\n"
     ]
    }
   ],
   "source": [
    "# 1. Finding max value\n",
    "\n",
    "max_salary = df_cleaned['Salary'].max()\n",
    "print(max_salary)"
   ]
  },
  {
   "cell_type": "code",
   "execution_count": 18,
   "id": "9dc9a55c",
   "metadata": {},
   "outputs": [
    {
     "name": "stdout",
     "output_type": "stream",
     "text": [
      "       Age Gender    Education Level                 Job Title  \\\n",
      "30    50.0   Male         Bachelor's                       CEO   \n",
      "83    52.0   Male                PhD  Chief Technology Officer   \n",
      "5001  45.0   Male  Bachelor's Degree         Financial Manager   \n",
      "\n",
      "      Years of Experience    Salary  \n",
      "30                   25.0  250000.0  \n",
      "83                   24.0  250000.0  \n",
      "5001                 21.0  250000.0  \n"
     ]
    }
   ],
   "source": [
    "# 2. Get rows with maximum salary\n",
    "max_salary_rows = df_cleaned[df_cleaned['Salary']==max_salary]\n",
    "\n",
    "#3 . Display result\n",
    "print(max_salary_rows)\n"
   ]
  },
  {
   "cell_type": "code",
   "execution_count": 19,
   "id": "22269785",
   "metadata": {},
   "outputs": [
    {
     "data": {
      "text/plain": [
       "0     False\n",
       "1     False\n",
       "2     False\n",
       "3     False\n",
       "4     False\n",
       "5     False\n",
       "6     False\n",
       "7     False\n",
       "8     False\n",
       "9     False\n",
       "10    False\n",
       "11    False\n",
       "12    False\n",
       "13    False\n",
       "14    False\n",
       "15    False\n",
       "16    False\n",
       "17    False\n",
       "18    False\n",
       "19    False\n",
       "20    False\n",
       "21    False\n",
       "22    False\n",
       "23    False\n",
       "24    False\n",
       "25    False\n",
       "26    False\n",
       "27    False\n",
       "28    False\n",
       "29    False\n",
       "30     True\n",
       "31    False\n",
       "32    False\n",
       "33    False\n",
       "34    False\n",
       "35    False\n",
       "36    False\n",
       "37    False\n",
       "38    False\n",
       "39    False\n",
       "40    False\n",
       "41    False\n",
       "42    False\n",
       "43    False\n",
       "44    False\n",
       "45    False\n",
       "46    False\n",
       "47    False\n",
       "48    False\n",
       "49    False\n",
       "Name: Salary, dtype: bool"
      ]
     },
     "execution_count": 19,
     "metadata": {},
     "output_type": "execute_result"
    }
   ],
   "source": [
    "i = df_cleaned['Salary'] == max_salary\n",
    "i.head(50)"
   ]
  },
  {
   "cell_type": "code",
   "execution_count": 21,
   "id": "805e16bc",
   "metadata": {},
   "outputs": [
    {
     "data": {
      "text/html": [
       "<div>\n",
       "<style scoped>\n",
       "    .dataframe tbody tr th:only-of-type {\n",
       "        vertical-align: middle;\n",
       "    }\n",
       "\n",
       "    .dataframe tbody tr th {\n",
       "        vertical-align: top;\n",
       "    }\n",
       "\n",
       "    .dataframe thead th {\n",
       "        text-align: right;\n",
       "    }\n",
       "</style>\n",
       "<table border=\"1\" class=\"dataframe\">\n",
       "  <thead>\n",
       "    <tr style=\"text-align: right;\">\n",
       "      <th></th>\n",
       "      <th>Age</th>\n",
       "      <th>Gender</th>\n",
       "      <th>Education Level</th>\n",
       "      <th>Job Title</th>\n",
       "      <th>Years of Experience</th>\n",
       "      <th>Salary</th>\n",
       "    </tr>\n",
       "  </thead>\n",
       "  <tbody>\n",
       "    <tr>\n",
       "      <th>30</th>\n",
       "      <td>50.0</td>\n",
       "      <td>Male</td>\n",
       "      <td>Bachelor's</td>\n",
       "      <td>CEO</td>\n",
       "      <td>25.0</td>\n",
       "      <td>250000.0</td>\n",
       "    </tr>\n",
       "    <tr>\n",
       "      <th>83</th>\n",
       "      <td>52.0</td>\n",
       "      <td>Male</td>\n",
       "      <td>PhD</td>\n",
       "      <td>Chief Technology Officer</td>\n",
       "      <td>24.0</td>\n",
       "      <td>250000.0</td>\n",
       "    </tr>\n",
       "    <tr>\n",
       "      <th>5001</th>\n",
       "      <td>45.0</td>\n",
       "      <td>Male</td>\n",
       "      <td>Bachelor's Degree</td>\n",
       "      <td>Financial Manager</td>\n",
       "      <td>21.0</td>\n",
       "      <td>250000.0</td>\n",
       "    </tr>\n",
       "  </tbody>\n",
       "</table>\n",
       "</div>"
      ],
      "text/plain": [
       "       Age Gender    Education Level                 Job Title  \\\n",
       "30    50.0   Male         Bachelor's                       CEO   \n",
       "83    52.0   Male                PhD  Chief Technology Officer   \n",
       "5001  45.0   Male  Bachelor's Degree         Financial Manager   \n",
       "\n",
       "      Years of Experience    Salary  \n",
       "30                   25.0  250000.0  \n",
       "83                   24.0  250000.0  \n",
       "5001                 21.0  250000.0  "
      ]
     },
     "execution_count": 21,
     "metadata": {},
     "output_type": "execute_result"
    }
   ],
   "source": [
    "i = df_cleaned[df_cleaned['Salary'] == max_salary]\n",
    "i.head(50)"
   ]
  },
  {
   "cell_type": "code",
   "execution_count": 22,
   "id": "4bf229c3",
   "metadata": {},
   "outputs": [
    {
     "name": "stdout",
     "output_type": "stream",
     "text": [
      "Job Title\n",
      "Software Engineer            518\n",
      "Data Scientist               453\n",
      "Software Engineer Manager    376\n",
      "Data Analyst                 363\n",
      "Senior Project Engineer      318\n",
      "Name: count, dtype: int64\n"
     ]
    }
   ],
   "source": [
    "job_title_count = df_cleaned['Job Title'].value_counts()\n",
    "print(job_title_count.head())"
   ]
  },
  {
   "cell_type": "code",
   "execution_count": 27,
   "id": "efffc751",
   "metadata": {},
   "outputs": [
    {
     "name": "stdout",
     "output_type": "stream",
     "text": [
      "Software Engineer\n",
      "518\n"
     ]
    }
   ],
   "source": [
    "most_commom_job_title = df_cleaned['Job Title'].value_counts().idxmax()\n",
    "count = df_cleaned['Job Title'].value_counts().max()\n",
    "\n",
    "print(most_commom_job_title)\n",
    "print(count)"
   ]
  },
  {
   "cell_type": "code",
   "execution_count": null,
   "id": "e8fbdf1c",
   "metadata": {},
   "outputs": [],
   "source": []
  }
 ],
 "metadata": {
  "kernelspec": {
   "display_name": "myenv",
   "language": "python",
   "name": "python3"
  },
  "language_info": {
   "codemirror_mode": {
    "name": "ipython",
    "version": 3
   },
   "file_extension": ".py",
   "mimetype": "text/x-python",
   "name": "python",
   "nbconvert_exporter": "python",
   "pygments_lexer": "ipython3",
   "version": "3.11.13"
  }
 },
 "nbformat": 4,
 "nbformat_minor": 5
}
