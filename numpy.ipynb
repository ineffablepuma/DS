{
 "cells": [
  {
   "cell_type": "code",
   "execution_count": 1,
   "id": "03ec7507",
   "metadata": {},
   "outputs": [
    {
     "name": "stdout",
     "output_type": "stream",
     "text": [
      "Requirement already satisfied: numpy in d:\\conda_envs\\myenv\\lib\\site-packages (2.3.1)\n"
     ]
    }
   ],
   "source": [
    "!pip install numpy"
   ]
  },
  {
   "cell_type": "code",
   "execution_count": 2,
   "id": "fee8e555",
   "metadata": {},
   "outputs": [
    {
     "name": "stdout",
     "output_type": "stream",
     "text": [
      "<class 'numpy.ndarray'>\n",
      "{'string': 2, 3: 4}\n"
     ]
    }
   ],
   "source": [
    "import numpy as np\n",
    "list = {\"string\":2, 3:4}\n",
    "array = np.array(list)\n",
    "print(type(array))\n",
    "print(array)"
   ]
  },
  {
   "cell_type": "code",
   "execution_count": 5,
   "id": "629d4522",
   "metadata": {},
   "outputs": [
    {
     "name": "stdout",
     "output_type": "stream",
     "text": [
      "[ 0.          1.11111111  2.22222222  3.33333333  4.44444444  5.55555556\n",
      "  6.66666667  7.77777778  8.88888889 10.        ]\n"
     ]
    }
   ],
   "source": [
    "line = np.linspace(0,10,10)\n",
    "print(line)"
   ]
  },
  {
   "cell_type": "code",
   "execution_count": 10,
   "id": "0c4ff791",
   "metadata": {},
   "outputs": [
    {
     "name": "stdout",
     "output_type": "stream",
     "text": [
      "[1.  2.5 4.  5.5 7.  8.5]\n"
     ]
    }
   ],
   "source": [
    "arr1 = np.linspace(1,10,6,endpoint = False)\n",
    "print(arr1)"
   ]
  },
  {
   "cell_type": "code",
   "execution_count": 11,
   "id": "c2489120",
   "metadata": {},
   "outputs": [
    {
     "name": "stdout",
     "output_type": "stream",
     "text": [
      "24\n",
      "[ 8 45 26 35 18 37  2 25  7 28]\n"
     ]
    }
   ],
   "source": [
    "random_number = np.random.randint(1,100)\n",
    "print(random_number)\n",
    "print(np.random.randint(1,51,10))"
   ]
  },
  {
   "cell_type": "code",
   "execution_count": 12,
   "id": "9b709d52",
   "metadata": {},
   "outputs": [
    {
     "data": {
      "text/plain": [
       "array([30, 40, 50, 60])"
      ]
     },
     "execution_count": 12,
     "metadata": {},
     "output_type": "execute_result"
    }
   ],
   "source": [
    "import numpy as np \n",
    "arr = np.array([10,20,30,40,50,60])\n",
    "a = arr[arr>20]\n",
    "a"
   ]
  },
  {
   "cell_type": "code",
   "execution_count": 13,
   "id": "14ab4844",
   "metadata": {},
   "outputs": [
    {
     "data": {
      "text/plain": [
       "array([10, 20, 68])"
      ]
     },
     "execution_count": 13,
     "metadata": {},
     "output_type": "execute_result"
    }
   ],
   "source": [
    "arr = np.array([10,20,31,45,37,68,23])\n",
    "e = arr[arr % 2 == 0]\n",
    "e"
   ]
  },
  {
   "cell_type": "code",
   "execution_count": 1,
   "id": "da349b63",
   "metadata": {},
   "outputs": [
    {
     "name": "stdout",
     "output_type": "stream",
     "text": [
      "HELLO WORLD\n"
     ]
    }
   ],
   "source": [
    "text = \"hello world\"\n",
    "print(text.upper())"
   ]
  },
  {
   "cell_type": "code",
   "execution_count": 2,
   "id": "971dcd01",
   "metadata": {},
   "outputs": [
    {
     "name": "stdout",
     "output_type": "stream",
     "text": [
      "['HELLO' 'WORLD']\n"
     ]
    }
   ],
   "source": [
    "import numpy as np\n",
    "arr = np.array(['hello', 'world'])\n",
    "print(np.char.upper(arr))"
   ]
  },
  {
   "cell_type": "code",
   "execution_count": 3,
   "id": "a0cb407c",
   "metadata": {},
   "outputs": [
    {
     "name": "stdout",
     "output_type": "stream",
     "text": [
      "Hello world\n",
      "Hello World\n",
      "HELLO WORLD\n"
     ]
    }
   ],
   "source": [
    "text = \"hello world\"\n",
    "print(text.capitalize())  # Hello world\n",
    "print(text.title())       # Hello World\n",
    "print(text.swapcase())    # HELLO WORLD"
   ]
  },
  {
   "cell_type": "code",
   "execution_count": 4,
   "id": "6ce50874",
   "metadata": {},
   "outputs": [
    {
     "name": "stdout",
     "output_type": "stream",
     "text": [
      "hello world\n"
     ]
    }
   ],
   "source": [
    "text = \"   hello world   \"\n",
    "print(text.strip())   # \"hello world\""
   ]
  },
  {
   "cell_type": "code",
   "execution_count": 5,
   "id": "5125b284",
   "metadata": {},
   "outputs": [
    {
     "name": "stdout",
     "output_type": "stream",
     "text": [
      "0\n",
      "13\n",
      "7\n"
     ]
    }
   ],
   "source": [
    "text = \"banana apple banana\"\n",
    "print(text.find(\"banana\"))     # 0\n",
    "print(text.rfind(\"banana\"))    # 13\n",
    "print(text.index(\"apple\"))     # 7"
   ]
  },
  {
   "cell_type": "code",
   "execution_count": 6,
   "id": "e281d38f",
   "metadata": {},
   "outputs": [
    {
     "name": "stdout",
     "output_type": "stream",
     "text": [
      "2\n",
      "mango apple mango\n"
     ]
    }
   ],
   "source": [
    "text = \"banana apple banana\"\n",
    "print(text.count(\"banana\"))          # 2\n",
    "print(text.replace(\"banana\", \"mango\"))  # mango apple mango"
   ]
  },
  {
   "cell_type": "code",
   "execution_count": 7,
   "id": "5650f6a8",
   "metadata": {},
   "outputs": [
    {
     "name": "stdout",
     "output_type": "stream",
     "text": [
      "True\n",
      "True\n",
      "True\n",
      "True\n"
     ]
    }
   ],
   "source": [
    "print(\"hello\".isalpha())   \n",
    "print(\"123\".isdigit())     \n",
    "print(\"abc123\".isalnum())  \n",
    "print(\"   \".isspace())     "
   ]
  },
  {
   "cell_type": "code",
   "execution_count": 1,
   "id": "fe2bb640",
   "metadata": {},
   "outputs": [
    {
     "name": "stdout",
     "output_type": "stream",
     "text": [
      "Collecting scipy\n",
      "  Downloading scipy-1.16.1-cp311-cp311-win_amd64.whl.metadata (60 kB)\n",
      "Requirement already satisfied: numpy<2.6,>=1.25.2 in d:\\conda_envs\\myenv\\lib\\site-packages (from scipy) (2.3.1)\n",
      "Downloading scipy-1.16.1-cp311-cp311-win_amd64.whl (38.6 MB)\n",
      "   ---------------------------------------- 0.0/38.6 MB ? eta -:--:--\n",
      "   - -------------------------------------- 1.6/38.6 MB 12.0 MB/s eta 0:00:04\n",
      "   --- ------------------------------------ 3.7/38.6 MB 15.6 MB/s eta 0:00:03\n",
      "   --------- ------------------------------ 9.2/38.6 MB 16.8 MB/s eta 0:00:02\n",
      "   -------------- ------------------------- 13.9/38.6 MB 18.6 MB/s eta 0:00:02\n",
      "   ------------------- -------------------- 18.9/38.6 MB 19.9 MB/s eta 0:00:01\n",
      "   ------------------------ --------------- 23.9/38.6 MB 20.4 MB/s eta 0:00:01\n",
      "   ----------------------------- ---------- 28.6/38.6 MB 20.6 MB/s eta 0:00:01\n",
      "   ---------------------------------- ----- 33.3/38.6 MB 20.7 MB/s eta 0:00:01\n",
      "   -------------------------------------- - 37.0/38.6 MB 20.6 MB/s eta 0:00:01\n",
      "   ---------------------------------------- 38.6/38.6 MB 20.0 MB/s eta 0:00:00\n",
      "Installing collected packages: scipy\n",
      "Successfully installed scipy-1.16.1\n"
     ]
    }
   ],
   "source": [
    "!pip install scipy"
   ]
  },
  {
   "cell_type": "code",
   "execution_count": 6,
   "id": "0057182c",
   "metadata": {},
   "outputs": [
    {
     "name": "stdout",
     "output_type": "stream",
     "text": [
      "ModeResult(mode=np.int64(81), count=np.int64(6))\n",
      "81 6\n"
     ]
    }
   ],
   "source": [
    "from scipy import stats\n",
    "import numpy as np\n",
    "\n",
    "marks = np.array([82,85,83,89,86,85,84,86,89,86,86,86,86,81,81,81,81,81,81])\n",
    "# same choti duita number repeate bhako xa bhane sano number print hunxa\n",
    "mode = stats.mode(marks)\n",
    "print(mode)\n",
    "print(mode.mode, mode.count)"
   ]
  },
  {
   "cell_type": "code",
   "execution_count": 3,
   "id": "bee5754c",
   "metadata": {},
   "outputs": [
    {
     "name": "stdout",
     "output_type": "stream",
     "text": [
      "[[3 5]\n",
      " [7 9]]\n"
     ]
    }
   ],
   "source": [
    "#matrix operation\n",
    "#addition\n",
    "import numpy as np\n",
    "a = np.array([[1,2],[3,4]])\n",
    "b = np.array([[2,3],[4,5]])\n",
    "print(a+b)"
   ]
  },
  {
   "cell_type": "code",
   "execution_count": 4,
   "id": "9ba34d48",
   "metadata": {},
   "outputs": [
    {
     "name": "stdout",
     "output_type": "stream",
     "text": [
      "[[ 2  6]\n",
      " [12 20]]\n"
     ]
    }
   ],
   "source": [
    "a = np.array([[1,2],[3,4]])\n",
    "b = np.array([[2,3],[4,5]])\n",
    "print(a*b) # each element got multiplied"
   ]
  },
  {
   "cell_type": "code",
   "execution_count": 5,
   "id": "1711ca53",
   "metadata": {},
   "outputs": [
    {
     "name": "stdout",
     "output_type": "stream",
     "text": [
      "[[10 13]\n",
      " [22 29]]\n"
     ]
    }
   ],
   "source": [
    "a = np.array([[1,2],[3,4]])\n",
    "b = np.array([[2,3],[4,5]])\n",
    "print(np.matmul(a,b))"
   ]
  },
  {
   "cell_type": "code",
   "execution_count": 7,
   "id": "3cfd25bc",
   "metadata": {},
   "outputs": [
    {
     "name": "stdout",
     "output_type": "stream",
     "text": [
      "[[10 13]\n",
      " [22 29]]\n",
      "[[ 7 10]\n",
      " [15 22]]\n"
     ]
    }
   ],
   "source": [
    "#matrix:\n",
    "#matrix multiplication is possible through this or matmul\n",
    "a = np.matrix([[1,2],[3,4]])\n",
    "b = np.matrix([[2,3],[4,5]])\n",
    "print(a*b)\n",
    "print(a**2) #it is a*a but if not done in matrix then it would just power each element by 2\n"
   ]
  },
  {
   "cell_type": "code",
   "execution_count": 11,
   "id": "a49b14ed",
   "metadata": {},
   "outputs": [
    {
     "name": "stdout",
     "output_type": "stream",
     "text": [
      "[[1 3]\n",
      " [2 4]]\n",
      "[[1 3]\n",
      " [2 4]]\n",
      "[[1 3]\n",
      " [2 4]]\n"
     ]
    }
   ],
   "source": [
    "#transpose: row and column swap\n",
    "r = np.transpose(a) #for normal array\n",
    "print(r)\n",
    "print(np.transpose(a))\n",
    "print(a.T) # for matrix"
   ]
  },
  {
   "cell_type": "code",
   "execution_count": 22,
   "id": "be68f159",
   "metadata": {},
   "outputs": [
    {
     "name": "stdout",
     "output_type": "stream",
     "text": [
      "[[0. 1. 0.]\n",
      " [0. 0. 1.]\n",
      " [0. 0. 0.]]\n",
      "[[1. 0. 0. 0.]\n",
      " [0. 1. 0. 0.]\n",
      " [0. 0. 1. 0.]\n",
      " [0. 0. 0. 1.]]\n"
     ]
    }
   ],
   "source": [
    "e = np.eye(N=3,M=3,k=1) #k: 0 = main diagonal,1 = above main,-1 = below main so on\n",
    "print(e)\n",
    "m2 = np.identity(4)\n",
    "print(m2)"
   ]
  },
  {
   "cell_type": "code",
   "execution_count": 4,
   "id": "49607352",
   "metadata": {},
   "outputs": [
    {
     "name": "stdout",
     "output_type": "stream",
     "text": [
      "Mean: 49.1\n",
      "Modified array:\n",
      " [[ 0 21  0 31  2]\n",
      " [ 0 30  0 10 49]\n",
      " [30 34  0  0  0]\n",
      " [21  0 22 41  0]]\n"
     ]
    }
   ],
   "source": [
    "#You are given a numpy 2d array of shape(4,5) replace the element in the array that are greater than  the means of the array with 0 and leave the rest unchanged.\n",
    "import numpy as np\n",
    "\n",
    "arr = np.random.randint(1,100,size=(4,5))\n",
    "\n",
    "mean_val = arr.mean()\n",
    "print(\"Mean:\", mean_val)\n",
    "\n",
    "arr[arr > mean_val] = 0\n",
    "\n",
    "print(\"Modified array:\\n\", arr)\n"
   ]
  },
  {
   "cell_type": "code",
   "execution_count": 6,
   "id": "a99c4075",
   "metadata": {},
   "outputs": [
    {
     "name": "stdout",
     "output_type": "stream",
     "text": [
      "[[0 1 1 0 0]\n",
      " [1 0 1 0 0]]\n"
     ]
    }
   ],
   "source": [
    "ar1 = np.array([[-3,1,5,-3,-5],[2,-5,3,-5,-6]])\n",
    "print(np.where(ar1<0,0,1))  #negative replaced by 0 and positive by 1"
   ]
  },
  {
   "cell_type": "code",
   "execution_count": 8,
   "id": "170dd36b",
   "metadata": {},
   "outputs": [
    {
     "name": "stdout",
     "output_type": "stream",
     "text": [
      "[ 5  5  1 10  9]\n",
      "[-0.95892427 -0.95892427  0.84147098 -0.54402111  0.41211849]\n",
      "[ 0.28366219  0.28366219  0.54030231 -0.83907153 -0.91113026]\n",
      "[-3.38051501 -3.38051501  1.55740772  0.64836083 -0.45231566]\n"
     ]
    }
   ],
   "source": [
    "arangle = np.random.randint(1,11,5)\n",
    "print(arangle)\n",
    "print(np.sin(arangle))\n",
    "print(np.cos(arangle))\n",
    "print(np.tan(arangle))"
   ]
  },
  {
   "cell_type": "code",
   "execution_count": 10,
   "id": "f59e5df3",
   "metadata": {},
   "outputs": [
    {
     "name": "stdout",
     "output_type": "stream",
     "text": [
      "[0.         0.69314718 1.09861229]\n",
      "[ 2.71828183  7.3890561  20.08553692]\n"
     ]
    }
   ],
   "source": [
    "X = np.array([1,2,3])\n",
    "print(np.log(X))\n",
    "print(np.exp(X))"
   ]
  },
  {
   "cell_type": "code",
   "execution_count": 12,
   "id": "6431f617",
   "metadata": {},
   "outputs": [
    {
     "name": "stdout",
     "output_type": "stream",
     "text": [
      "[0.22 0.03 0.37 0.1  0.45 0.13 0.03 0.83 0.93 0.53]\n"
     ]
    }
   ],
   "source": [
    "a = np.round(np.random.rand(10),2)  #round of to two decimal place\n",
    "print(a)"
   ]
  },
  {
   "cell_type": "code",
   "execution_count": null,
   "id": "14109282",
   "metadata": {},
   "outputs": [],
   "source": []
  }
 ],
 "metadata": {
  "kernelspec": {
   "display_name": "myenv",
   "language": "python",
   "name": "python3"
  },
  "language_info": {
   "codemirror_mode": {
    "name": "ipython",
    "version": 3
   },
   "file_extension": ".py",
   "mimetype": "text/x-python",
   "name": "python",
   "nbconvert_exporter": "python",
   "pygments_lexer": "ipython3",
   "version": "3.11.13"
  }
 },
 "nbformat": 4,
 "nbformat_minor": 5
}
