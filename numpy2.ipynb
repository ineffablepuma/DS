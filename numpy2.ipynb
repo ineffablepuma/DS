{
 "cells": [
  {
   "cell_type": "code",
   "execution_count": 3,
   "id": "c7d12bc5",
   "metadata": {},
   "outputs": [
    {
     "name": "stdout",
     "output_type": "stream",
     "text": [
      "[1 2 3 4 5 6]\n",
      "[False False False  True  True  True]\n"
     ]
    }
   ],
   "source": [
    "import numpy as np \n",
    "array = np.array([1,2,3,4,5,6])\n",
    "boolean = array >3\n",
    "print(array)\n",
    "print(boolean)"
   ]
  },
  {
   "cell_type": "code",
   "execution_count": 8,
   "id": "3f54daa3",
   "metadata": {},
   "outputs": [
    {
     "name": "stdout",
     "output_type": "stream",
     "text": [
      "[1 2 3 4 5 6 7 8]\n",
      "[2 4 6 8]\n"
     ]
    }
   ],
   "source": [
    "nm = np.array([1,2,3,4,5,6,7,8])\n",
    "nm_copy = nm.copy()\n",
    "print(nm_copy)\n",
    "\n",
    "result = nm_copy[nm % 2 == 0]\n",
    "print(result)"
   ]
  },
  {
   "cell_type": "code",
   "execution_count": 7,
   "id": "e8b66dff",
   "metadata": {},
   "outputs": [
    {
     "name": "stdout",
     "output_type": "stream",
     "text": [
      "[1 2 3 4 5 6 7 8]\n",
      "[1 1 3 1 5 1 7 1]\n"
     ]
    }
   ],
   "source": [
    "nm = np.array([1,2,3,4,5,6,7,8])\n",
    "nm_copy = nm.copy()\n",
    "print(nm_copy)\n",
    "\n",
    "nm_copy[nm % 2 == 0] = True\n",
    "print(nm_copy)"
   ]
  },
  {
   "cell_type": "code",
   "execution_count": 9,
   "id": "729dd04c",
   "metadata": {},
   "outputs": [
    {
     "name": "stdout",
     "output_type": "stream",
     "text": [
      "[1, 2, 3, 4]\n"
     ]
    }
   ],
   "source": [
    "l1 = [1,2]\n",
    "l2 = [3,4]\n",
    "print(l1+l2)"
   ]
  },
  {
   "cell_type": "code",
   "execution_count": null,
   "id": "333a36ee",
   "metadata": {},
   "outputs": [
    {
     "name": "stdout",
     "output_type": "stream",
     "text": [
      "[4 6]\n"
     ]
    }
   ],
   "source": [
    "a1 = np.array([1,2]) #homogenous shape\n",
    "a2 = np.array([3,4])\n",
    "print(a1+a2)"
   ]
  },
  {
   "cell_type": "code",
   "execution_count": 13,
   "id": "8bb5e6c4",
   "metadata": {},
   "outputs": [
    {
     "name": "stdout",
     "output_type": "stream",
     "text": [
      "[1 2 4 5]\n"
     ]
    }
   ],
   "source": [
    "#fancy indexing\n",
    "array = np.array([1,2,3,4,5,6,7,8,9])\n",
    "select_elements = array[[0,1,3,4]]\n",
    "print(select_elements)"
   ]
  },
  {
   "cell_type": "code",
   "execution_count": 25,
   "id": "03510d7f",
   "metadata": {},
   "outputs": [
    {
     "name": "stdout",
     "output_type": "stream",
     "text": [
      "[ 2  6 10 14]\n"
     ]
    }
   ],
   "source": [
    "#array slicing\n",
    "import numpy as np\n",
    "nm = np.array([2,4,6,8,10,12,14])\n",
    "sliced_numbers = nm[0:7:2]\n",
    "print(sliced_numbers)"
   ]
  },
  {
   "cell_type": "code",
   "execution_count": 37,
   "id": "67c2b76d",
   "metadata": {},
   "outputs": [
    {
     "name": "stdout",
     "output_type": "stream",
     "text": [
      "[14 10  6  2]\n"
     ]
    }
   ],
   "source": [
    "import numpy as np\n",
    "nm = np.array([2,4,6,8,10,12,14])\n",
    "sliced_numbers = nm[7:-8:-2]\n",
    "print(sliced_numbers)"
   ]
  },
  {
   "cell_type": "code",
   "execution_count": 5,
   "id": "a9212fb1",
   "metadata": {},
   "outputs": [
    {
     "name": "stdout",
     "output_type": "stream",
     "text": [
      "1\n",
      "(8,)\n",
      "8\n",
      "int64\n"
     ]
    }
   ],
   "source": [
    "#array attributes\n",
    "numbers = np.array([1,2,3,4,5,6,7,8])\n",
    "print(numbers.ndim)\n",
    "print(numbers.shape)\n",
    "print(numbers.size)\n",
    "print(numbers.dtype)"
   ]
  },
  {
   "cell_type": "code",
   "execution_count": 6,
   "id": "9ac76975",
   "metadata": {},
   "outputs": [
    {
     "name": "stdout",
     "output_type": "stream",
     "text": [
      "[[ 1  2  3  4]\n",
      " [ 5  6  7  8]\n",
      " [ 9 10 11 12]]\n"
     ]
    }
   ],
   "source": [
    "#2d array\n",
    "array = np.array([[1,2,3,4],[5,6,7,8],[9,10,11,12]])\n",
    "print(array)"
   ]
  },
  {
   "cell_type": "code",
   "execution_count": 7,
   "id": "a3dcd64d",
   "metadata": {},
   "outputs": [
    {
     "name": "stdout",
     "output_type": "stream",
     "text": [
      "[[ 1  2  3]\n",
      " [ 4  5  6]\n",
      " [ 7  8  9]\n",
      " [10 11 12]]\n"
     ]
    }
   ],
   "source": [
    "#create a 2d array with 4 rows and 3 columns\n",
    "arr = np.array([[1,2,3],[4,5,6],[7,8,9],[10,11,12]])\n",
    "print(arr)"
   ]
  },
  {
   "cell_type": "code",
   "execution_count": 8,
   "id": "b9cfd3c4",
   "metadata": {},
   "outputs": [
    {
     "name": "stdout",
     "output_type": "stream",
     "text": [
      "[[[ 1  2  3]\n",
      "  [ 4  5  6]\n",
      "  [ 7  8  9]]\n",
      "\n",
      " [[10 20 30]\n",
      "  [40 50 60]\n",
      "  [70 80 90]]\n",
      "\n",
      " [[15 25 35]\n",
      "  [45 55 65]\n",
      "  [75 85 95]]]\n"
     ]
    }
   ],
   "source": [
    "#3d array\n",
    "arr = np.array([\n",
    "    [\n",
    "        [1,2,3],\n",
    "        [4,5,6],\n",
    "        [7,8,9]\n",
    "    ],\n",
    "    [\n",
    "        [10,20,30],\n",
    "        [40,50,60],\n",
    "        [70,80,90]\n",
    "    ],\n",
    "    [\n",
    "        [15,25,35],\n",
    "        [45,55,65],\n",
    "        [75,85,95]\n",
    "    ]\n",
    "])\n",
    "print(arr)"
   ]
  },
  {
   "cell_type": "code",
   "execution_count": 9,
   "id": "54d95d82",
   "metadata": {},
   "outputs": [
    {
     "name": "stdout",
     "output_type": "stream",
     "text": [
      "[[[6.23042070e-307 8.45590538e-307]\n",
      "  [7.56593017e-307 1.95821439e-306]\n",
      "  [2.22522189e-306 6.23060744e-307]]\n",
      "\n",
      " [[6.23053954e-307 9.34609790e-307]\n",
      "  [8.45593934e-307 9.34600963e-307]\n",
      "  [1.86921143e-306 6.23061763e-307]]\n",
      "\n",
      " [[1.60220393e-306 6.89805151e-307]\n",
      "  [7.56592338e-307 6.89807188e-307]\n",
      "  [1.86919106e-306 8.45602762e-307]]\n",
      "\n",
      " [[1.33511969e-306 8.34446411e-308]\n",
      "  [1.78022342e-306 8.06635958e-308]\n",
      "  [8.34423493e-308 2.10081501e-312]]]\n",
      "3\n"
     ]
    }
   ],
   "source": [
    "np_array = np.empty((4,3,2))\n",
    "print(np_array)\n",
    "print(np_array.ndim)"
   ]
  },
  {
   "cell_type": "code",
   "execution_count": 10,
   "id": "02dd5cf9",
   "metadata": {},
   "outputs": [
    {
     "name": "stdout",
     "output_type": "stream",
     "text": [
      "[[[0. 0.]\n",
      "  [0. 0.]\n",
      "  [0. 0.]]\n",
      "\n",
      " [[0. 0.]\n",
      "  [0. 0.]\n",
      "  [0. 0.]]\n",
      "\n",
      " [[0. 0.]\n",
      "  [0. 0.]\n",
      "  [0. 0.]]\n",
      "\n",
      " [[0. 0.]\n",
      "  [0. 0.]\n",
      "  [0. 0.]]]\n"
     ]
    }
   ],
   "source": [
    "np_array = np.zeros((4,3,2))\n",
    "print(np_array)"
   ]
  },
  {
   "cell_type": "code",
   "execution_count": 71,
   "id": "ade2780c",
   "metadata": {},
   "outputs": [
    {
     "name": "stdout",
     "output_type": "stream",
     "text": [
      "[[[ 1  2  3  4]\n",
      "  [ 5  6  7  8]\n",
      "  [ 9 10 11 12]\n",
      "  [13 14 15 16]]\n",
      "\n",
      " [[17 18 19 20]\n",
      "  [21 22 23 24]\n",
      "  [25 26 27 28]\n",
      "  [29 30 31 32]]\n",
      "\n",
      " [[33 34 35 36]\n",
      "  [37 38 39 40]\n",
      "  [41 42 43 44]\n",
      "  [45 46 47 48]]\n",
      "\n",
      " [[49 50 51 52]\n",
      "  [53 54 55 56]\n",
      "  [57 58 59 60]\n",
      "  [61 62 63 64]]]\n"
     ]
    }
   ],
   "source": [
    "#.reshape \n",
    "arr1 = np.arange(1,65).reshape(4,4,4)\n",
    "print(arr1)"
   ]
  },
  {
   "cell_type": "code",
   "execution_count": 72,
   "id": "0543d72c",
   "metadata": {},
   "outputs": [
    {
     "name": "stdout",
     "output_type": "stream",
     "text": [
      "[ 1  2  3  4  5  6  7  8  9 10 11 12 13 14 15 16 17 18 19 20 21 22 23 24\n",
      " 25 26 27]\n",
      "[[ 1  2  3  4  5  6  7  8  9]\n",
      " [10 11 12 13 14 15 16 17 18]\n",
      " [19 20 21 22 23 24 25 26 27]]\n",
      "[[[ 1  2  3]\n",
      "  [ 4  5  6]\n",
      "  [ 7  8  9]]\n",
      "\n",
      " [[10 11 12]\n",
      "  [13 14 15]\n",
      "  [16 17 18]]\n",
      "\n",
      " [[19 20 21]\n",
      "  [22 23 24]\n",
      "  [25 26 27]]]\n"
     ]
    }
   ],
   "source": [
    "#np.reshape, order 1d to 2d and 3d\n",
    "arr1 = np.arange(1,28)\n",
    "print(arr1)\n",
    "arr2 = arr1.reshape(3,9)\n",
    "print(arr2)\n",
    "arr3 = arr2.reshape(3,3,3)\n",
    "print(arr3)"
   ]
  },
  {
   "cell_type": "code",
   "execution_count": 51,
   "id": "69aecf04",
   "metadata": {},
   "outputs": [
    {
     "name": "stdout",
     "output_type": "stream",
     "text": [
      "[[[ 1  2  3  4]\n",
      "  [ 5  6  7  8]\n",
      "  [ 9 10 11 12]\n",
      "  [13 14 15 16]]\n",
      "\n",
      " [[17 18 19 20]\n",
      "  [21 22 23 24]\n",
      "  [25 26 27 28]\n",
      "  [29 30 31 32]]\n",
      "\n",
      " [[33 34 35 36]\n",
      "  [37 38 39 40]\n",
      "  [41 42 43 44]\n",
      "  [45 46 47 48]]\n",
      "\n",
      " [[49 50 51 52]\n",
      "  [53 54 55 56]\n",
      "  [57 58 59 60]\n",
      "  [61 62 63 64]]]\n",
      "28\n"
     ]
    }
   ],
   "source": [
    "#3d array slicing\n",
    "arr1 = np.arange(1,65).reshape(4,4,4)\n",
    "print(arr1)\n",
    "result = arr1[1,2,3] #block, row, column\n",
    "print(result)"
   ]
  },
  {
   "cell_type": "code",
   "execution_count": null,
   "id": "1ca23333",
   "metadata": {},
   "outputs": [
    {
     "name": "stdout",
     "output_type": "stream",
     "text": [
      "[[ 9 10 11 12]\n",
      " [25 26 27 28]\n",
      " [41 42 43 44]\n",
      " [57 58 59 60]]\n"
     ]
    }
   ],
   "source": [
    "arr1 = np.arange(1,65).reshape(4,4,4)\n",
    "result = arr1[:,2,:] # every block second index row each column\n",
    "print(result)"
   ]
  },
  {
   "cell_type": "code",
   "execution_count": null,
   "id": "34d42570",
   "metadata": {},
   "outputs": [
    {
     "name": "stdout",
     "output_type": "stream",
     "text": [
      "[[ 3  7 11 15]\n",
      " [19 23 27 31]\n",
      " [35 39 43 47]\n",
      " [51 55 59 63]]\n"
     ]
    }
   ],
   "source": [
    "arr1 = np.arange(1,65).reshape(4,4,4)\n",
    "result = arr1[:,:,2] # every block every row 2 index column\n",
    "print(result)"
   ]
  },
  {
   "cell_type": "code",
   "execution_count": 70,
   "id": "c3d8c4eb",
   "metadata": {},
   "outputs": [
    {
     "name": "stdout",
     "output_type": "stream",
     "text": [
      "[[33 34 35 36]\n",
      " [37 38 39 40]\n",
      " [41 42 43 44]\n",
      " [45 46 47 48]]\n"
     ]
    }
   ],
   "source": [
    "arr1 = np.arange(1,65).reshape(4,4,4)\n",
    "result = arr1[2,:,:] # 2 index block every row every column; arr1[2] lekhda ni pugxa\n",
    "print(result)"
   ]
  },
  {
   "cell_type": "code",
   "execution_count": 79,
   "id": "e371905f",
   "metadata": {},
   "outputs": [
    {
     "name": "stdout",
     "output_type": "stream",
     "text": [
      "[35 66 14 57 79 36 28 85 36 44 97 47]\n",
      "[17.  32.5  6.5 28.  39.  17.5 13.5 42.  17.5 21.5 48.  23. ]\n",
      "[1156 4225  169 3136 6084 1225  729 7056 1225 1849 9216 2116]\n",
      "[5.83095189 8.06225775 3.60555128 7.48331477 8.83176087 5.91607978\n",
      " 5.19615242 9.16515139 5.91607978 6.55743852 9.79795897 6.78232998]\n",
      "[3.52636052 4.17438727 2.56494936 4.02535169 4.35670883 3.55534806\n",
      " 3.29583687 4.4308168  3.55534806 3.76120012 4.56434819 3.8286414 ]\n",
      "[5.83461743e+14 1.69488924e+28 4.42413392e+05 2.09165950e+24\n",
      " 7.49841700e+33 1.58601345e+15 5.32048241e+11 3.02507732e+36\n",
      " 1.58601345e+15 4.72783947e+18 4.92345829e+41 9.49611942e+19]\n"
     ]
    }
   ],
   "source": [
    "#1d operation\n",
    "import numpy as np\n",
    "\n",
    "a = np.array([34,65,13,56,78,35,27,84,35,43,96,46])\n",
    "print(a + 1)\n",
    "print(a / 2)\n",
    "print(a ** 2)\n",
    "print(np.sqrt(a))\n",
    "print(np.log(a))\n",
    "print(np.exp(a))"
   ]
  },
  {
   "cell_type": "code",
   "execution_count": 87,
   "id": "f067e592",
   "metadata": {},
   "outputs": [
    {
     "name": "stdout",
     "output_type": "stream",
     "text": [
      "612\n",
      "13\n",
      "96\n",
      "51.0\n",
      "44.5\n",
      "24.10739858770885\n",
      "581.1666666666666\n",
      "68.25\n"
     ]
    }
   ],
   "source": [
    "print(np.sum(a))\n",
    "print(np.min(a))\n",
    "print(np.max(a))\n",
    "print(np.mean(a))\n",
    "print(np.median(a))\n",
    "print(np.std(a))\n",
    "print(np.var(a))\n",
    "print(np.percentile(a,75))"
   ]
  },
  {
   "cell_type": "code",
   "execution_count": null,
   "id": "5e557f05",
   "metadata": {},
   "outputs": [
    {
     "name": "stdout",
     "output_type": "stream",
     "text": [
      "[False  True False  True  True False False  True False False  True False\n",
      " False]\n",
      "[99 56 78 84 96]\n",
      "(array([ 1,  3,  4,  7, 10]),)\n"
     ]
    }
   ],
   "source": [
    "print(a>50)\n",
    "print(a[a>50])\n",
    "print(np.where(a>50))"
   ]
  },
  {
   "cell_type": "code",
   "execution_count": 99,
   "id": "e1aa771b",
   "metadata": {},
   "outputs": [
    {
     "name": "stdout",
     "output_type": "stream",
     "text": [
      "[10 99 13 56 78 35 27 84 35 43 96 46  6]\n"
     ]
    }
   ],
   "source": [
    "a = np.array([34,65,13,56,78,35,27,84,35,43,96,46])\n",
    "a[0] = 10             # Change value\n",
    "a = np.append(a, 6)   # Add element\n",
    "a = np.insert(a, 1, 99) # Insert at index\n",
    "a = np.delete(a, 2)    #dellete element\n",
    "print(a)"
   ]
  },
  {
   "cell_type": "code",
   "execution_count": 103,
   "id": "3d5cbb48",
   "metadata": {},
   "outputs": [
    {
     "name": "stdout",
     "output_type": "stream",
     "text": [
      "[ 6 10 13 27 35 35 43 46 56 78 84 96 99]\n"
     ]
    }
   ],
   "source": [
    "print(np.sort(a))"
   ]
  }
 ],
 "metadata": {
  "kernelspec": {
   "display_name": "myenv",
   "language": "python",
   "name": "python3"
  },
  "language_info": {
   "codemirror_mode": {
    "name": "ipython",
    "version": 3
   },
   "file_extension": ".py",
   "mimetype": "text/x-python",
   "name": "python",
   "nbconvert_exporter": "python",
   "pygments_lexer": "ipython3",
   "version": "3.11.13"
  }
 },
 "nbformat": 4,
 "nbformat_minor": 5
}
