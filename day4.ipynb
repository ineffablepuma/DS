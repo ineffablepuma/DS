{
 "cells": [
  {
   "cell_type": "code",
   "execution_count": 4,
   "id": "1aa6d11a",
   "metadata": {},
   "outputs": [
    {
     "name": "stdout",
     "output_type": "stream",
     "text": [
      "vastu\n"
     ]
    }
   ],
   "source": [
    "# reverse string using for loop\n",
    "string1 = \"utsav\"\n",
    "reverse1 = \"\"\n",
    "for i in string1:\n",
    "    reverse1 = i + reverse1  #like stack first u then t comes before u and so on\n",
    "print(reverse1)"
   ]
  },
  {
   "cell_type": "code",
   "execution_count": 11,
   "id": "e0369501",
   "metadata": {},
   "outputs": [
    {
     "name": "stdout",
     "output_type": "stream",
     "text": [
      "e\n",
      "l\n",
      " \n",
      "o\n",
      "l\n"
     ]
    }
   ],
   "source": [
    "#print only the odd char in string\n",
    "str2 = \"hello world\"\n",
    "for i in range(1,len(str2),2):\n",
    "    print(str2[i])"
   ]
  },
  {
   "cell_type": "code",
   "execution_count": null,
   "id": "59493651",
   "metadata": {},
   "outputs": [
    {
     "name": "stdout",
     "output_type": "stream",
     "text": [
      "e\n",
      " \n"
     ]
    }
   ],
   "source": [
    "str2 = \"hello world\"\n",
    "for i in str2:\n",
    "    if str2.index(i) % 2 != 0:\n",
    "        print(i)"
   ]
  },
  {
   "cell_type": "code",
   "execution_count": null,
   "id": "2a0ca702",
   "metadata": {},
   "outputs": [
    {
     "name": "stdout",
     "output_type": "stream",
     "text": [
      "0\n",
      "1\n",
      "2\n",
      "2\n",
      "4\n",
      "5\n",
      "6\n",
      "4\n",
      "8\n",
      "2\n",
      "10\n"
     ]
    }
   ],
   "source": [
    "str2 = \"hello world\"\n",
    "for i in str2:\n",
    "    print(str2.index(i))  #not good"
   ]
  },
  {
   "cell_type": "code",
   "execution_count": 15,
   "id": "ef527d65",
   "metadata": {},
   "outputs": [
    {
     "name": "stdout",
     "output_type": "stream",
     "text": [
      "30\n"
     ]
    }
   ],
   "source": [
    "list = [1,2,3,4,5,6,7,8,9,10]\n",
    "sum = 0\n",
    "for i in list:\n",
    "    if i % 2 == 0:\n",
    "        sum = sum + i\n",
    "print(sum)"
   ]
  },
  {
   "cell_type": "code",
   "execution_count": 21,
   "id": "7996a65f",
   "metadata": {},
   "outputs": [
    {
     "name": "stdout",
     "output_type": "stream",
     "text": [
      "0\n",
      "1\n",
      "1\n",
      "2\n",
      "3\n",
      "5\n",
      "8\n",
      "13\n",
      "21\n",
      "34\n",
      "55\n",
      "89\n",
      "144\n",
      "233\n",
      "377\n",
      "610\n",
      "987\n",
      "1597\n",
      "2584\n",
      "4181\n"
     ]
    }
   ],
   "source": [
    "#fibonacci numbers\n",
    "a = 0\n",
    "b = 1\n",
    "num1 = int(input(\"Enter the number of fibonacci numbers\"))\n",
    "for i in range(0,num1):\n",
    "    print(a)\n",
    "    c = a + b\n",
    "    a = b\n",
    "    b = c"
   ]
  },
  {
   "cell_type": "code",
   "execution_count": null,
   "id": "caaa9361",
   "metadata": {},
   "outputs": [
    {
     "name": "stdout",
     "output_type": "stream",
     "text": [
      "1\n",
      "2\n",
      "3\n",
      "5\n",
      "7\n",
      "11\n",
      "13\n",
      "17\n",
      "19\n",
      "23\n",
      "29\n"
     ]
    }
   ],
   "source": [
    "#prime number count\n",
    "num1 = int(input(\"Enter the number of prime numbers\"))\n",
    "flag = 0\n",
    "for i in range(1,num1):\n",
    "    flag = 0  \n",
    "    for j in range(2,i):   # range(2,int(i/2)+1) for half loop , range(2,int(i ** 0.5)+1) for even less, i**0.5 means sqare root of i\n",
    "        if i % j == 0:\n",
    "            flag = flag + 1  \n",
    "    if flag == 0:\n",
    "        print(i)       "
   ]
  },
  {
   "cell_type": "code",
   "execution_count": null,
   "id": "e7db98bd",
   "metadata": {},
   "outputs": [
    {
     "name": "stdout",
     "output_type": "stream",
     "text": [
      "120\n"
     ]
    }
   ],
   "source": [
    "# factorial\n",
    "num1 = int(input(\"Enter the number to find factorial\"))\n",
    "fac = 1\n",
    "for i in range(1,num1+1):\n",
    "    fac = fac * i\n",
    "print(fac)"
   ]
  },
  {
   "cell_type": "code",
   "execution_count": 23,
   "id": "c2afddfa",
   "metadata": {},
   "outputs": [
    {
     "name": "stdout",
     "output_type": "stream",
     "text": [
      "Armstrong\n"
     ]
    }
   ],
   "source": [
    "#armstrong number\n",
    "num1 = int(input(\"Enter the number to check armstorng\"))\n",
    "l = len(str(num1))\n",
    "a = num1\n",
    "new = 0\n",
    "while num1 != 0:\n",
    "    r = num1 % 10\n",
    "    new = new + r ** l\n",
    "    num1 = num1 // 10    #int(num1/10)\n",
    "if new == a:\n",
    "    print(\"Armstrong\")\n",
    "else:\n",
    "    print(\"Not Armstrong\")"
   ]
  },
  {
   "cell_type": "code",
   "execution_count": 24,
   "id": "d7d28d71",
   "metadata": {},
   "outputs": [
    {
     "name": "stdout",
     "output_type": "stream",
     "text": [
      "There are 2 numbers and 4 letters\n"
     ]
    }
   ],
   "source": [
    "# count number and letters in a string\n",
    "str1 = input(\"Enter a string\")\n",
    "l = len(str1)\n",
    "letters = 0\n",
    "numbers = 0\n",
    "for i in range(0,l):\n",
    "    if str1[i] in [\"0\",\"1\",\"2\",\"3\",\"4\",\"5\",\"6\",\"7\",\"8\",\"9\"]:\n",
    "        numbers = numbers + 1\n",
    "    else:\n",
    "        letters = letters + 1\n",
    "print(f\"There are {numbers} numbers and {letters} letters\")"
   ]
  },
  {
   "cell_type": "code",
   "execution_count": 27,
   "id": "807781fa",
   "metadata": {},
   "outputs": [
    {
     "name": "stdout",
     "output_type": "stream",
     "text": [
      "There are 2 numbers and 5 letters\n"
     ]
    }
   ],
   "source": [
    "str1 = input(\"Enter a string\")\n",
    "letters = 0\n",
    "numbers = 0\n",
    "for i in str1:\n",
    "    if i.isalpha():\n",
    "        letters = letters + 1\n",
    "    elif i.isdigit():\n",
    "        numbers = numbers + 1\n",
    "print(f\"There are {numbers} numbers and {letters} letters\")"
   ]
  },
  {
   "cell_type": "code",
   "execution_count": 25,
   "id": "dbccfd5a",
   "metadata": {},
   "outputs": [
    {
     "name": "stdout",
     "output_type": "stream",
     "text": [
      "The decimal value of 10111 is 23\n"
     ]
    }
   ],
   "source": [
    "# binary to decimal\n",
    "bin = int(input(\"Enter binary numbers\"))\n",
    "a = bin\n",
    "n = 0\n",
    "dec = 0\n",
    "while a > 0:\n",
    "    r = a % 10\n",
    "    dec = dec + (r * 2) ** n\n",
    "    n+=1\n",
    "    a = a//10\n",
    "print(f\"The decimal value of {bin} is {dec}\")"
   ]
  },
  {
   "cell_type": "code",
   "execution_count": 29,
   "id": "d4aad82b",
   "metadata": {},
   "outputs": [
    {
     "name": "stdout",
     "output_type": "stream",
     "text": [
      "6 is even\n",
      "5 is odd\n",
      "4 is even\n",
      "3 is odd\n",
      "2 is even\n",
      "1 is odd\n"
     ]
    }
   ],
   "source": [
    "# even and odd numbers till a certain number\n",
    "n = int(input(\"Enter a number\"))\n",
    "while n > 0:\n",
    "    if n % 2 == 0:\n",
    "        print(n,\"is even\")\n",
    "    else:\n",
    "        print(n,\"is odd\")\n",
    "    n-=1"
   ]
  },
  {
   "cell_type": "code",
   "execution_count": 35,
   "id": "0c5de072",
   "metadata": {},
   "outputs": [
    {
     "name": "stdout",
     "output_type": "stream",
     "text": [
      "6\n"
     ]
    }
   ],
   "source": [
    "n = int(input(\"Enter a number\"))\n",
    "sum = 0\n",
    "while n > 0:\n",
    "    r = n % 10\n",
    "    sum = sum + r\n",
    "    n = n // 10\n",
    "print(sum)"
   ]
  },
  {
   "cell_type": "code",
   "execution_count": 39,
   "id": "18009151",
   "metadata": {},
   "outputs": [
    {
     "name": "stdout",
     "output_type": "stream",
     "text": [
      "4321\n"
     ]
    }
   ],
   "source": [
    "n = int(input(\"Enter a number\"))\n",
    "rev = 0\n",
    "while n > 0:\n",
    "    rev = rev * 10 + n % 10\n",
    "    n = n // 10\n",
    "print(rev)"
   ]
  },
  {
   "cell_type": "code",
   "execution_count": 40,
   "id": "5647cf3e",
   "metadata": {},
   "outputs": [
    {
     "name": "stdout",
     "output_type": "stream",
     "text": [
      "1\n",
      "2\n",
      "3\n",
      "4\n",
      "6\n",
      "7\n"
     ]
    }
   ],
   "source": [
    "num = 1\n",
    "while num <= 10:\n",
    "    if num == 5:\n",
    "        num += 1\n",
    "        continue\n",
    "    if num == 8:\n",
    "        break\n",
    "    print(num)\n",
    "    num = num + 1"
   ]
  },
  {
   "cell_type": "code",
   "execution_count": 61,
   "id": "6195e8f4",
   "metadata": {},
   "outputs": [
    {
     "name": "stdout",
     "output_type": "stream",
     "text": [
      "one hundred\n"
     ]
    }
   ],
   "source": [
    "# take an integer between 0 to 999 from user and print numbers in words\n",
    "num = int(input(\"Enter a 3 digit number\"))\n",
    "ones = [\"zero\", \"one\", \"two\", \"three\", \"four\", \"five\", \"six\", \"seven\",\"eight\", \"nine\", \"ten\", \"eleven\", \"twelve\", \"thirteen\", \"fourteen\",\"fifteen\", \"sixteen\",\n",
    "         \"seventeen\", \"eighteen\", \"nineteen\"]\n",
    "tens = [\"\", \"\", \"twenty\", \"thirty\", \"forty\", \"fifty\",\"sixty\", \"seventy\", \"eighty\", \"ninety\"]\n",
    "hundreds = [\"\",\"one hundred\",\"two hundred\", \"three hundred\", \"four hundred\", \"five hundred\", \"six hundred\", \"seven hundred\",\"eight hundred\", \"nine hundred\"]\n",
    "if 0<=num<20:\n",
    "    print(ones[num])\n",
    "elif 20<=num<100:\n",
    "    if num%10 == 0:\n",
    "        print(tens[num // 10])\n",
    "    else:\n",
    "        print(tens[num // 10],ones[num % 10])\n",
    "elif 100<=num<1000:\n",
    "    if num%100 == 0 :\n",
    "        print(hundreds[num // 100])\n",
    "    elif num % 10 == 0:\n",
    "        print(hundreds[num // 100],tens[(num // 10)%10])\n",
    "    else:\n",
    "        print(hundreds[num // 100],tens[(num // 10)%10],ones[num % 10])\n",
    "else:\n",
    "    print(\"The number is not between 0 to 999\")\n",
    "\n"
   ]
  },
  {
   "cell_type": "code",
   "execution_count": 50,
   "id": "d2310c39",
   "metadata": {},
   "outputs": [
    {
     "name": "stdout",
     "output_type": "stream",
     "text": [
      "Computer chooses: sissors\n",
      "You win!!\n"
     ]
    }
   ],
   "source": [
    "# create rock paper sissor using random\n",
    "import random\n",
    "choices = [\"rock\",\"paper\",\"sissors\"]\n",
    "player = input(\"Enter rock, paper or sissors:\")\n",
    "computer = random.choice(choices)\n",
    "print(\"Computer chooses:\",computer)\n",
    "if player == computer:\n",
    "    print(\"Its a tie\")\n",
    "elif (player == \"rock\" and computer == \"sissors\") or (player == \"paper\" and computer == \"rock\") or (player == \"sissors\" and computer == \"paper\"):\n",
    "    print(\"You win!!\")\n",
    "else:\n",
    "    print(\"You lost\")"
   ]
  },
  {
   "cell_type": "code",
   "execution_count": 60,
   "id": "11783652",
   "metadata": {},
   "outputs": [
    {
     "name": "stdout",
     "output_type": "stream",
     "text": [
      "     July 2025\n",
      "Mo Tu We Th Fr Sa Su\n",
      "    1  2  3  4  5  6\n",
      " 7  8  9 10 11 12 13\n",
      "14 15 16 17 18 19 20\n",
      "21 22 23 24 25 26 27\n",
      "28 29 30 31\n",
      "\n"
     ]
    }
   ],
   "source": [
    "import calendar\n",
    "year = int(input(\"Enter a year:\"))\n",
    "month = int(input(\"Enter a month:\"))\n",
    "print(calendar.month(year,month))"
   ]
  },
  {
   "cell_type": "code",
   "execution_count": 65,
   "id": "6b4a284f",
   "metadata": {},
   "outputs": [
    {
     "name": "stdout",
     "output_type": "stream",
     "text": [
      "                                  2020\n",
      "\n",
      "      January                   February                   March\n",
      "Mo Tu We Th Fr Sa Su      Mo Tu We Th Fr Sa Su      Mo Tu We Th Fr Sa Su\n",
      "       1  2  3  4  5                      1  2                         1\n",
      " 6  7  8  9 10 11 12       3  4  5  6  7  8  9       2  3  4  5  6  7  8\n",
      "13 14 15 16 17 18 19      10 11 12 13 14 15 16       9 10 11 12 13 14 15\n",
      "20 21 22 23 24 25 26      17 18 19 20 21 22 23      16 17 18 19 20 21 22\n",
      "27 28 29 30 31            24 25 26 27 28 29         23 24 25 26 27 28 29\n",
      "                                                    30 31\n",
      "\n",
      "       April                      May                       June\n",
      "Mo Tu We Th Fr Sa Su      Mo Tu We Th Fr Sa Su      Mo Tu We Th Fr Sa Su\n",
      "       1  2  3  4  5                   1  2  3       1  2  3  4  5  6  7\n",
      " 6  7  8  9 10 11 12       4  5  6  7  8  9 10       8  9 10 11 12 13 14\n",
      "13 14 15 16 17 18 19      11 12 13 14 15 16 17      15 16 17 18 19 20 21\n",
      "20 21 22 23 24 25 26      18 19 20 21 22 23 24      22 23 24 25 26 27 28\n",
      "27 28 29 30               25 26 27 28 29 30 31      29 30\n",
      "\n",
      "        July                     August                  September\n",
      "Mo Tu We Th Fr Sa Su      Mo Tu We Th Fr Sa Su      Mo Tu We Th Fr Sa Su\n",
      "       1  2  3  4  5                      1  2          1  2  3  4  5  6\n",
      " 6  7  8  9 10 11 12       3  4  5  6  7  8  9       7  8  9 10 11 12 13\n",
      "13 14 15 16 17 18 19      10 11 12 13 14 15 16      14 15 16 17 18 19 20\n",
      "20 21 22 23 24 25 26      17 18 19 20 21 22 23      21 22 23 24 25 26 27\n",
      "27 28 29 30 31            24 25 26 27 28 29 30      28 29 30\n",
      "                          31\n",
      "\n",
      "      October                   November                  December\n",
      "Mo Tu We Th Fr Sa Su      Mo Tu We Th Fr Sa Su      Mo Tu We Th Fr Sa Su\n",
      "          1  2  3  4                         1          1  2  3  4  5  6\n",
      " 5  6  7  8  9 10 11       2  3  4  5  6  7  8       7  8  9 10 11 12 13\n",
      "12 13 14 15 16 17 18       9 10 11 12 13 14 15      14 15 16 17 18 19 20\n",
      "19 20 21 22 23 24 25      16 17 18 19 20 21 22      21 22 23 24 25 26 27\n",
      "26 27 28 29 30 31         23 24 25 26 27 28 29      28 29 30 31\n",
      "                          30\n",
      "\n"
     ]
    }
   ],
   "source": [
    "# create a calender where user enters a year\n",
    "import calendar\n",
    "year = int(input(\"Enter a year:\"))\n",
    "print(calendar.calendar(year))"
   ]
  },
  {
   "cell_type": "code",
   "execution_count": null,
   "id": "639f9f75",
   "metadata": {},
   "outputs": [],
   "source": []
  }
 ],
 "metadata": {
  "kernelspec": {
   "display_name": "myenv",
   "language": "python",
   "name": "python3"
  },
  "language_info": {
   "codemirror_mode": {
    "name": "ipython",
    "version": 3
   },
   "file_extension": ".py",
   "mimetype": "text/x-python",
   "name": "python",
   "nbconvert_exporter": "python",
   "pygments_lexer": "ipython3",
   "version": "3.11.13"
  }
 },
 "nbformat": 4,
 "nbformat_minor": 5
}
