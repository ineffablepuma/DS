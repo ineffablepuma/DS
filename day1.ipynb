{
 "cells": [
  {
   "cell_type": "code",
   "execution_count": 2,
   "id": "879c471d",
   "metadata": {},
   "outputs": [
    {
     "name": "stdout",
     "output_type": "stream",
     "text": [
      "hello\n"
     ]
    }
   ],
   "source": [
    "print(\"hello\")"
   ]
  },
  {
   "cell_type": "code",
   "execution_count": 3,
   "id": "7d18a599",
   "metadata": {},
   "outputs": [],
   "source": [
    "#single line comment"
   ]
  },
  {
   "cell_type": "code",
   "execution_count": null,
   "id": "ee292bca",
   "metadata": {},
   "outputs": [],
   "source": []
  },
  {
   "cell_type": "code",
   "execution_count": 7,
   "id": "1cd79683",
   "metadata": {},
   "outputs": [
    {
     "name": "stdout",
     "output_type": "stream",
     "text": [
      "55\n"
     ]
    }
   ],
   "source": [
    "num1 = 55 #this is a variable pointing to a memory location\n",
    "print(num1)"
   ]
  },
  {
   "cell_type": "code",
   "execution_count": 8,
   "id": "bdeeaee5",
   "metadata": {},
   "outputs": [
    {
     "name": "stdout",
     "output_type": "stream",
     "text": [
      "5 3\n"
     ]
    }
   ],
   "source": [
    "a,b = 3,5\n",
    "print(b,a)"
   ]
  },
  {
   "cell_type": "code",
   "execution_count": 11,
   "id": "7dc14951",
   "metadata": {},
   "outputs": [
    {
     "name": "stdout",
     "output_type": "stream",
     "text": [
      "<class 'str'>\n",
      "<class 'float'>\n",
      "<class 'bool'>\n"
     ]
    }
   ],
   "source": [
    "my_name = \"Utsav\"\n",
    "print(type(my_name))\n",
    "a = 2.3\n",
    "print(type(a))\n",
    "b = True\n",
    "print(type(b))"
   ]
  },
  {
   "cell_type": "code",
   "execution_count": 13,
   "id": "99bd1909",
   "metadata": {},
   "outputs": [
    {
     "name": "stdout",
     "output_type": "stream",
     "text": [
      "True\n"
     ]
    }
   ],
   "source": [
    "a= 5\n",
    "b = 6 \n",
    "print(a!=b)"
   ]
  },
  {
   "cell_type": "code",
   "execution_count": null,
   "id": "5c229a03",
   "metadata": {},
   "outputs": [
    {
     "name": "stdout",
     "output_type": "stream",
     "text": [
      "[1, 2, 'utsav', False, 10.23]\n",
      "5\n",
      "<class 'list'>\n",
      "False\n"
     ]
    }
   ],
   "source": [
    "#list mutable data type\n",
    "#heterogeneous data type\n",
    "list = [1,2,\"utsav\",False,10.23]\n",
    "print(list)\n",
    "print(len(list))  #how many elements in the list\n",
    "print(type(list)) #type\n",
    "print(list[3]) #accessing fourth element"
   ]
  },
  {
   "cell_type": "code",
   "execution_count": null,
   "id": "2001ceb1",
   "metadata": {},
   "outputs": [
    {
     "name": "stdout",
     "output_type": "stream",
     "text": [
      "[]\n",
      "[4]\n",
      "[4, 5]\n"
     ]
    }
   ],
   "source": [
    "#empty list creation:\n",
    "list = []\n",
    "print(list)\n",
    "list.append(4) #insert item at the end of the list\n",
    "print(list)\n",
    "list.append(5)\n",
    "print(list)"
   ]
  },
  {
   "cell_type": "code",
   "execution_count": null,
   "id": "eca80c8f",
   "metadata": {},
   "outputs": [
    {
     "name": "stdout",
     "output_type": "stream",
     "text": [
      "[1, 2, 'new', 'utsav', False, 10.23]\n"
     ]
    }
   ],
   "source": [
    "list = [1,2,\"utsav\",False,10.23]\n",
    "list.insert(2,\"new\")\n",
    "print(list) #inserting at index 2, third position"
   ]
  },
  {
   "cell_type": "code",
   "execution_count": 29,
   "id": "0d17a95b",
   "metadata": {},
   "outputs": [
    {
     "name": "stdout",
     "output_type": "stream",
     "text": [
      "4\n",
      "10.23\n",
      "2\n",
      "[1, 2, 2, 2]\n"
     ]
    }
   ],
   "source": [
    "list = [1,2,2,2,2,10.23]\n",
    "print(list.count(2)) #counting how many times 2 appears in the list\n",
    "print(list.pop()) #removing last element and returning it\n",
    "print(list.pop(3)) \n",
    "print(list) #list after pop"
   ]
  },
  {
   "cell_type": "code",
   "execution_count": 1,
   "id": "052f580b",
   "metadata": {},
   "outputs": [
    {
     "name": "stdout",
     "output_type": "stream",
     "text": [
      "40\n"
     ]
    }
   ],
   "source": [
    "#create an empty list and insert atleast 5 elements and use pop to remove the item.\n",
    "mylist = []\n",
    "mylist.append(10)   \n",
    "mylist.append(20)\n",
    "mylist.append(30)\n",
    "mylist.append(40)\n",
    "mylist.append(50)\n",
    "print(mylist.pop(3))"
   ]
  },
  {
   "cell_type": "code",
   "execution_count": 3,
   "id": "fd185341",
   "metadata": {},
   "outputs": [
    {
     "name": "stdout",
     "output_type": "stream",
     "text": [
      "[2, 'utsav']\n"
     ]
    }
   ],
   "source": [
    "newlist = [1,2,\"utsav\",False,10.23]\n",
    "print(newlist[1:3])  #slicing the list from index 1 to 2"
   ]
  },
  {
   "cell_type": "code",
   "execution_count": 4,
   "id": "b2abfebb",
   "metadata": {},
   "outputs": [
    {
     "name": "stdout",
     "output_type": "stream",
     "text": [
      "[1, 2, 'utsav', False, 10.23, [6, 7, 8]]\n"
     ]
    }
   ],
   "source": [
    "newlist.append([6,7,8])\n",
    "print(newlist)  #appending a new list to the existing list"
   ]
  },
  {
   "cell_type": "code",
   "execution_count": 7,
   "id": "4f289307",
   "metadata": {},
   "outputs": [
    {
     "name": "stdout",
     "output_type": "stream",
     "text": [
      "[6, 7, 8]\n"
     ]
    }
   ],
   "source": [
    "print(newlist[5])  #slicing the list from index 1 to 3"
   ]
  },
  {
   "cell_type": "code",
   "execution_count": null,
   "id": "b8d5a79e",
   "metadata": {},
   "outputs": [
    {
     "name": "stdout",
     "output_type": "stream",
     "text": [
      "[1, 'utsav', False, 10.23, [6, 7, 8]]\n"
     ]
    }
   ],
   "source": [
    "newlist.remove(2)  #removing the first occurrence of 2\n",
    "print(newlist)  #slicing the list from index 1 to 3"
   ]
  },
  {
   "cell_type": "code",
   "execution_count": 17,
   "id": "7f2f6749",
   "metadata": {},
   "outputs": [
    {
     "name": "stdout",
     "output_type": "stream",
     "text": [
      "[10, 30, 40, 50, 60, 70, 80, 90, 100]\n",
      "50\n",
      "[10, 30, 40, 60, 70, 80, 90, 100]\n",
      "[10, 30, 40, 60, 80, 90, 100]\n",
      "1\n"
     ]
    }
   ],
   "source": [
    "list1 = [10,20,30,40,50,60,70,80,90,100]\n",
    "list1.remove(20)  #removing first occurrence of 20\n",
    "print(list1)  #list after removing 20\n",
    "print(list1.pop(3))  #removing element at index 3\n",
    "print (list1)  #list after pop\n",
    "del list1[4]  #deleting element at index 4\n",
    "print(list1)  #list after deleting index 4\n",
    "print(list1.index(30))  #finding index of first occurrence of 30"
   ]
  },
  {
   "cell_type": "code",
   "execution_count": 18,
   "id": "0f0c0b71",
   "metadata": {},
   "outputs": [
    {
     "name": "stdout",
     "output_type": "stream",
     "text": [
      "[0, 1, 3, 4, 7, 8, 9]\n"
     ]
    }
   ],
   "source": [
    "list2 = [4,7,3,8,0,9,1]\n",
    "list2.sort()  #sorting the list in ascending order\n",
    "print(list2)  #sorted list"
   ]
  },
  {
   "cell_type": "code",
   "execution_count": 19,
   "id": "984d055c",
   "metadata": {},
   "outputs": [
    {
     "name": "stdout",
     "output_type": "stream",
     "text": [
      "[9, 8, 7, 4, 3, 1, 0]\n"
     ]
    }
   ],
   "source": [
    "list2.sort(reverse=True)  #sorting the list in descending order\n",
    "print(list2)  #sorted list in descending order"
   ]
  },
  {
   "cell_type": "code",
   "execution_count": 20,
   "id": "97867ffd",
   "metadata": {},
   "outputs": [
    {
     "name": "stdout",
     "output_type": "stream",
     "text": [
      "[0, 1, 3, 4, 7, 8, 9]\n"
     ]
    }
   ],
   "source": [
    "list2.reverse()  #reversing the list\n",
    "print(list2)  #reversed list"
   ]
  },
  {
   "cell_type": "code",
   "execution_count": 3,
   "id": "e3583b86",
   "metadata": {},
   "outputs": [
    {
     "name": "stdout",
     "output_type": "stream",
     "text": [
      "[]\n"
     ]
    }
   ],
   "source": [
    "list2 = [4,7,3,8,0,9,1]\n",
    "list2.clear()  #clearing the list\n",
    "print(list2)  #list after clearing, should be empty"
   ]
  },
  {
   "cell_type": "code",
   "execution_count": 4,
   "id": "5a84a229",
   "metadata": {},
   "outputs": [
    {
     "name": "stdout",
     "output_type": "stream",
     "text": [
      "[1, 2, 3, 4, 5, 6, 7, 8]\n"
     ]
    }
   ],
   "source": [
    "list3 = [1,2,3,4,5]\n",
    "list3.extend([6,7,8]) #extending the list with another list\n",
    "print(list3)  #list after extending"
   ]
  },
  {
   "cell_type": "code",
   "execution_count": null,
   "id": "13b28d50",
   "metadata": {},
   "outputs": [
    {
     "name": "stdout",
     "output_type": "stream",
     "text": [
      "[2, 3, 4]\n"
     ]
    }
   ],
   "source": [
    "print(list3[1:4]) #1 dekhii 3 samma slice"
   ]
  },
  {
   "cell_type": "code",
   "execution_count": null,
   "id": "8ab00d89",
   "metadata": {},
   "outputs": [
    {
     "name": "stdout",
     "output_type": "stream",
     "text": [
      "[20, 40, 60, 80]\n"
     ]
    }
   ],
   "source": [
    "list4 = [10,20,30,40,50,60,70,80,90,100]\n",
    "print(list4[1:9:2])  #slicing the list from index 2 to 9 with a step of 2"
   ]
  },
  {
   "cell_type": "code",
   "execution_count": 9,
   "id": "2d554c63",
   "metadata": {},
   "outputs": [
    {
     "name": "stdout",
     "output_type": "stream",
     "text": [
      "[1, 3, 4, 5, 2]\n"
     ]
    }
   ],
   "source": [
    "list5 = [1,2,3,4,5,2]\n",
    "list5.remove(2)  #removing the first occurrence of 2\n",
    "print(list5)  #list after removing the first occurrence of 2"
   ]
  },
  {
   "cell_type": "code",
   "execution_count": 10,
   "id": "42d45539",
   "metadata": {},
   "outputs": [
    {
     "name": "stdout",
     "output_type": "stream",
     "text": [
      "[]\n"
     ]
    }
   ],
   "source": [
    "list6 = []\n",
    "list5.copy()  #copying list5 to list6\n",
    "print(list6)  #list6 should be empty as list5 was cleared"
   ]
  },
  {
   "cell_type": "code",
   "execution_count": 12,
   "id": "589527db",
   "metadata": {},
   "outputs": [
    {
     "name": "stdout",
     "output_type": "stream",
     "text": [
      "[2, 5, 4, 3, 1]\n"
     ]
    }
   ],
   "source": [
    "print(list5[::-1])  #list after reversing using slicing"
   ]
  },
  {
   "cell_type": "code",
   "execution_count": 14,
   "id": "fb7f1036",
   "metadata": {},
   "outputs": [
    {
     "data": {
      "text/plain": [
       "()"
      ]
     },
     "execution_count": 14,
     "metadata": {},
     "output_type": "execute_result"
    }
   ],
   "source": [
    "# tupples  is an immutable data type\n",
    "()"
   ]
  },
  {
   "cell_type": "code",
   "execution_count": null,
   "id": "f313c565",
   "metadata": {},
   "outputs": [
    {
     "name": "stdout",
     "output_type": "stream",
     "text": [
      "(1, 2, 3, 4, 5)\n",
      "<class 'tuple'>\n"
     ]
    }
   ],
   "source": [
    "tupple1 = (1, 2, \"st\", 4.5, 5)\n",
    "print(tupple1)  # printing the tuple\n",
    "print(type(tupple1))  # checking the type of the tuple"
   ]
  },
  {
   "cell_type": "code",
   "execution_count": 17,
   "id": "60cbd82a",
   "metadata": {},
   "outputs": [
    {
     "name": "stdout",
     "output_type": "stream",
     "text": [
      "(1, 2, 3, 4, (5, 6, 7))\n",
      "(1, 2, 3, 4, 5, [6, 7, 8])\n"
     ]
    }
   ],
   "source": [
    "tuple2 = (1, 2, 3, 4, (5, 6, 7))  # tuple with nested tuple\n",
    "print(tuple2)  # printing the nested tuple\n",
    "tuple3 = (1, 2, 3, 4, 5 ,[6, 7, 8])  # tuple with a list\n",
    "print(tuple3)  # printing the tuple with a list"
   ]
  },
  {
   "cell_type": "code",
   "execution_count": 20,
   "id": "248eec5c",
   "metadata": {},
   "outputs": [
    {
     "name": "stdout",
     "output_type": "stream",
     "text": [
      "1\n",
      "4\n"
     ]
    }
   ],
   "source": [
    "print(tuple3.count(2))  # counting occurrences of 2 in tuple3\n",
    "print(tuple3.index(5))  # finding index of first occurrence of 3 in tuple"
   ]
  },
  {
   "cell_type": "code",
   "execution_count": 22,
   "id": "babcb132",
   "metadata": {},
   "outputs": [
    {
     "name": "stdout",
     "output_type": "stream",
     "text": [
      "<class 'str'>\n"
     ]
    }
   ],
   "source": [
    "t = (\"utsav\")\n",
    "print(type(t))  # checking the type which is string"
   ]
  },
  {
   "cell_type": "code",
   "execution_count": 23,
   "id": "a6ef8c46",
   "metadata": {},
   "outputs": [
    {
     "name": "stdout",
     "output_type": "stream",
     "text": [
      "<class 'list'>\n"
     ]
    }
   ],
   "source": [
    "l = [\"utsav\"]\n",
    "print(type(l))  # checking the type which is list"
   ]
  },
  {
   "cell_type": "code",
   "execution_count": 27,
   "id": "9cafb4f0",
   "metadata": {},
   "outputs": [
    {
     "name": "stdout",
     "output_type": "stream",
     "text": [
      "1\n",
      "('hello', 3.14)\n",
      "3.14\n"
     ]
    }
   ],
   "source": [
    "# create a tuple with atleast 4 element of different data type and try slicing and indexing\n",
    "tuple4 = (1, \"hello\", 3.14, True)\n",
    "print(tuple4.index(\"hello\"))  # finding index of \"hello\"\n",
    "print(tuple4[1:3])  # slicing the tuple from index 1 to 2\n",
    "print(tuple4[2])  # accessing the third element of the tuple"
   ]
  },
  {
   "cell_type": "code",
   "execution_count": 31,
   "id": "420d52a2",
   "metadata": {},
   "outputs": [
    {
     "name": "stdout",
     "output_type": "stream",
     "text": [
      "(1, (1, 2, 3), ['x', 5, 6])\n",
      "(1, (1, 2, 3), ['x', 5, 'y'])\n"
     ]
    }
   ],
   "source": [
    "t = (1,(1,2,3),[4,5,6])\n",
    "t[2][0] = \"x\"\n",
    "print(t)  # printing the modified tuple with list element changed\n",
    "t[2][2] = \"y\"  # modifying the third element of the list inside the tuple\n",
    "print(t)  # printing the tuple after modification"
   ]
  },
  {
   "cell_type": "code",
   "execution_count": 32,
   "id": "0c738b84",
   "metadata": {},
   "outputs": [
    {
     "name": "stdout",
     "output_type": "stream",
     "text": [
      "(1, 2, 3, 4, 5, 6)\n"
     ]
    }
   ],
   "source": [
    "#concatenate tuples\n",
    "t = (1, 2, 3) + (4, 5, 6)\n",
    "print(t)  # printing the concatenated tuple"
   ]
  },
  {
   "cell_type": "code",
   "execution_count": 34,
   "id": "379a2131",
   "metadata": {},
   "outputs": [
    {
     "name": "stdout",
     "output_type": "stream",
     "text": [
      "True\n",
      "1\n"
     ]
    }
   ],
   "source": [
    "#in: membership operator return boolean value\n",
    "t = (1, 2, 3, 4, 5, 6, 7, 8, 9)\n",
    "print(4 in t)  # checking if 4 is in the tuple \n",
    "print(min(t))  # finding the minimum value in the tuple"
   ]
  },
  {
   "cell_type": "code",
   "execution_count": 39,
   "id": "4d041c8e",
   "metadata": {},
   "outputs": [
    {
     "ename": "TypeError",
     "evalue": "'list' object is not callable",
     "output_type": "error",
     "traceback": [
      "\u001b[31m---------------------------------------------------------------------------\u001b[39m",
      "\u001b[31mTypeError\u001b[39m                                 Traceback (most recent call last)",
      "\u001b[36mCell\u001b[39m\u001b[36m \u001b[39m\u001b[32mIn[39]\u001b[39m\u001b[32m, line 2\u001b[39m\n\u001b[32m      1\u001b[39m t = (\u001b[32m1\u001b[39m, \u001b[32m2\u001b[39m, \u001b[32m3\u001b[39m, \u001b[32m4\u001b[39m, \u001b[32m5\u001b[39m, \u001b[32m6\u001b[39m, \u001b[32m7\u001b[39m, \u001b[32m8\u001b[39m, \u001b[32m9\u001b[39m)\n\u001b[32m----> \u001b[39m\u001b[32m2\u001b[39m \u001b[38;5;28mlist\u001b[39m = \u001b[38;5;28;43mlist\u001b[39;49m\u001b[43m(\u001b[49m\u001b[43mt\u001b[49m\u001b[43m)\u001b[49m  \u001b[38;5;66;03m# converting tuple to list\u001b[39;00m\n\u001b[32m      3\u001b[39m \u001b[38;5;28mprint\u001b[39m(\u001b[38;5;28mlist\u001b[39m)  \u001b[38;5;66;03m# printing the list converted from tuple\u001b[39;00m\n",
      "\u001b[31mTypeError\u001b[39m: 'list' object is not callable"
     ]
    }
   ],
   "source": [
    "t = (1, 2, 3, 4, 5, 6, 7, 8, 9)\n",
    "list = list(t)  # converting tuple to list\n",
    "print(list)  # printing the list converted from tuple"
   ]
  },
  {
   "cell_type": "code",
   "execution_count": 40,
   "id": "1df4e01d",
   "metadata": {},
   "outputs": [
    {
     "name": "stdout",
     "output_type": "stream",
     "text": [
      "{1, 2, 3, 4, 5}\n",
      "{1, 2, 3, 4, 5, 6}\n",
      "{1, 2, 3, 4, 5}\n"
     ]
    }
   ],
   "source": [
    "# python sets, mutable, unordered\n",
    "sets = {1, 2, 3, 4, 5}\n",
    "print(sets)  # printing the set\n",
    "sets.add(6)  # adding an element to the set\n",
    "print(sets)  # printing the set after adding an element \n",
    "set1 = {1, 1, 2, 3, 4, 5 ,1}\n",
    "print(set1)  # printing the set with duplicate elements, should show unique elements only\n"
   ]
  },
  {
   "cell_type": "code",
   "execution_count": 41,
   "id": "d428f9e2",
   "metadata": {},
   "outputs": [
    {
     "name": "stdout",
     "output_type": "stream",
     "text": [
      "<class 'dict'>\n"
     ]
    }
   ],
   "source": [
    "sets = {}\n",
    "print(type(sets))  # printing the type of sets, should be dict as empty set is created with {}"
   ]
  },
  {
   "cell_type": "code",
   "execution_count": null,
   "id": "983b2958",
   "metadata": {},
   "outputs": [
    {
     "name": "stdout",
     "output_type": "stream",
     "text": [
      "<class 'set'>\n"
     ]
    }
   ],
   "source": [
    "s = set() #set() class\n",
    "print(type(s))  # printing the type of s, should be set"
   ]
  },
  {
   "cell_type": "code",
   "execution_count": 49,
   "id": "6be95e63",
   "metadata": {},
   "outputs": [
    {
     "name": "stdout",
     "output_type": "stream",
     "text": [
      "{1, 2, 3, 4}\n"
     ]
    }
   ],
   "source": [
    "# to insert item in set we use add() method\n",
    "sets = {1, 2, 3}\n",
    "sets.add(4)  # adding an element to the set\n",
    "print(sets)  # printing the set after adding an element"
   ]
  },
  {
   "cell_type": "code",
   "execution_count": 50,
   "id": "4b7b8e28",
   "metadata": {},
   "outputs": [
    {
     "name": "stdout",
     "output_type": "stream",
     "text": [
      "{1, 2, 3, 4, 5, 6, 7}\n"
     ]
    }
   ],
   "source": [
    "sets.update([5, 6, 7])  # adding multiple elements to the set\n",
    "print(sets)  # printing the set after adding multiple elements"
   ]
  },
  {
   "cell_type": "code",
   "execution_count": 51,
   "id": "78cd8091",
   "metadata": {},
   "outputs": [
    {
     "name": "stdout",
     "output_type": "stream",
     "text": [
      "{1, 2, 3, 4, 6, 7}\n",
      "{1, 2, 3, 4, 7}\n"
     ]
    }
   ],
   "source": [
    "sets.discard(5)  # removing an element from the set\n",
    "print(sets)  # printing the set after discarding an element\n",
    "sets.remove(6)  # removing an element from the set4\n",
    "print(sets)  # printing the set after removing an element"
   ]
  },
  {
   "cell_type": "code",
   "execution_count": 52,
   "id": "87780b6f",
   "metadata": {},
   "outputs": [
    {
     "name": "stdout",
     "output_type": "stream",
     "text": [
      "{2, 3, 4, 7}\n"
     ]
    }
   ],
   "source": [
    "sets.pop()  # removing and returning an arbitrary element from the set\n",
    "print(sets)  # printing the set after pop"
   ]
  },
  {
   "cell_type": "code",
   "execution_count": 55,
   "id": "889a1d74",
   "metadata": {},
   "outputs": [
    {
     "name": "stdout",
     "output_type": "stream",
     "text": [
      "{1, 2, 3, 'ranjitkar', 'utsav'}\n"
     ]
    }
   ],
   "source": [
    "# set operations\n",
    "set1 = {1, 2, \"utsav\"}\n",
    "set2 = {2, 3, \"ranjitkar\"}\n",
    "set3 = set1.union(set2)  # union of two sets\n",
    "print(set3)  # printing the union of set1 and set2"
   ]
  },
  {
   "cell_type": "code",
   "execution_count": 56,
   "id": "43faf02a",
   "metadata": {},
   "outputs": [
    {
     "name": "stdout",
     "output_type": "stream",
     "text": [
      "{2}\n"
     ]
    }
   ],
   "source": [
    "set4 = set1.intersection(set2)  # intersection of two sets\n",
    "print(set4)  # printing the intersection of set1 and set2"
   ]
  },
  {
   "cell_type": "code",
   "execution_count": 57,
   "id": "4a877487",
   "metadata": {},
   "outputs": [
    {
     "name": "stdout",
     "output_type": "stream",
     "text": [
      "{1, 'utsav'}\n"
     ]
    }
   ],
   "source": [
    "set5 = set1.difference(set2)  # difference of two sets\n",
    "print(set5)  # printing the difference of set1 and set2"
   ]
  },
  {
   "cell_type": "code",
   "execution_count": 58,
   "id": "ce2e1b01",
   "metadata": {},
   "outputs": [
    {
     "name": "stdout",
     "output_type": "stream",
     "text": [
      "{2}\n",
      "{1, 2, 3, 'ranjitkar', 'utsav'}\n"
     ]
    }
   ],
   "source": [
    "set6 = set1 & set2  # another way to find intersection\n",
    "print(set6)  # printing the intersection using '&' operator\n",
    "set7 = set1 | set2  # another way to find union\n",
    "print(set7)  # printing the union using '|' operator"
   ]
  },
  {
   "cell_type": "code",
   "execution_count": 59,
   "id": "e8e6eb1e",
   "metadata": {},
   "outputs": [
    {
     "name": "stdout",
     "output_type": "stream",
     "text": [
      "frozenset({1, 2, 3})\n"
     ]
    }
   ],
   "source": [
    "set1 = frozenset({1, 2, 3})  # creating a frozenset\n",
    "print(set1)  # printing the frozenset\n",
    "#immutable unordered collection of unique elements"
   ]
  },
  {
   "cell_type": "code",
   "execution_count": 2,
   "id": "96a0a35e",
   "metadata": {},
   "outputs": [
    {
     "name": "stdout",
     "output_type": "stream",
     "text": [
      "<class 'tuple'>\n"
     ]
    }
   ],
   "source": [
    "t = (4,)\n",
    "print(type(t))  # checking the type of t, should be tuple"
   ]
  },
  {
   "cell_type": "code",
   "execution_count": 6,
   "id": "e03354c2",
   "metadata": {},
   "outputs": [
    {
     "name": "stdout",
     "output_type": "stream",
     "text": [
      "5\n"
     ]
    }
   ],
   "source": [
    "t2 = (1, 2, 3, 4, 5)\n",
    "print(t2[-1])  # accessing the last element of tuple t2"
   ]
  },
  {
   "cell_type": "code",
   "execution_count": null,
   "id": "3f767bf6",
   "metadata": {},
   "outputs": [
    {
     "name": "stdout",
     "output_type": "stream",
     "text": [
      "(1, 2, 3, 4, 5, 1, 2, 3, 4, 5)\n"
     ]
    }
   ],
   "source": [
    "print(t2 * 2)  # multiplying the tuple t2 by 2, should repeat the elements"
   ]
  },
  {
   "cell_type": "code",
   "execution_count": 11,
   "id": "5b922b93",
   "metadata": {},
   "outputs": [
    {
     "name": "stdout",
     "output_type": "stream",
     "text": [
      "1 2 3\n"
     ]
    }
   ],
   "source": [
    "t3 = (1, 2, 3)\n",
    "a , b, c = t3\n",
    "print(a, b, c)  # unpacking the tuple t3 into variables a, b, c"
   ]
  },
  {
   "cell_type": "code",
   "execution_count": 12,
   "id": "e738bdfa",
   "metadata": {},
   "outputs": [
    {
     "data": {
      "text/plain": [
       "[1, 2, 3]"
      ]
     },
     "execution_count": 12,
     "metadata": {},
     "output_type": "execute_result"
    }
   ],
   "source": [
    "list(t3)  # converting tuple t3 to list, should return [1, 2, 3]"
   ]
  },
  {
   "cell_type": "code",
   "execution_count": 20,
   "id": "cee357f7",
   "metadata": {},
   "outputs": [
    {
     "name": "stdout",
     "output_type": "stream",
     "text": [
      "False\n",
      "True\n",
      "False\n",
      "False\n",
      "False\n"
     ]
    }
   ],
   "source": [
    "a = {1, 2, 3, 4, 6, 7}\n",
    "b = {6, 7, 8, 9, 10}    \n",
    "print(a == b) \n",
    "print(a != b)  # checking if sets a and b are not equal\n",
    "print(a.issubset(b))  # checking if a is a subset of b\n",
    "print(a.issuperset(b))  # checking if a is a superset of b\n",
    "print(a.isdisjoint(b))  # checking if sets a and b are disjoint"
   ]
  },
  {
   "cell_type": "code",
   "execution_count": 21,
   "id": "944e1e5d",
   "metadata": {},
   "outputs": [
    {
     "name": "stdout",
     "output_type": "stream",
     "text": [
      "1\n",
      "2\n",
      "3\n",
      "4\n",
      "6\n",
      "7\n"
     ]
    }
   ],
   "source": [
    "for item in a:\n",
    "    print(item)  # iterating through set a and printing each item"
   ]
  },
  {
   "cell_type": "code",
   "execution_count": 22,
   "id": "8df613fe",
   "metadata": {},
   "outputs": [
    {
     "name": "stdout",
     "output_type": "stream",
     "text": [
      "1 is not even\n",
      "2 is even\n",
      "3 is not even\n",
      "4 is even\n",
      "6 is even\n",
      "7 is not even\n"
     ]
    }
   ],
   "source": [
    "for i in a:\n",
    "    if i % 2 == 0:\n",
    "        print(f\"{i} is even\")\n",
    "    else:\n",
    "        print(f\"{i} is not even\")"
   ]
  },
  {
   "cell_type": "code",
   "execution_count": 23,
   "id": "3a8f9fa2",
   "metadata": {},
   "outputs": [
    {
     "data": {
      "text/plain": [
       "[1, 2, 3, 4, 6, 7]"
      ]
     },
     "execution_count": 23,
     "metadata": {},
     "output_type": "execute_result"
    }
   ],
   "source": [
    "list(a)"
   ]
  },
  {
   "cell_type": "code",
   "execution_count": 24,
   "id": "6a9f7aa2",
   "metadata": {},
   "outputs": [
    {
     "name": "stdout",
     "output_type": "stream",
     "text": [
      "5\n"
     ]
    }
   ],
   "source": [
    "print(len(b))  # printing the length of set b"
   ]
  },
  {
   "cell_type": "code",
   "execution_count": null,
   "id": "08eb0f90",
   "metadata": {},
   "outputs": [],
   "source": [
    "in"
   ]
  }
 ],
 "metadata": {
  "kernelspec": {
   "display_name": "myenv",
   "language": "python",
   "name": "python3"
  },
  "language_info": {
   "codemirror_mode": {
    "name": "ipython",
    "version": 3
   },
   "file_extension": ".py",
   "mimetype": "text/x-python",
   "name": "python",
   "nbconvert_exporter": "python",
   "pygments_lexer": "ipython3",
   "version": "3.11.13"
  }
 },
 "nbformat": 4,
 "nbformat_minor": 5
}
