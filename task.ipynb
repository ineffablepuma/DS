{
 "cells": [
  {
   "cell_type": "code",
   "execution_count": 1,
   "id": "f9ae0804",
   "metadata": {},
   "outputs": [],
   "source": [
    "# 1. Write a Python program to take a string input and count the number of vowels and consonants. (Basic Pyhton)\n",
    "\n",
    "# 2. Pattern Challenge: Print this pattern for n=5:\n",
    "\n",
    "# *\n",
    "# **\n",
    "# ***\n",
    "# ****\n",
    "# *****\n",
    "\n",
    "# 3. Write a Python function that accepts a string and returns the string with vowels removed.\n",
    "\n",
    "# 4. Write a Python class Rectangle with methods to calculate area and perimeter. Create objects and test them. (OOP)\n",
    "\n",
    "# 5. Write a Python program that appends user input to a file until the user types \"exit\".\n",
    "\n",
    "# Note: Use Functions / Loops / Exception Handling where required and use proper naming conventions . . ."
   ]
  },
  {
   "cell_type": "code",
   "execution_count": 4,
   "id": "2ff4b72b",
   "metadata": {},
   "outputs": [
    {
     "name": "stdout",
     "output_type": "stream",
     "text": [
      "Volwels count = 2\n",
      "Consonant count = 3\n"
     ]
    }
   ],
   "source": [
    "# 1. Write a Python program to take a string input and count the number of vowels and consonants. (Basic Pyhton)\n",
    "inp = input(\"Enter a string\")\n",
    "inp = inp.strip()\n",
    "inp = inp.lower()\n",
    "vowels = \"aeiou\"\n",
    "v = 0\n",
    "c = 0\n",
    "for char in inp:\n",
    "    if char.isalpha():\n",
    "        if char in vowels:\n",
    "            v+=1\n",
    "        else:\n",
    "            c+=1\n",
    "print(f\"Volwels count = {v}\")\n",
    "print(f\"Consonant count = {c}\")"
   ]
  },
  {
   "cell_type": "code",
   "execution_count": 13,
   "id": "3b95cdee",
   "metadata": {},
   "outputs": [
    {
     "name": "stdout",
     "output_type": "stream",
     "text": [
      "*\n",
      "**\n",
      "***\n",
      "****\n",
      "*****\n"
     ]
    }
   ],
   "source": [
    "# 2. Pattern Challenge: Print this pattern for n=5:\n",
    "\n",
    "# *\n",
    "# **\n",
    "# ***\n",
    "# ****\n",
    "# *****\n",
    "\n",
    "for i in range(1,6):\n",
    "    print(\"*\" * i)"
   ]
  },
  {
   "cell_type": "code",
   "execution_count": 2,
   "id": "e979c591",
   "metadata": {},
   "outputs": [
    {
     "name": "stdout",
     "output_type": "stream",
     "text": [
      "String without vowels: sczxncn\n"
     ]
    }
   ],
   "source": [
    "#3. Write a Python function that accepts a string and returns the string with vowels removed.\n",
    "def remove_vowels(text):\n",
    "    vowels = \"aeiouAEIOU\"\n",
    "    result = \"\"\n",
    "    for char in text:\n",
    "        if char not in vowels:\n",
    "            result += char\n",
    "    return result\n",
    "\n",
    "inp = input(\"Enter a string: \")\n",
    "print(\"String without vowels:\", remove_vowels(inp))\n"
   ]
  },
  {
   "cell_type": "code",
   "execution_count": 15,
   "id": "f59d4ffa",
   "metadata": {},
   "outputs": [
    {
     "name": "stdout",
     "output_type": "stream",
     "text": [
      "Rectangle 1:\n",
      "Area: 15\n",
      "Perimeter: 16\n",
      "\n",
      "Rectangle 2:\n",
      "Area: 70\n",
      "Perimeter: 34\n"
     ]
    }
   ],
   "source": [
    "# 4. Write a Python class Rectangle with methods to calculate area and perimeter. Create objects and test them. (OOP)\n",
    "class Rectangle:\n",
    "    def __init__(self, length, width):\n",
    "        self.length = length\n",
    "        self.width = width\n",
    "\n",
    "    def area(self):\n",
    "        return self.length * self.width\n",
    "\n",
    "    def perimeter(self):\n",
    "        return 2 * (self.length + self.width)\n",
    "\n",
    "\n",
    "# Create objects and test\n",
    "rect1 = Rectangle(5, 3)\n",
    "rect2 = Rectangle(10, 7)\n",
    "\n",
    "print(\"Rectangle 1:\")\n",
    "print(\"Area:\", rect1.area())\n",
    "print(\"Perimeter:\", rect1.perimeter())\n",
    "\n",
    "print(\"\\nRectangle 2:\")\n",
    "print(\"Area:\", rect2.area())\n",
    "print(\"Perimeter:\", rect2.perimeter())\n"
   ]
  },
  {
   "cell_type": "code",
   "execution_count": 16,
   "id": "52050715",
   "metadata": {},
   "outputs": [
    {
     "name": "stdout",
     "output_type": "stream",
     "text": [
      "Exiting... All input saved to user_input.txt\n"
     ]
    }
   ],
   "source": [
    "file1 = open(\"user_input.txt\", \"a\")\n",
    "while True:\n",
    "    text = input(\"Enter text (type 'exit' to quit): \")\n",
    "    if text.lower() == \"exit\":\n",
    "        print(\"Exiting... All input saved to user_input.txt\")\n",
    "        break\n",
    "    file1.write(text + \"\\n\")\n",
    "\n",
    "file1.close()\n"
   ]
  },
  {
   "cell_type": "code",
   "execution_count": null,
   "id": "4b93009a",
   "metadata": {},
   "outputs": [],
   "source": []
  }
 ],
 "metadata": {
  "kernelspec": {
   "display_name": "myenv",
   "language": "python",
   "name": "python3"
  },
  "language_info": {
   "codemirror_mode": {
    "name": "ipython",
    "version": 3
   },
   "file_extension": ".py",
   "mimetype": "text/x-python",
   "name": "python",
   "nbconvert_exporter": "python",
   "pygments_lexer": "ipython3",
   "version": "3.11.13"
  }
 },
 "nbformat": 4,
 "nbformat_minor": 5
}
